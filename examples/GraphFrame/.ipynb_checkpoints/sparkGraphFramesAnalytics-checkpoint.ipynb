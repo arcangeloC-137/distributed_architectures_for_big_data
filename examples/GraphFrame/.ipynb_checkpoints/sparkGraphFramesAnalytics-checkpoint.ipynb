{
 "cells": [
  {
   "cell_type": "markdown",
   "id": "finished-gathering",
   "metadata": {},
   "source": [
    "# ***Graph Analytics in Spark***\n",
    "\n",
    "GraphFrame provides the parallel implementation of a set of state of the art algorithms for graph analytics\n",
    "- Breadth first search\n",
    "- Shortest paths\n",
    "- Connected components\n",
    "- Strongly connected component\n",
    "- Label propagation\n",
    "- PageRank\n",
    "- ...\n",
    "\n",
    "Custom algorithms can be designed and implemented.\n",
    "\n",
    "Many of these algorithms have to iterate several tiimes on the data on the graph, and in order to manage authomatically failures you need to use a **checkpoint directory**. You create a folder at the beginning of the application, and in this folder there will be stored some intermediate results. \n",
    "\n",
    "**sc.setCheckpointDir(graphframes_ckpts_dir)**\n",
    "\n",
    "If there os a failure, the system can restart the execution from the iteration before the failure.\n",
    "\n",
    "## **Breadth first search**\n",
    "Breadth-first search (BFS) is an algorithm for traversing/searching graph data structures. It finds the shortest path(s) from one vertex (or a set of vertexes) to another vertex (or a set of vertexes.\n",
    "\n",
    "The **bfs(fromExpr, toExpr, edgeFilter=None maxPathLength=10)** method of the GraphFrame class returns the shortest path(s) from the vertexes matching expression fromExpr expression to vertexes matching expression toExpr. \n",
    "\n",
    "If there are many vertexes matching fromExpr and toExpr, only the couple(s) with the shortest length is returned\n",
    "\n",
    "**bfs()** returns a DataFrame containing the selected shortest path(s).\n",
    "- If multiple paths are valid and their length is equal to the shortest length, the returned DataFrame will contain one Row for each path\n",
    "- The number of columns of the returned DataFrame is equal to\n",
    "                (length of the shortest path*2) + 1"
   ]
  },
  {
   "cell_type": "code",
   "execution_count": 1,
   "id": "southeast-virtue",
   "metadata": {},
   "outputs": [],
   "source": [
    "from graphframes import GraphFrame\n",
    "\n",
    "# Vertex DataFrame\n",
    "v = spark.createDataFrame([ (\"u1\", \"Alice\", 34),\\\n",
    "                            (\"u2\", \"Bob\", 36),\\\n",
    "                            (\"u3\", \"Charlie\", 30),\\\n",
    "                            (\"u4\", \"David\", 29),\\\n",
    "                            (\"u5\", \"Esther\", 32),\\\n",
    "                            (\"u6\", \"Fanny\", 36),\\\n",
    "                            (\"u7\", \"Gabby\", 60)],\\\n",
    "                            [\"id\", \"name\", \"age\"])\n",
    "\n",
    "# Edge DataFrame\n",
    "e = spark.createDataFrame([ (\"u1\", \"u2\", \"friend\"),\\\n",
    "                            (\"u2\", \"u3\", \"follow\"),\\\n",
    "                            (\"u3\", \"u2\", \"follow\"),\\\n",
    "                            (\"u6\", \"u3\", \"follow\"),\\\n",
    "                            (\"u5\", \"u6\", \"follow\"),\\\n",
    "                            (\"u5\", \"u4\", \"friend\"),\\\n",
    "                            (\"u4\", \"u1\", \"friend\"),\\\n",
    "                            (\"u1\", \"u5\", \"friend\")],\\\n",
    "                            [\"src\", \"dst\", \"relationship\"])\n",
    "\n",
    "# Create the graph\n",
    "g = GraphFrame(v, e)"
   ]
  },
  {
   "cell_type": "code",
   "execution_count": 2,
   "id": "satellite-tackle",
   "metadata": {},
   "outputs": [],
   "source": [
    "# Search from vertex with name = \"Esther\" to vertex with name = \"Charlie\"\n",
    "shortestPaths = g.bfs(\"name = 'Esther' \", \"name = 'Charlie' \")"
   ]
  },
  {
   "cell_type": "code",
   "execution_count": 3,
   "id": "cleared-multimedia",
   "metadata": {},
   "outputs": [
    {
     "name": "stdout",
     "output_type": "stream",
     "text": [
      "+----------------+----------------+---------------+----------------+-----------------+\n",
      "|            from|              e0|             v1|              e1|               to|\n",
      "+----------------+----------------+---------------+----------------+-----------------+\n",
      "|[u5, Esther, 32]|[u5, u6, follow]|[u6, Fanny, 36]|[u6, u3, follow]|[u3, Charlie, 30]|\n",
      "+----------------+----------------+---------------+----------------+-----------------+\n",
      "\n"
     ]
    }
   ],
   "source": [
    "shortestPaths.show()"
   ]
  },
  {
   "cell_type": "code",
   "execution_count": 4,
   "id": "affected-handle",
   "metadata": {},
   "outputs": [],
   "source": [
    "# Find the shortest path from Alice to a user who is 30 years old\n",
    "shortestPaths = g.bfs(\"name = 'Alice' \", \"age= 30\")"
   ]
  },
  {
   "cell_type": "code",
   "execution_count": 5,
   "id": "thrown-color",
   "metadata": {},
   "outputs": [
    {
     "name": "stdout",
     "output_type": "stream",
     "text": [
      "+---------------+----------------+-------------+----------------+-----------------+\n",
      "|           from|              e0|           v1|              e1|               to|\n",
      "+---------------+----------------+-------------+----------------+-----------------+\n",
      "|[u1, Alice, 34]|[u1, u2, friend]|[u2, Bob, 36]|[u2, u3, follow]|[u3, Charlie, 30]|\n",
      "+---------------+----------------+-------------+----------------+-----------------+\n",
      "\n"
     ]
    }
   ],
   "source": [
    "shortestPaths.show()"
   ]
  },
  {
   "cell_type": "code",
   "execution_count": 6,
   "id": "adequate-sullivan",
   "metadata": {},
   "outputs": [],
   "source": [
    "# Find the shortest path from any user who is less than 31 years old\n",
    "# to any user who is more than 30 years old\n",
    "shortestPaths = g.bfs(\"age<31\", \"age>30\")"
   ]
  },
  {
   "cell_type": "code",
   "execution_count": 7,
   "id": "atomic-daughter",
   "metadata": {},
   "outputs": [
    {
     "name": "stdout",
     "output_type": "stream",
     "text": [
      "+-----------------+----------------+---------------+\n",
      "|             from|              e0|             to|\n",
      "+-----------------+----------------+---------------+\n",
      "|  [u4, David, 29]|[u4, u1, friend]|[u1, Alice, 34]|\n",
      "|[u3, Charlie, 30]|[u3, u2, follow]|  [u2, Bob, 36]|\n",
      "+-----------------+----------------+---------------+\n",
      "\n"
     ]
    }
   ],
   "source": [
    "shortestPaths.show()"
   ]
  },
  {
   "cell_type": "code",
   "execution_count": 8,
   "id": "plain-inventory",
   "metadata": {},
   "outputs": [],
   "source": [
    "# Find the shortest path from Alice to any user who is less\n",
    "# than 31 years old WITHOUT using “follow” edges\n",
    "shortestPaths = g.bfs(\"name = 'Alice' \", \"age<31\", \"relationship<> 'follow' \")"
   ]
  },
  {
   "cell_type": "code",
   "execution_count": 9,
   "id": "colored-gibraltar",
   "metadata": {},
   "outputs": [
    {
     "name": "stdout",
     "output_type": "stream",
     "text": [
      "+---------------+----------------+----------------+----------------+---------------+\n",
      "|           from|              e0|              v1|              e1|             to|\n",
      "+---------------+----------------+----------------+----------------+---------------+\n",
      "|[u1, Alice, 34]|[u1, u5, friend]|[u5, Esther, 32]|[u5, u4, friend]|[u4, David, 29]|\n",
      "+---------------+----------------+----------------+----------------+---------------+\n",
      "\n"
     ]
    }
   ],
   "source": [
    "shortestPaths.show()"
   ]
  },
  {
   "cell_type": "markdown",
   "id": "intense-george",
   "metadata": {},
   "source": [
    "## **Shortest path**\n",
    "The shortest path method selects the length of the shortest path(s) from each vertex to a given set of landmark vertexes. It uses the BFS algorithm for computing the shortest paths.\n",
    "\n",
    "For each vertex, one shortest path for each landmark vertex is computed and its length is returned.\n",
    "\n",
    "**shortestPaths()** returns a DataFrame that:\n",
    "\n",
    "- Contains one record/Row for each distinct vertex of the input graph\n",
    "    - Also for the non-connected ones\n",
    "\n",
    "\n",
    "- Is characterized by the following columns\n",
    "    - One column for each attribute of the vertexes\n",
    "    - distances (type map)\n",
    "    - For each landmark lm it contains one pair (ID lm: length shortest path from the vertex of the current record to lm)\n",
    "    \n",
    "### **This algorithm doesn't consider weighted edges!**"
   ]
  },
  {
   "cell_type": "code",
   "execution_count": 3,
   "id": "equivalent-papua",
   "metadata": {},
   "outputs": [],
   "source": [
    "# Find for each user the length of the shortest path to user u1\n",
    "# Empty results means there are no connections\n",
    "shortestPaths = g.shortestPaths([\"u1\"])"
   ]
  },
  {
   "cell_type": "code",
   "execution_count": 4,
   "id": "informal-cloud",
   "metadata": {},
   "outputs": [
    {
     "name": "stdout",
     "output_type": "stream",
     "text": [
      "+---+-------+---+---------+\n",
      "| id|   name|age|distances|\n",
      "+---+-------+---+---------+\n",
      "| u5| Esther| 32|[u1 -> 2]|\n",
      "| u3|Charlie| 30|       []|\n",
      "| u7|  Gabby| 60|       []|\n",
      "| u6|  Fanny| 36|       []|\n",
      "| u2|    Bob| 36|       []|\n",
      "| u4|  David| 29|[u1 -> 1]|\n",
      "| u1|  Alice| 34|[u1 -> 0]|\n",
      "+---+-------+---+---------+\n",
      "\n"
     ]
    }
   ],
   "source": [
    "shortestPaths.show()"
   ]
  },
  {
   "cell_type": "code",
   "execution_count": 5,
   "id": "threatened-scout",
   "metadata": {},
   "outputs": [],
   "source": [
    "# Find for each user the length of the shortest paths to users u1 and u4\n",
    "shortestPaths = g.shortestPaths([\"u1\", \"u4\"])"
   ]
  },
  {
   "cell_type": "code",
   "execution_count": 7,
   "id": "relevant-collectible",
   "metadata": {},
   "outputs": [
    {
     "name": "stdout",
     "output_type": "stream",
     "text": [
      "+---+-------+---+------------------+\n",
      "| id|   name|age|         distances|\n",
      "+---+-------+---+------------------+\n",
      "| u5| Esther| 32|[u4 -> 1, u1 -> 2]|\n",
      "| u3|Charlie| 30|                []|\n",
      "| u7|  Gabby| 60|                []|\n",
      "| u6|  Fanny| 36|                []|\n",
      "| u2|    Bob| 36|                []|\n",
      "| u4|  David| 29|[u4 -> 0, u1 -> 1]|\n",
      "| u1|  Alice| 34|[u1 -> 0, u4 -> 2]|\n",
      "+---+-------+---+------------------+\n",
      "\n"
     ]
    }
   ],
   "source": [
    "shortestPaths.show()"
   ]
  },
  {
   "cell_type": "markdown",
   "id": "liked-dakota",
   "metadata": {},
   "source": [
    "Suppose you want to select only the records, with lenght with respect to user u4, that is less than 2. To do that you apply a filter like:\n",
    "- **filter(\"distances.u4 < 2\")**"
   ]
  },
  {
   "cell_type": "code",
   "execution_count": 9,
   "id": "domestic-interstate",
   "metadata": {},
   "outputs": [
    {
     "name": "stdout",
     "output_type": "stream",
     "text": [
      "+---+------+---+------------------+\n",
      "| id|  name|age|         distances|\n",
      "+---+------+---+------------------+\n",
      "| u5|Esther| 32|[u4 -> 1, u1 -> 2]|\n",
      "| u4| David| 29|[u4 -> 0, u1 -> 1]|\n",
      "+---+------+---+------------------+\n",
      "\n"
     ]
    }
   ],
   "source": [
    "filteredSP = shortestPaths.filter(\"distances.u4 < 2\")\n",
    "filteredSP.show()"
   ]
  },
  {
   "cell_type": "markdown",
   "id": "harmful-homework",
   "metadata": {},
   "source": [
    "## **Connected Components**\n",
    "\n",
    "A connected component of a graph is a subgraph sg such that:\n",
    "  - Any two vertexes in sg are connected to each other by at least one path\n",
    "  - The set of vertexes in sg is not connected to any additional vertexes in the original graph\n",
    "  - Direction of edges is not considere \n",
    "  \n",
    "**NOTE:** the **connectedComponents()** method of the GraphFrame class returns the connected components of the input graph.\n",
    "- It is an expensive algorithm\n",
    "- It requires setting a Spark checkpoint directory\n",
    "\n",
    "connectedComponents() returns a DataFrame that:\n",
    " - Contains one record/Row for each distinct vertex of the input graph\n",
    " - Is characterized by the following columns\n",
    "    - One column for each attribute of the vertexes\n",
    "    - component (type long), it is an id of the connected component, it's value per sé is not relevant\n",
    "    - It is the identifier of the connected component to which the current vertex has been assigned"
   ]
  },
  {
   "cell_type": "code",
   "execution_count": 10,
   "id": "placed-validation",
   "metadata": {},
   "outputs": [
    {
     "name": "stdout",
     "output_type": "stream",
     "text": [
      "Number of connected components:  2\n"
     ]
    }
   ],
   "source": [
    "# Set checkpoint folder\n",
    "sc.setCheckpointDir(\"./tmp_ckpts\")\n",
    "\n",
    "# Run the algorithm\n",
    "connComp = g.connectedComponents()\n",
    "\n",
    "# Count the number of components\n",
    "nComp = connComp.select(\"component\").distinct().count()\n",
    "print(\"Number of connected components: \", nComp)"
   ]
  },
  {
   "cell_type": "code",
   "execution_count": 11,
   "id": "accredited-vision",
   "metadata": {},
   "outputs": [
    {
     "name": "stdout",
     "output_type": "stream",
     "text": [
      "+---+-------+---+-------------+\n",
      "| id|   name|age|    component|\n",
      "+---+-------+---+-------------+\n",
      "| u1|  Alice| 34| 146028888064|\n",
      "| u2|    Bob| 36| 146028888064|\n",
      "| u3|Charlie| 30| 146028888064|\n",
      "| u4|  David| 29| 146028888064|\n",
      "| u5| Esther| 32| 146028888064|\n",
      "| u6|  Fanny| 36| 146028888064|\n",
      "| u7|  Gabby| 60|1546188226560|\n",
      "+---+-------+---+-------------+\n",
      "\n"
     ]
    }
   ],
   "source": [
    "connComp.show()"
   ]
  },
  {
   "cell_type": "markdown",
   "id": "ranging-crack",
   "metadata": {},
   "source": [
    "## **Strongly Connected Components**\n",
    "A directed subgraph sg is called **strongly connected** if every vertex in sg is reachable from every other vertex in sg. For **undirected graph**, connected and strongly\n",
    "connected components are the same.\n",
    "\n",
    "**stronglyConnectedComponents()** returns a DataFrame that\n",
    "- Contains one record/Row for each distinct vertex of the input graph\n",
    "- Is characterized by the following columns\n",
    "    - One column for each attribute of the vertexes\n",
    "    - component (type long)\n",
    "    - It is the identifier of the strongly connected component to which the current vertex has been assigned"
   ]
  },
  {
   "cell_type": "code",
   "execution_count": 12,
   "id": "conservative-modern",
   "metadata": {},
   "outputs": [
    {
     "name": "stdout",
     "output_type": "stream",
     "text": [
      "Number of strongly connected components:  4\n"
     ]
    }
   ],
   "source": [
    "# Set checkpoint folder\n",
    "sc.setCheckpointDir(\"tmp_ckpts\")\n",
    "\n",
    "# Run the algorithm\n",
    "strongConnComp = g.stronglyConnectedComponents(maxIter=10)\n",
    "\n",
    "# Count the number of strongly connected components\n",
    "nComp=strongConnComp.select(\"component\").distinct().count()\n",
    "print(\"Number of strongly connected components: \", nComp)"
   ]
  },
  {
   "cell_type": "code",
   "execution_count": 13,
   "id": "perfect-short",
   "metadata": {},
   "outputs": [
    {
     "name": "stdout",
     "output_type": "stream",
     "text": [
      "+---+-------+---+-------------+\n",
      "| id|   name|age|    component|\n",
      "+---+-------+---+-------------+\n",
      "| u5| Esther| 32| 498216206336|\n",
      "| u3|Charlie| 30| 146028888064|\n",
      "| u7|  Gabby| 60|1546188226560|\n",
      "| u6|  Fanny| 36|1090921693184|\n",
      "| u2|    Bob| 36| 146028888064|\n",
      "| u4|  David| 29| 498216206336|\n",
      "| u1|  Alice| 34| 498216206336|\n",
      "+---+-------+---+-------------+\n",
      "\n"
     ]
    }
   ],
   "source": [
    "strongConnComp.show()"
   ]
  },
  {
   "cell_type": "markdown",
   "id": "friendly-strap",
   "metadata": {},
   "source": [
    "## **Label Propagation**\n",
    "\n",
    "Label Propagation is an algorithm for detecting communities in graphs\n",
    " - Like clustering but exploiting connectivity\n",
    " - Convergence is not guaranteed (different iterations obtain different results)\n",
    " - One can end up with trivial solutions\n",
    " \n",
    "Each vertex in the network is initially assigned to its own community. At every step, vertexes send their community affiliation to all neighbors and update their state to the mode community affiliation of incoming messages.\n",
    "\n",
    "The **labelPropagation(maxIter)** method of the GraphFrame class runs and returns the result of the label propagation algorithm.\n",
    "\n",
    "**labelPropagation()** returns a DataFrame that\n",
    "- Contains one record/Row for each distinct vertex of the input graph\n",
    "- Is characterized by the following columns\n",
    "  - One column for each attribute of the vertexes\n",
    "  - label (type long)\n",
    "  - It is the identifier of the community to which the current vertex has been assigned"
   ]
  },
  {
   "cell_type": "code",
   "execution_count": 14,
   "id": "specified-buffer",
   "metadata": {},
   "outputs": [],
   "source": [
    "# Run the label propagation algorithm\n",
    "labelComm = g.labelPropagation(10)"
   ]
  },
  {
   "cell_type": "code",
   "execution_count": 15,
   "id": "cubic-intervention",
   "metadata": {},
   "outputs": [
    {
     "name": "stdout",
     "output_type": "stream",
     "text": [
      "+---+-------+---+-------------+\n",
      "| id|   name|age|        label|\n",
      "+---+-------+---+-------------+\n",
      "| u5| Esther| 32| 498216206337|\n",
      "| u3|Charlie| 30| 146028888064|\n",
      "| u7|  Gabby| 60|1546188226560|\n",
      "| u6|  Fanny| 36|1606317768704|\n",
      "| u2|    Bob| 36|1606317768704|\n",
      "| u4|  David| 29| 498216206336|\n",
      "| u1|  Alice| 34| 498216206336|\n",
      "+---+-------+---+-------------+\n",
      "\n"
     ]
    }
   ],
   "source": [
    "labelComm.show()"
   ]
  },
  {
   "cell_type": "markdown",
   "id": "public-integral",
   "metadata": {},
   "source": [
    "## **PageRank**\n",
    "\n",
    "PageRank is the original famous algorithm used by the Google Search engine to rank vertexes (web pages) in a graph by order of importance.\n",
    "- For the Google search engine\n",
    "    - Vertexes are web pages in the World Wide Web,\n",
    "    - Edges are hyperlinks among web pages\n",
    "- It assigns a numerical weighting (importance) to each node\n",
    "\n",
    "It computes a likelihood that a person randomly clicking on links will arrive at any particular web page.\n",
    "For a high PageRank, it is important to:\n",
    "- Have many in-links\n",
    "- Be liked by relevant pages (pages characterized by a high PageRank)\n",
    "\n",
    "Basic idea\n",
    " - Each link’s vote is proportional to the importance of its source page p\n",
    " - If page p with importance PageRank(p) has n out- links, each out-link gets PageRank(p)/n votes\n",
    " - Page p’s importance is the sum of the votes on its in-links\n",
    " \n",
    "### **PageRank algorithm: simple recursive formula**\n",
    "\n",
    "1. Initialize each page’s rank to 1.0 \n",
    "   For each p in pages set PageRank(p) to 1.0\n",
    "2. Iterate for max iterations\n",
    "   - Page p sends a contribution\n",
    "     PageRank(p)/numOutLinks(p) to its neighbors (the pages it links)\n",
    "   - Update each page’s rank PageRank(p) to sum(received contributions)\n",
    "   - Go to step 2\n",
    "   \n",
    "### **PageRank algorithm: Random Jumps**\n",
    "At each step of the random walk, the random\n",
    "surfer has two options:\n",
    "  - With probability 1-α, follow a link at random among the ones in the current page\n",
    "  - With probability α, jump to a random page\n",
    "  \n",
    "1. Initialize each page’s rank to 1.0\n",
    "   For each p in pages set PageRank(p) to 1.0\n",
    "2. Iterate for max iterations\n",
    "    - Page p sends a contribution\n",
    "      PageRank(p)/numOutLinks(p) to its neighbors (the pages it links)\n",
    "    - Update each page’s rank PageRank(p) to\n",
    "      [α + (1- α) x sum(received contributions)]\n",
    "    - Go to step 2\n",
    "    \n",
    "    \n",
    "The **pageRank()** method of the GraphFrame class runs the PageRank algorithm on the input graph.\n",
    "Parameters:\n",
    "- resetProbability\n",
    "    - Probability of resetting to a random vertex (probability α associated with random jumps)\n",
    "- maxIter\n",
    "    - If set, the algorithm is run for a fixed number of iterations\n",
    "    - This may not be set if the tol parameter is set\n",
    "- Tol\n",
    "    - If set, the algorithm is run until the given tolerance\n",
    "    - This may not be set if the numIter parameter is set\n",
    "- sourceId (optional)\n",
    "    - The source vertex for a personalized PageRank\n",
    "    \n",
    "**pageRank()** returns a new GraphFrame that\n",
    "- Contains the same vertexes and edges of the input graph\n",
    "- All the vertexes of the new graph are characterized by one new attribute, called “pagerank”, that stores the PageRank of the vertexes\n",
    "- The edges of the new graph are characterized by one new attribute, called “weight”, that stores the weight (PageRank contribution) propagated through that edge"
   ]
  },
  {
   "cell_type": "code",
   "execution_count": 16,
   "id": "improving-savings",
   "metadata": {},
   "outputs": [
    {
     "name": "stdout",
     "output_type": "stream",
     "text": [
      "+---+-------+---+----------------+\n",
      "| id|   name|age|        pagerank|\n",
      "+---+-------+---+----------------+\n",
      "| u3|Charlie| 30|2.70920798879193|\n",
      "+---+-------+---+----------------+\n",
      "\n"
     ]
    }
   ],
   "source": [
    "# Run the PageRank algorithm\n",
    "pageRanks = g.pageRank(maxIter=30)\n",
    "\n",
    "# Select the maximum value of PageRank\n",
    "maxPageRank = pageRanks.vertices.agg({\"pagerank\":\"max\"})\\\n",
    ".first()[\"max(pagerank)\"]\n",
    "\n",
    "# Select the user with the maximum PageRank\n",
    "pageRanks.vertices.filter(pageRanks.vertices.pagerank==maxPageRank)\\\n",
    ".show()"
   ]
  },
  {
   "cell_type": "code",
   "execution_count": 21,
   "id": "inclusive-wonder",
   "metadata": {},
   "outputs": [
    {
     "name": "stdout",
     "output_type": "stream",
     "text": [
      "+---+-------+---+-------------------+\n",
      "| id|   name|age|           pagerank|\n",
      "+---+-------+---+-------------------+\n",
      "| u5| Esther| 32| 0.3602844369471771|\n",
      "| u3|Charlie| 30|   2.70920798879193|\n",
      "| u7|  Gabby| 60|0.17073170731707324|\n",
      "| u6|  Fanny| 36| 0.3238525965399238|\n",
      "| u2|    Bob| 36|  2.666064259487963|\n",
      "| u4|  David| 29| 0.3238525965399238|\n",
      "| u1|  Alice| 34|0.44600641437600846|\n",
      "+---+-------+---+-------------------+\n",
      "\n"
     ]
    }
   ],
   "source": [
    "pageRanks.vertices.show()"
   ]
  },
  {
   "cell_type": "code",
   "execution_count": null,
   "id": "fallen-palestinian",
   "metadata": {},
   "outputs": [],
   "source": []
  }
 ],
 "metadata": {
  "kernelspec": {
   "display_name": "GraphFrames (Yarn)",
   "language": "python",
   "name": "graphframe_yarn"
  },
  "language_info": {
   "codemirror_mode": {
    "name": "ipython",
    "version": 3
   },
   "file_extension": ".py",
   "mimetype": "text/x-python",
   "name": "python",
   "nbconvert_exporter": "python",
   "pygments_lexer": "ipython3",
   "version": "3.7.9"
  }
 },
 "nbformat": 4,
 "nbformat_minor": 5
}
