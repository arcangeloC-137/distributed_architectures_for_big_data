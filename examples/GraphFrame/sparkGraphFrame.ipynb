{
 "cells": [
  {
   "cell_type": "markdown",
   "id": "corporate-marble",
   "metadata": {},
   "source": [
    "# **Graph Analitycs in Spark**\n",
    "Graphs are natural way of describing relationships. Practical example of analytics over graphs\n",
    "- Ranking web pages (Google PageRank) Detecting group of friends\n",
    "- Determine importance of infrastructure in electrical networks\n",
    "- ...\n",
    "\n",
    "## **GraphX**\n",
    "Spark RDD-based library for performing graph processing, written in Scala. Core part of Spark. Low level interface with RDD Very powerful.. Many application and libraries built on top of it. However, not easy to use or optimize. No Python version of the APIs\n",
    "\n",
    "If you want to use Graphs in Python you can use **GraphFrame**, no officially in the Spark environment but commonly used.\n",
    "\n",
    "## **Building and Querying graphs with GraphFrame**\n",
    "Define vertexes and edges of the graph Vertexes and edges are represented by means of records inside DataFrames with specifically named columns:\n",
    "- One DataFrame for the definition of the vertexes of the graph\n",
    "- One DataFrame for the definition of the edges of the graph\n",
    "\n",
    "The DataFrames that are used to represent **nodes/vertexes**:\n",
    "- Contain one record per vertex\n",
    "- Must contain a column named \"id\" that stores unique vertex IDs\n",
    "- Can contain other columns that are used to characterize vertexes\n",
    "\n",
    "The DataFrames that are used to represent **edges**:\n",
    "- Contain one record per edge\n",
    "- Must contain two columns \"src\" and \"dst\" storing source vertex IDs and destination vertex IDs of edges\n",
    "- Can contain other columns that are used to characterize edges\n",
    "\n",
    "Create a graph of type\n",
    "graphframes.graphframe.GraphFrame by\n",
    "invoking the constructor GraphFrame(v,e)\n",
    "- v: the DataFrame containing the definition of the vertexes\n",
    "- e: the DataFrame containing the definition of the edges\n",
    "\n",
    "**NOTE:** Graphs in graphframes are directed graphs. To create undirected ones you need to create another DF for opposed direction."
   ]
  },
  {
   "cell_type": "code",
   "execution_count": 1,
   "id": "divine-theory",
   "metadata": {},
   "outputs": [],
   "source": [
    "from graphframes import GraphFrame\n",
    "\n",
    "# Vertex DataFrame\n",
    "v = spark.createDataFrame([ (\"u1\", \"Alice\", 34),\\\n",
    "                            (\"u2\", \"Bob\", 36),\\\n",
    "                            (\"u3\", \"Charlie\", 30),\\\n",
    "                            (\"u4\", \"David\", 29),\\\n",
    "                            (\"u5\", \"Esther\", 32),\\\n",
    "                            (\"u6\", \"Fanny\", 36),\\\n",
    "                            (\"u7\", \"Gabby\", 60)],\\\n",
    "                            [\"id\", \"name\", \"age\"])\n",
    "\n",
    "# Edge DataFrame\n",
    "e = spark.createDataFrame([ (\"u1\", \"u2\", \"friend\"),\\\n",
    "                            (\"u2\", \"u3\", \"follow\"),\\\n",
    "                            (\"u3\", \"u2\", \"follow\"),\\\n",
    "                            (\"u6\", \"u3\", \"follow\"),\\\n",
    "                            (\"u5\", \"u6\", \"follow\"),\\\n",
    "                            (\"u5\", \"u4\", \"friend\"),\\\n",
    "                            (\"u4\", \"u1\", \"friend\"),\\\n",
    "                            (\"u1\", \"u5\", \"friend\")],\\\n",
    "                            [\"src\", \"dst\", \"relationship\"])\n",
    "\n",
    "# Create the graph\n",
    "g = GraphFrame(v, e)"
   ]
  },
  {
   "cell_type": "code",
   "execution_count": 2,
   "id": "contemporary-banking",
   "metadata": {},
   "outputs": [
    {
     "name": "stdout",
     "output_type": "stream",
     "text": [
      "+---+-------+---+\n",
      "| id|   name|age|\n",
      "+---+-------+---+\n",
      "| u1|  Alice| 34|\n",
      "| u2|    Bob| 36|\n",
      "| u3|Charlie| 30|\n",
      "| u4|  David| 29|\n",
      "| u5| Esther| 32|\n",
      "| u6|  Fanny| 36|\n",
      "| u7|  Gabby| 60|\n",
      "+---+-------+---+\n",
      "\n"
     ]
    }
   ],
   "source": [
    "g.vertices.show()"
   ]
  },
  {
   "cell_type": "code",
   "execution_count": 3,
   "id": "aggregate-meeting",
   "metadata": {},
   "outputs": [
    {
     "name": "stdout",
     "output_type": "stream",
     "text": [
      "+---+---+------------+\n",
      "|src|dst|relationship|\n",
      "+---+---+------------+\n",
      "| u1| u2|      friend|\n",
      "| u2| u3|      follow|\n",
      "| u3| u2|      follow|\n",
      "| u6| u3|      follow|\n",
      "| u5| u6|      follow|\n",
      "| u5| u4|      friend|\n",
      "| u4| u1|      friend|\n",
      "| u1| u5|      friend|\n",
      "+---+---+------------+\n",
      "\n"
     ]
    }
   ],
   "source": [
    "g.edges.show()"
   ]
  },
  {
   "cell_type": "markdown",
   "id": "fatty-rachel",
   "metadata": {},
   "source": [
    "In undirected graphs the edges indicate a two- way relationship (each edge can be traversed in both directions):\n",
    "- In GraphX you could use to_undirected() to create an undirected copy of the Graph\n",
    "- Unfortunately GraphFrames does not support it\n",
    "\n",
    "As with RDD and DataFrame, you can cache graphs in GraphFrame\n",
    "- Convenient if the same (complex) graph result of (multiple) transformations is used multiple times in the same application\n",
    "- Simply invoke cache() on the GraphFrame you want to cache\n",
    "\n",
    "## **Querying the Graph**\n",
    "Some specific methods are provided to execute queries on graphs\n",
    "- filterVertices(condition)\n",
    "- filterEdges(condition)\n",
    "- dropIsolatedVertices()\n",
    "\n",
    "The returned result is the filtered version of the input graph.\n",
    "\n",
    "### **filterVertices(condition)**\n",
    "Condition contains an SQL-like condition on the values of the attributes of the vertexes\n",
    "- E.g., “age>35” \n",
    "Selects only the vertexes for which the specified condition is satisfied and returns a new graph with only the subset of selected vertexes.\n",
    "\n",
    "### **filterEdges(condition)**\n",
    "Condition contains an SQL-like condition on the values of the attributes of the edgesedges\n",
    "- E.g., \"relationship='friend' \" \n",
    "Selects only the edges for which the specified condition is satisfied and returns a new graph with only the subset of selected edges.\n",
    "\n",
    "### **dropIsolatedVertices()**\n",
    "Drops the vertexes that are not connected with any other node and returns a new graph without the dropped nodes."
   ]
  },
  {
   "cell_type": "code",
   "execution_count": 4,
   "id": "objective-russia",
   "metadata": {},
   "outputs": [],
   "source": [
    "from graphframes import GraphFrame\n",
    "\n",
    "# Vertex DataFrame\n",
    "v = spark.createDataFrame([ (\"u1\", \"Alice\", 34),\\\n",
    "                            (\"u2\", \"Bob\", 36),\\\n",
    "                            (\"u3\", \"Charlie\", 30),\\\n",
    "                            (\"u4\", \"David\", 29),\\\n",
    "                            (\"u5\", \"Esther\", 32),\\\n",
    "                            (\"u6\", \"Fanny\", 36),\\\n",
    "                            (\"u7\", \"Gabby\", 60)],\\\n",
    "                            [\"id\", \"name\", \"age\"])\n",
    "\n",
    "# Edge DataFrame\n",
    "e = spark.createDataFrame([ (\"u1\", \"u2\", \"friend\"),\\\n",
    "                            (\"u2\", \"u3\", \"follow\"),\\\n",
    "                            (\"u3\", \"u2\", \"follow\"),\\\n",
    "                            (\"u6\", \"u3\", \"follow\"),\\\n",
    "                            (\"u5\", \"u6\", \"follow\"),\\\n",
    "                            (\"u5\", \"u4\", \"friend\"),\\\n",
    "                            (\"u4\", \"u1\", \"friend\"),\\\n",
    "                            (\"u1\", \"u5\", \"friend\")],\\\n",
    "                            [\"src\", \"dst\", \"relationship\"])\n",
    "\n",
    "# Create the graph\n",
    "g = GraphFrame(v, e)\n",
    "\n",
    "selectedUsersandFriendRelGraph = g\\\n",
    ".filterVertices(\"age>=29 AND age<=50\")\\\n",
    ".filterEdges(\"relationship='friend'\")\\\n",
    ".dropIsolatedVertices()"
   ]
  },
  {
   "cell_type": "code",
   "execution_count": 7,
   "id": "primary-chest",
   "metadata": {},
   "outputs": [
    {
     "name": "stdout",
     "output_type": "stream",
     "text": [
      "+---+-------+---+\n",
      "| id|   name|age|\n",
      "+---+-------+---+\n",
      "| u1|  Alice| 34|\n",
      "| u2|    Bob| 36|\n",
      "| u3|Charlie| 30|\n",
      "| u4|  David| 29|\n",
      "| u5| Esther| 32|\n",
      "| u6|  Fanny| 36|\n",
      "| u7|  Gabby| 60|\n",
      "+---+-------+---+\n",
      "\n",
      "+---+------+---+\n",
      "| id|  name|age|\n",
      "+---+------+---+\n",
      "| u4| David| 29|\n",
      "| u5|Esther| 32|\n",
      "| u1| Alice| 34|\n",
      "| u2|   Bob| 36|\n",
      "+---+------+---+\n",
      "\n"
     ]
    }
   ],
   "source": [
    "g.vertices.show()\n",
    "selectedUsersandFriendRelGraph.vertices.show()"
   ]
  },
  {
   "cell_type": "code",
   "execution_count": 8,
   "id": "finite-yesterday",
   "metadata": {},
   "outputs": [
    {
     "name": "stdout",
     "output_type": "stream",
     "text": [
      "+---+---+------------+\n",
      "|src|dst|relationship|\n",
      "+---+---+------------+\n",
      "| u1| u2|      friend|\n",
      "| u2| u3|      follow|\n",
      "| u3| u2|      follow|\n",
      "| u6| u3|      follow|\n",
      "| u5| u6|      follow|\n",
      "| u5| u4|      friend|\n",
      "| u4| u1|      friend|\n",
      "| u1| u5|      friend|\n",
      "+---+---+------------+\n",
      "\n",
      "+---+---+------------+\n",
      "|src|dst|relationship|\n",
      "+---+---+------------+\n",
      "| u5| u4|      friend|\n",
      "| u1| u5|      friend|\n",
      "| u4| u1|      friend|\n",
      "| u1| u2|      friend|\n",
      "+---+---+------------+\n",
      "\n"
     ]
    }
   ],
   "source": [
    "g.edges.show()\n",
    "selectedUsersandFriendRelGraph.edges.show()"
   ]
  },
  {
   "cell_type": "markdown",
   "id": "bulgarian-puzzle",
   "metadata": {},
   "source": [
    "Given a GraphFrame, we can easily access its vertexes and edges:\n",
    "- **g.vertices** returns the DataFrame associated with the vertexes of the input graph\n",
    "- **g.edges** returns the DataFrame associated with the edges of the input graph\n",
    "\n",
    "All the standard DataFrame transformations/actions are available also for the DataFrames that are used to store vertexes and edges."
   ]
  },
  {
   "cell_type": "code",
   "execution_count": 9,
   "id": "after-oriental",
   "metadata": {},
   "outputs": [
    {
     "name": "stdout",
     "output_type": "stream",
     "text": [
      "Number of vertexes:  7\n",
      "Number of edges:  8\n",
      "+--------+\n",
      "|min(age)|\n",
      "+--------+\n",
      "|      29|\n",
      "+--------+\n",
      "\n",
      "4\n"
     ]
    }
   ],
   "source": [
    "# Count how many vertexes and edges has the graph\n",
    "print(\"Number of vertexes: \",g.vertices.count())\n",
    "print(\"Number of edges: \",g.edges.count())\n",
    "\n",
    "# Print on the standard output the smallest value of age\n",
    "# (i.e., the age of the youngest user in the graph)\n",
    "g.vertices.agg({\"age\":\"min\"}).show()\n",
    "\n",
    "# Print on the standard output\n",
    "# the number of \"follow\" edges in the graph.\n",
    "numFollows = g.edges.filter(\"relationship = 'follow' \").count()\n",
    "\n",
    "print(numFollows)"
   ]
  },
  {
   "cell_type": "markdown",
   "id": "fatty-brooks",
   "metadata": {},
   "source": [
    "## **Motif finding**\n",
    "Motif finding refers to searching for structural patterns in graphs. A simple Domain-Specific Language (DSL) is\n",
    "used to specify the structure of the patterns we are interested in.\n",
    "\n",
    "The basic unit of a pattern is a connection between vertexes\n",
    "- (v1) – [e1] -> (v2)\n",
    "\n",
    "Edges denoted by squared brackets, vertexes with round. **Patterns are chains of basic units**.\n",
    "\n",
    "It is acceptable to omit names for vertices or edges in patterns when not needed.\n",
    "\n",
    "A basic unit (an edge between two vertexes) can be negated to indicate that the edge should not be present in the graph:\n",
    "- (v1)-[]->(v2); !(v2)-[]->(v1)\n",
    "\n",
    "The **find(motif)** method of GraphFrame is used to select motifs. **find()** returns a DataFrame of all the paths matching the structural motif/pattern.\n",
    "\n",
    "Applying this pattern: **(v1) – [e1] -> (v2); (v2) – [e2] -> (v1)**\n",
    "\n",
    "Content of the returned DataFrame:\n",
    "\n",
    "    +--------------------+--------------------+--------------------+---------------------+\n",
    "    |         v1         |         e1         |          v2        |           e2        |\n",
    "    +--------------------+--------------------+--------------------+---------------------+\n",
    "    | [u2, Bob, 36]      | [u2, u3, follow]   | [u3, Charlie, 30]  | [u3, u2, follow]    |\n",
    "    | [u3, Charlie, 30]  | [u3, u2, follow]   | [u2, Bob, 36]      | [u2, u3, follow]    |\n",
    "    +--------------------+--------------------+--------------------+---------------------+"
   ]
  },
  {
   "cell_type": "code",
   "execution_count": 10,
   "id": "failing-airport",
   "metadata": {},
   "outputs": [],
   "source": [
    "# Retrieve the motifs associated with the pattern\n",
    "# vertex -> edge -> vertex -> edge ->vertex\n",
    "motifs = g.find(\"(v1)-[e1]->(v2); (v2)-[e2]->(v1)\")\n",
    "\n",
    "# Retrieve the motifs associated with the pattern\n",
    "# vertex -> edge -> vertex -> edge ->vertex\n",
    "motifs = g.find(\"(v1)-[friend]->(v2); (v2)-[follow]->(v3)\")\n",
    "\n",
    "# Filter the motifs (the content of the motifs DataFrame)\n",
    "# Select only the ones matching the pattern\n",
    "# vertex -> friend-> vertex -> follow ->vertex\n",
    "motifsFriendFollow = motifs\\\n",
    ".filter(\"friend.relationship='friend'AND follow.relationship='follow' \")"
   ]
  },
  {
   "cell_type": "code",
   "execution_count": 12,
   "id": "oriented-conference",
   "metadata": {},
   "outputs": [
    {
     "name": "stdout",
     "output_type": "stream",
     "text": [
      "+-----------------+----------------+-----------------+----------------+-----------------+\n",
      "|               v1|          friend|               v2|          follow|               v3|\n",
      "+-----------------+----------------+-----------------+----------------+-----------------+\n",
      "|  [u1, Alice, 34]|[u1, u2, friend]|    [u2, Bob, 36]|[u2, u3, follow]|[u3, Charlie, 30]|\n",
      "|[u3, Charlie, 30]|[u3, u2, follow]|    [u2, Bob, 36]|[u2, u3, follow]|[u3, Charlie, 30]|\n",
      "| [u5, Esther, 32]|[u5, u6, follow]|  [u6, Fanny, 36]|[u6, u3, follow]|[u3, Charlie, 30]|\n",
      "|  [u1, Alice, 34]|[u1, u5, friend]| [u5, Esther, 32]|[u5, u4, friend]|  [u4, David, 29]|\n",
      "|  [u4, David, 29]|[u4, u1, friend]|  [u1, Alice, 34]|[u1, u5, friend]| [u5, Esther, 32]|\n",
      "| [u5, Esther, 32]|[u5, u4, friend]|  [u4, David, 29]|[u4, u1, friend]|  [u1, Alice, 34]|\n",
      "|  [u1, Alice, 34]|[u1, u5, friend]| [u5, Esther, 32]|[u5, u6, follow]|  [u6, Fanny, 36]|\n",
      "|  [u4, David, 29]|[u4, u1, friend]|  [u1, Alice, 34]|[u1, u2, friend]|    [u2, Bob, 36]|\n",
      "|    [u2, Bob, 36]|[u2, u3, follow]|[u3, Charlie, 30]|[u3, u2, follow]|    [u2, Bob, 36]|\n",
      "|  [u6, Fanny, 36]|[u6, u3, follow]|[u3, Charlie, 30]|[u3, u2, follow]|    [u2, Bob, 36]|\n",
      "+-----------------+----------------+-----------------+----------------+-----------------+\n",
      "\n",
      "+---------------+----------------+----------------+----------------+-----------------+\n",
      "|             v1|          friend|              v2|          follow|               v3|\n",
      "+---------------+----------------+----------------+----------------+-----------------+\n",
      "|[u1, Alice, 34]|[u1, u2, friend]|   [u2, Bob, 36]|[u2, u3, follow]|[u3, Charlie, 30]|\n",
      "|[u1, Alice, 34]|[u1, u5, friend]|[u5, Esther, 32]|[u5, u6, follow]|  [u6, Fanny, 36]|\n",
      "+---------------+----------------+----------------+----------------+-----------------+\n",
      "\n"
     ]
    }
   ],
   "source": [
    "motifs.show()\n",
    "motifsFriendFollow.show()"
   ]
  },
  {
   "cell_type": "markdown",
   "id": "czech-extraction",
   "metadata": {},
   "source": [
    "## **Basic Statistics**\n",
    "Given the input graph, compute\n",
    "- **Degree** of each vertex\n",
    "- **inDegree** of each vertex\n",
    "- **outDegree** of each vertex"
   ]
  },
  {
   "cell_type": "code",
   "execution_count": 2,
   "id": "gentle-transformation",
   "metadata": {},
   "outputs": [],
   "source": [
    "# Retrieve the DataFrame with the information about the degree of\n",
    "# each vertex\n",
    "vertexesDegreesDF = g.degrees\n",
    "\n",
    "# Retrieve the DataFrame with the information about the in-degree of\n",
    "# each vertex\n",
    "vertexesInDegreesDF = g.inDegrees\n",
    "\n",
    "# Retrieve the DataFrame with the information about the out-degree of\n",
    "# each vertex\n",
    "vertexesOutDegreesDF = g.outDegrees"
   ]
  },
  {
   "cell_type": "code",
   "execution_count": 3,
   "id": "hundred-panic",
   "metadata": {},
   "outputs": [
    {
     "name": "stdout",
     "output_type": "stream",
     "text": [
      "+---+------+\n",
      "| id|degree|\n",
      "+---+------+\n",
      "| u3|     3|\n",
      "| u5|     3|\n",
      "| u4|     2|\n",
      "| u1|     3|\n",
      "| u6|     2|\n",
      "| u2|     3|\n",
      "+---+------+\n",
      "\n",
      "+---+--------+\n",
      "| id|inDegree|\n",
      "+---+--------+\n",
      "| u3|       2|\n",
      "| u4|       1|\n",
      "| u5|       1|\n",
      "| u1|       1|\n",
      "| u6|       1|\n",
      "| u2|       2|\n",
      "+---+--------+\n",
      "\n",
      "+---+---------+\n",
      "| id|outDegree|\n",
      "+---+---------+\n",
      "| u3|        1|\n",
      "| u5|        2|\n",
      "| u4|        1|\n",
      "| u1|        2|\n",
      "| u6|        1|\n",
      "| u2|        1|\n",
      "+---+---------+\n",
      "\n"
     ]
    }
   ],
   "source": [
    "vertexesDegreesDF.show()\n",
    "vertexesInDegreesDF.show()\n",
    "vertexesOutDegreesDF.show()"
   ]
  },
  {
   "cell_type": "code",
   "execution_count": 4,
   "id": "fossil-emerald",
   "metadata": {},
   "outputs": [],
   "source": [
    "# Retrieve the DataFrame with the information about the in-degree of\n",
    "# each vertex\n",
    "vertexesInDegreesDF = g.inDegrees\n",
    "\n",
    "# Select only the vertexes with and in-degree value >=2\n",
    "selectedVertexesDF = vertexesInDegreesDF.filter(\"inDegree>=2\")\n",
    "\n",
    "# Select only the content of Column id\n",
    "selectedVertexesIDsDF = selectedVertexesDF.select(\"id\")"
   ]
  },
  {
   "cell_type": "code",
   "execution_count": 5,
   "id": "attended-blast",
   "metadata": {},
   "outputs": [
    {
     "name": "stdout",
     "output_type": "stream",
     "text": [
      "+---+--------+\n",
      "| id|inDegree|\n",
      "+---+--------+\n",
      "| u3|       2|\n",
      "| u2|       2|\n",
      "+---+--------+\n",
      "\n",
      "+---+\n",
      "| id|\n",
      "+---+\n",
      "| u3|\n",
      "| u2|\n",
      "+---+\n",
      "\n"
     ]
    }
   ],
   "source": [
    "selectedVertexesDF.show()\n",
    "selectedVertexesIDsDF.show()"
   ]
  },
  {
   "cell_type": "code",
   "execution_count": null,
   "id": "sixth-government",
   "metadata": {},
   "outputs": [],
   "source": []
  }
 ],
 "metadata": {
  "kernelspec": {
   "display_name": "GraphFrames (Yarn)",
   "language": "python",
   "name": "graphframe_yarn"
  },
  "language_info": {
   "codemirror_mode": {
    "name": "ipython",
    "version": 3
   },
   "file_extension": ".py",
   "mimetype": "text/x-python",
   "name": "python",
   "nbconvert_exporter": "python",
   "pygments_lexer": "ipython3",
   "version": "3.7.9"
  }
 },
 "nbformat": 4,
 "nbformat_minor": 5
}
