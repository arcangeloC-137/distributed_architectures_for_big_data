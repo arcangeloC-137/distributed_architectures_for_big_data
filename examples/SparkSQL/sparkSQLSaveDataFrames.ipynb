{
 "cells": [
  {
   "cell_type": "markdown",
   "id": "floral-vertex",
   "metadata": {},
   "source": [
    "## Save DataFrames\n",
    "The content of DataFrames can be stored on disk by using two approches:\n",
    "1. Convert DataFrames to traditional RDDs by using the rdd method of the DataFrame And then use saveAsTextFile(outputFolder)\n",
    "2. Use the write() method of DataFrames, that returns a DatFrameWriter class instance"
   ]
  },
  {
   "cell_type": "code",
   "execution_count": null,
   "id": "mathematical-intelligence",
   "metadata": {},
   "outputs": [],
   "source": [
    "# Example Approach 1\n",
    "\n",
    "# Create a Spark Session object\n",
    "spark = SparkSession.builder.getOrCreate()\n",
    "\n",
    "# Create a DataFrame from persons.csv\n",
    "df = spark.read.load( \"persons.csv\", format=\"csv\", header=True, inferSchema=True)\n",
    "\n",
    "# Save it\n",
    "df.rdd.saveAsTextFile(outputPath)"
   ]
  },
  {
   "cell_type": "code",
   "execution_count": null,
   "id": "fleet-authorization",
   "metadata": {},
   "outputs": [],
   "source": [
    "# Example Approach 2\n",
    "\n",
    "# Create a Spark Session object\n",
    "spark = SparkSession.builder.getOrCreate()\n",
    "\n",
    "# Create a DataFrame from persons.csv \n",
    "df = spark.read.load( \"persons.csv\", \n",
    "                     format=\"csv\", \n",
    "                     header=True, \n",
    "                     inferSchema=True)\n",
    "# Save it\n",
    "df.write.csv(outputPath, header=True)"
   ]
  }
 ],
 "metadata": {
  "kernelspec": {
   "display_name": "PySpark (Local)",
   "language": "python",
   "name": "pyspark_local"
  },
  "language_info": {
   "codemirror_mode": {
    "name": "ipython",
    "version": 3
   },
   "file_extension": ".py",
   "mimetype": "text/x-python",
   "name": "python",
   "nbconvert_exporter": "python",
   "pygments_lexer": "ipython3",
   "version": "3.7.9"
  }
 },
 "nbformat": 4,
 "nbformat_minor": 5
}
