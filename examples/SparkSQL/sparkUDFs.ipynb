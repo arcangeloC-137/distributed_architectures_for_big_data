{
 "cells": [
  {
   "cell_type": "markdown",
   "id": "strong-bread",
   "metadata": {},
   "source": [
    "# UDFs: User Defined Functions\n",
    "Spark SQL provides a set of system predefined functions:\n",
    "    - hour(**timestamp**)\n",
    "    - functions that can be used in some transformations (e.g. selectExpr(...), sort(...)\n",
    "\\\n",
    "User can define their personalized functions by invoking **udf().register(name, function, datatype)** on SparkSession. Function parameter can have multiple input values but only a single return value.\n",
    "\\\n",
    "### Example\n",
    "Suppose you want to compute the lenght of a string, in this case is possible to define a UDF:"
   ]
  },
  {
   "cell_type": "code",
   "execution_count": null,
   "id": "lightweight-porcelain",
   "metadata": {},
   "outputs": [],
   "source": [
    "from pyspark import SparkSession\n",
    "\n",
    "# Create a Spark Session object\n",
    "spark = SparkSession.builder.getOrCreate()\n",
    "\n",
    "# Define the UDF\n",
    "# name: length\n",
    "# output: integer value\n",
    "spark.udf.register(\"length\", lambda x: len(x))"
   ]
  },
  {
   "cell_type": "markdown",
   "id": "overhead-consumer",
   "metadata": {},
   "source": [
    "Now is possible to use the defined function in a **selectExpr(...)**, for instance:"
   ]
  },
  {
   "cell_type": "code",
   "execution_count": null,
   "id": "primary-classic",
   "metadata": {},
   "outputs": [],
   "source": [
    "result = inputDF.selectExpr(\"length(name) as size\")\n",
    "\n",
    "#or \n",
    "\n",
    "result = spark.sql(\"SELECT length(name) FROM profiles\")"
   ]
  },
  {
   "cell_type": "markdown",
   "id": "isolated-large",
   "metadata": {},
   "source": [
    "This will return a DataFrame with a column associated with the lenght of the name"
   ]
  },
  {
   "cell_type": "code",
   "execution_count": null,
   "id": "associate-intranet",
   "metadata": {},
   "outputs": [],
   "source": []
  }
 ],
 "metadata": {
  "kernelspec": {
   "display_name": "PySpark (Local)",
   "language": "python",
   "name": "pyspark_local"
  },
  "language_info": {
   "codemirror_mode": {
    "name": "ipython",
    "version": 3
   },
   "file_extension": ".py",
   "mimetype": "text/x-python",
   "name": "python",
   "nbconvert_exporter": "python",
   "pygments_lexer": "ipython3",
   "version": "3.7.9"
  }
 },
 "nbformat": 4,
 "nbformat_minor": 5
}
