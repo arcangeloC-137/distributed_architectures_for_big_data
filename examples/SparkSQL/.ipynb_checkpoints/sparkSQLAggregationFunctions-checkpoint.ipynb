{
 "cells": [
  {
   "cell_type": "markdown",
   "id": "coral-wilderness",
   "metadata": {},
   "source": [
    "## Aggregate Functions\n",
    "Aggregate functions are provided to compute aggregates over the set of values of columns.\n",
    "- avg(column), \n",
    "- count(column), \n",
    "- sum(column), \n",
    "- abs(column),\n",
    "- etc."
   ]
  },
  {
   "cell_type": "code",
   "execution_count": 3,
   "id": "solar-glory",
   "metadata": {},
   "outputs": [],
   "source": [
    "# Create a Spark Session object\n",
    "from pyspark.sql import SparkSession\n",
    "spark = SparkSession.builder.getOrCreate()\n",
    "\n",
    "#Create a DataFrame from persons.csv\n",
    "df = spark.read.load(\"./databases/persons.csv\", format=\"csv\", header=True, inferSchema=True)\n",
    "\n",
    "# Compute the average of age\n",
    "averageAge = df.agg({\"age\": \"avg\"})"
   ]
  },
  {
   "cell_type": "code",
   "execution_count": 6,
   "id": "tight-september",
   "metadata": {},
   "outputs": [
    {
     "name": "stdout",
     "output_type": "stream",
     "text": [
      "+-------+----+\n",
      "|   Name| Age|\n",
      "+-------+----+\n",
      "| Justin|  19|\n",
      "|   Andy|  30|\n",
      "|Michael|null|\n",
      "+-------+----+\n",
      "\n",
      "+--------+\n",
      "|avg(age)|\n",
      "+--------+\n",
      "|    24.5|\n",
      "+--------+\n",
      "\n"
     ]
    }
   ],
   "source": [
    "df.show()\n",
    "averageAge.show()"
   ]
  },
  {
   "cell_type": "code",
   "execution_count": null,
   "id": "defined-lover",
   "metadata": {},
   "outputs": [],
   "source": []
  }
 ],
 "metadata": {
  "kernelspec": {
   "display_name": "PySpark (Local)",
   "language": "python",
   "name": "pyspark_local"
  },
  "language_info": {
   "codemirror_mode": {
    "name": "ipython",
    "version": 3
   },
   "file_extension": ".py",
   "mimetype": "text/x-python",
   "name": "python",
   "nbconvert_exporter": "python",
   "pygments_lexer": "ipython3",
   "version": "3.7.9"
  }
 },
 "nbformat": 4,
 "nbformat_minor": 5
}
