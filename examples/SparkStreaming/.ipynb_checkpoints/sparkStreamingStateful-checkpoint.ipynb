{
 "cells": [
  {
   "cell_type": "markdown",
   "id": "strong-miracle",
   "metadata": {},
   "source": [
    "# ***Spark Streaming - Stateful Computation***\n",
    "The updateStateByKey transformation allows maintaining a “state” for each key. The value of the state of each key is continuously updated every time a new batch is analyzed.\n",
    "\n",
    "The use of updateStateByKey is based on two steps:\n",
    "\n",
    " - **Define the state**\n",
    "     - The data type of the state associated with the keys can be an arbitrary data type\n",
    "     \n",
    "\n",
    " - **Define the state update function**\n",
    "     - Specify with a function how to update the state of a key using the previous state and the new values from an input stream associated with that key\n",
    "     \n",
    "In every batch, Spark will apply the state update function for all existing keys.\n",
    "\n",
    "### **Word Count - Stateful Version**\n",
    "Update result every 5s"
   ]
  },
  {
   "cell_type": "code",
   "execution_count": null,
   "id": "victorian-singles",
   "metadata": {},
   "outputs": [],
   "source": [
    "from pyspark.streaming import StreamingContext\n",
    "sc\n",
    "\n",
    "# Set prefix of the output folders\n",
    "outputPathPrefix=\"resSparkStreamingExamples\"\n",
    "\n",
    "#Create a configuration object and#set the name of the applicationconf\n",
    "SparkConf().setAppName(\"Streaming word count\")\n",
    "\n",
    "# Create a Spark Context object\n",
    "sc = SparkContext(conf=conf)\n",
    "\n",
    "# Create a Spark Streaming Context object (5 seconds)\n",
    "ssc = StreamingContext(sc, 5)\n",
    "\n",
    "# Set the checkpoint folder (it is needed by some window transformations)\n",
    "ssc.checkpoint(\"checkpointfolder\")"
   ]
  },
  {
   "cell_type": "code",
   "execution_count": null,
   "id": "domestic-bulgarian",
   "metadata": {},
   "outputs": [],
   "source": [
    "# Create a (Receiver) DStream that will connect to localhost:9999\n",
    "lines = ssc.socketTextStream(\"localhost\", 9999)\n",
    "\n",
    "# Apply a chain of transformations to perform the word count task\n",
    "# The returned RDDs are DStream RDDs\n",
    "words = lines.flatMap(lambda line: line.split(\" \"))\n",
    "\n",
    "wordsOnes = words.map(lambda word: (word, 1))"
   ]
  },
  {
   "cell_type": "code",
   "execution_count": null,
   "id": "religious-insight",
   "metadata": {},
   "outputs": [],
   "source": [
    "# Define the function that is used to update the state of a key at a time\n",
    "\n",
    "def updateFunction(newValues, currentCount):\n",
    "    if currentCount is None:\n",
    "        currentCount = 0\n",
    "    \n",
    "    # Sum the new values to the previous state for the current key\n",
    "    return sum(newValues, currentCount)\n",
    "\n",
    "# DStream made of cumulative counts for each key that get updated in every batch\n",
    "totalWordsCounts = wordsOnes.updateStateByKey(updateFunction)"
   ]
  },
  {
   "cell_type": "code",
   "execution_count": null,
   "id": "outstanding-injection",
   "metadata": {},
   "outputs": [],
   "source": [
    "# Print the num. of occurrences of each word of the current window\n",
    "# (only 10 of them)\n",
    "totalWordsCounts.pprint()\n",
    "\n",
    "# Store the output of the computation in the folders with prefix\n",
    "# outputPathPrefix\n",
    "totalWordsCounts.saveAsTextFiles(outputPathPrefix, \"\")\n",
    "\n",
    "#Start the computation\n",
    "ssc.start()\n",
    "\n",
    "# Run this application for 90 seconds\n",
    "ssc.awaitTerminationOrTimeout(90)\n",
    "\n",
    "ssc.stop(stopSparkContext=False)"
   ]
  }
 ],
 "metadata": {
  "kernelspec": {
   "display_name": "PySpark (Local)",
   "language": "python",
   "name": "pyspark_local"
  },
  "language_info": {
   "codemirror_mode": {
    "name": "ipython",
    "version": 3
   },
   "file_extension": ".py",
   "mimetype": "text/x-python",
   "name": "python",
   "nbconvert_exporter": "python",
   "pygments_lexer": "ipython3",
   "version": "3.7.9"
  }
 },
 "nbformat": 4,
 "nbformat_minor": 5
}
