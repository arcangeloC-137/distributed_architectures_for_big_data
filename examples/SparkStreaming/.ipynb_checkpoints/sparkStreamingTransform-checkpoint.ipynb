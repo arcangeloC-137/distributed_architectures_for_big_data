{
 "cells": [
  {
   "cell_type": "markdown",
   "id": "basic-candy",
   "metadata": {},
   "source": [
    "# ***Spark Transform Transformation***\n",
    "\n",
    "If you want to combine a static RDD with DStream you can use Transform. Some types of transformations are not available for DStreams\n",
    "- E.g., sortBy, sortByKey, distinct()\n",
    "\n",
    "Moreover, sometimes you need to combine DStreams and RDDs. For example, the functionality of joining every batch in a data stream with another dataset (a “standard” RDD) is not directly exposed in the DStream API.\n",
    "\n",
    "\n",
    "The **transform()** transformation can be used in these situations\n",
    "\n",
    "- It is a specific transformation of DStreams\n",
    "- It returns a new DStream by applying an RDD-to- RDD function to every RDD of the source Dstream\n",
    "    - This can be used to apply arbitrary RDD operations on the DStream"
   ]
  },
  {
   "cell_type": "code",
   "execution_count": null,
   "id": "employed-invention",
   "metadata": {},
   "outputs": [],
   "source": [
    "from pyspark.streaming import StreamingContext\n",
    "\n",
    "# Set prefix of the output folders\n",
    "outputPathPrefix=\"resSparkStreamingExamples\"\n",
    "\n",
    "#Create a configuration object and#set the name of the applicationconf\n",
    "SparkConf().setAppName(\"Streaming word count\")\n",
    "\n",
    "# Create a Spark Context object\n",
    "sc = SparkContext(conf=conf)\n",
    "\n",
    "# Create a Spark Streaming Context object\n",
    "ssc = StreamingContext(sc, 5)\n",
    "\n",
    "# Create a (Receiver) DStream that will connect to localhost:9999\n",
    "lines = ssc.socketTextStream(\"localhost\", 9999)"
   ]
  },
  {
   "cell_type": "code",
   "execution_count": null,
   "id": "dressed-auction",
   "metadata": {},
   "outputs": [],
   "source": [
    "# Apply a chain of transformations to perform the word count task\n",
    "# The returned RDDs are DStream RDDs\n",
    "words = lines.flatMap(lambda line: line.split(\" \"))\n",
    "\n",
    "wordsOnes = words.map(lambda word: (word, 1))\n",
    "\n",
    "wordsCounts = wordsOnes.reduceByKey(lambda v1, v2: v1+v2)\n",
    "\n",
    "# Sort the content/the pairs by decreasing value (# of occurrences)\n",
    "wordsCountsSortByKey = wordsCounts\\\n",
    ".transform(lambda batchRDD: batchRDD.sortBy(lambda pair: -1*pair[1]))"
   ]
  },
  {
   "cell_type": "code",
   "execution_count": null,
   "id": "matched-demographic",
   "metadata": {},
   "outputs": [],
   "source": [
    "# Print the result on the standard output\n",
    "wordsCountsSortByKey.pprint()\n",
    "\n",
    "# Store the result in HDFS\n",
    "wordsCountsSortByKey.saveAsTextFiles(outputPathPrefix, \"\")\n",
    "\n",
    "#Start the computation\n",
    "ssc.start()\n",
    "\n",
    "# Run this application for 90 seconds\n",
    "ssc.awaitTerminationOrTimeout(90)\n",
    "ssc.stop(stopSparkContext=False)"
   ]
  }
 ],
 "metadata": {
  "kernelspec": {
   "display_name": "PySpark (Local)",
   "language": "python",
   "name": "pyspark_local"
  },
  "language_info": {
   "codemirror_mode": {
    "name": "ipython",
    "version": 3
   },
   "file_extension": ".py",
   "mimetype": "text/x-python",
   "name": "python",
   "nbconvert_exporter": "python",
   "pygments_lexer": "ipython3",
   "version": "3.7.9"
  }
 },
 "nbformat": 4,
 "nbformat_minor": 5
}
