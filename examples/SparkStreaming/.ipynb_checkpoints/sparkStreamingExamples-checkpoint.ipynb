{
 "cells": [
  {
   "cell_type": "markdown",
   "id": "simple-latter",
   "metadata": {},
   "source": [
    "# ***Spark Streaming - Word Count Problem***\n",
    "\n",
    "- Input: a stream of sentences retrieved from localhost:9999\n",
    "- Split the input stream in batches of 5 seconds each and print on the standard output, for each batch, the occurrences of each word appearing in the batch\n",
    "    - i.e., execute the word count problem for each batch of 5 seconds\n",
    "- Store the results also in an HDFS folder"
   ]
  },
  {
   "cell_type": "code",
   "execution_count": null,
   "id": "collected-semester",
   "metadata": {},
   "outputs": [],
   "source": [
    "from pyspark.streaming import StreamingContext\n",
    "\n",
    "# Set prefix of the output folders\n",
    "outputPathPrefix=\"resSparkStreamingExamples\"\n",
    "\n",
    "#Create a configuration object and\n",
    "#set the name of the applicationconf\n",
    "SparkConf().setAppName(\"Streaming word count\")\n",
    "\n",
    "# Create a Spark Context object\n",
    "sc = SparkContext(conf=conf)\n",
    "\n",
    "# Create a Spark Streaming Context object\n",
    "ssc = StreamingContext(sc, 5)\n",
    "\n",
    "# Create a (Receiver) DStream that will connect to localhost:9999\n",
    "lines = ssc.socketTextStream(\"localhost\", 9999)"
   ]
  },
  {
   "cell_type": "code",
   "execution_count": null,
   "id": "equal-implementation",
   "metadata": {},
   "outputs": [],
   "source": [
    "# Apply a chain of transformations to perform the word count task\n",
    "# The returned RDDs are DStream RDDs\n",
    "words = lines.flatMap(lambda line: line.split(\" \"))\n",
    "wordsOnes = words.map(lambda word: (word, 1))\n",
    "wordsCounts = wordsOnes.reduceByKey(lambda v1, v2: v1+v2)\n",
    "\n",
    "# Print the result on the standard output\n",
    "wordsCounts.pprint()\n",
    "\n",
    "# Store the result in HDFS\n",
    "wordsCounts.saveAsTextFiles(outputPathPrefix, \"\")"
   ]
  },
  {
   "cell_type": "code",
   "execution_count": null,
   "id": "loose-religion",
   "metadata": {},
   "outputs": [],
   "source": [
    "#Start the computation\n",
    "ssc.start()\n",
    "\n",
    "# Run this application for 90 seconds\n",
    "ssc.awaitTerminationOrTimeout(90)\n",
    "ssc.stop(stopSparkContext=False)"
   ]
  }
 ],
 "metadata": {
  "kernelspec": {
   "display_name": "PySpark (Local)",
   "language": "python",
   "name": "pyspark_local"
  },
  "language_info": {
   "codemirror_mode": {
    "name": "ipython",
    "version": 3
   },
   "file_extension": ".py",
   "mimetype": "text/x-python",
   "name": "python",
   "nbconvert_exporter": "python",
   "pygments_lexer": "ipython3",
   "version": "3.7.9"
  }
 },
 "nbformat": 4,
 "nbformat_minor": 5
}
