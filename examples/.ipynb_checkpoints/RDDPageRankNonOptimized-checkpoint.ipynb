{
 "cells": [
  {
   "cell_type": "markdown",
   "metadata": {},
   "source": [
    "## Page Ranking (not optimized)"
   ]
  },
  {
   "cell_type": "code",
   "execution_count": 1,
   "metadata": {},
   "outputs": [],
   "source": [
    "from datetime import datetime"
   ]
  },
  {
   "cell_type": "code",
   "execution_count": 2,
   "metadata": {},
   "outputs": [
    {
     "data": {
      "text/html": [
       "\n",
       "        <div>\n",
       "            <p><b>SparkContext</b></p>\n",
       "\n",
       "            <p><a href=\"http://10.42.4.176:4047\">Spark UI</a></p>\n",
       "\n",
       "            <dl>\n",
       "              <dt>Version</dt>\n",
       "                <dd><code>v2.4.0-cdh6.2.1</code></dd>\n",
       "              <dt>Master</dt>\n",
       "                <dd><code>local[*]</code></dd>\n",
       "              <dt>AppName</dt>\n",
       "                <dd><code>pyspark-shell</code></dd>\n",
       "            </dl>\n",
       "        </div>\n",
       "        "
      ],
      "text/plain": [
       "<SparkContext master=local[*] appName=pyspark-shell>"
      ]
     },
     "execution_count": 2,
     "metadata": {},
     "output_type": "execute_result"
    }
   ],
   "source": [
    "sc"
   ]
  },
  {
   "cell_type": "code",
   "execution_count": 3,
   "metadata": {},
   "outputs": [],
   "source": [
    "# This function print some statistics about the input RDD\n",
    "def analyzePartitions(myRDD):\n",
    "    if myRDD.partitioner is None:\n",
    "        print(\"Partioner: No partitioner\")\n",
    "    else:\n",
    "        print(\"Partioner: \"+str(myRDD.partitioner.partitionFunc))\n",
    "    \n",
    "    print(\"Num. partitions: \"+ str(myRDD.getNumPartitions()))\n",
    "    \n",
    "    # Create a local copy of the input partitions in a local Python list\n",
    "    partitions = myRDD.glom().collect()\n",
    "\n",
    "    print(\"Content of the partitions\")\n",
    "    for p in partitions:\n",
    "        print(str(p))"
   ]
  },
  {
   "cell_type": "code",
   "execution_count": 4,
   "metadata": {},
   "outputs": [],
   "source": [
    "start = datetime.now()"
   ]
  },
  {
   "cell_type": "code",
   "execution_count": 5,
   "metadata": {},
   "outputs": [],
   "source": [
    "# Read the input file with the structure of the web graph\n",
    "inputData = sc.textFile(\"./databases/links.txt\")"
   ]
  },
  {
   "cell_type": "code",
   "execution_count": 8,
   "metadata": {},
   "outputs": [
    {
     "name": "stdout",
     "output_type": "stream",
     "text": [
      "Partioner: No partitioner\n",
      "Num. partitions: 2\n",
      "Content of the partitions\n",
      "['P1 P1', 'P2 P5', 'P3 P1,P2,P4,P5']\n",
      "['P4 P3,P5', 'P5 P4']\n"
     ]
    }
   ],
   "source": [
    "analyzePartitions(inputData)"
   ]
  },
  {
   "cell_type": "code",
   "execution_count": 9,
   "metadata": {},
   "outputs": [],
   "source": [
    "# Format of each input line\n",
    "# PageId,LinksToOtherPages\n",
    "# e.g., P3 [P1,P2,P4,P5]\n",
    "def mapToPairPageIDLinks(line):\n",
    "    fields = line.split(' ')\n",
    "    pageID = fields[0]\n",
    "    links = fields[1].split(',')\n",
    "       \n",
    "    \n",
    "    return (pageID, links)"
   ]
  },
  {
   "cell_type": "code",
   "execution_count": 10,
   "metadata": {},
   "outputs": [],
   "source": [
    "links = inputData.map(mapToPairPageIDLinks).cache()"
   ]
  },
  {
   "cell_type": "code",
   "execution_count": 11,
   "metadata": {},
   "outputs": [
    {
     "name": "stdout",
     "output_type": "stream",
     "text": [
      "Partioner: No partitioner\n",
      "Num. partitions: 2\n",
      "Content of the partitions\n",
      "[('P1', ['P1']), ('P2', ['P5']), ('P3', ['P1', 'P2', 'P4', 'P5'])]\n",
      "[('P4', ['P3', 'P5']), ('P5', ['P4'])]\n"
     ]
    }
   ],
   "source": [
    "analyzePartitions(links)"
   ]
  },
  {
   "cell_type": "code",
   "execution_count": 12,
   "metadata": {},
   "outputs": [],
   "source": [
    "# Initialize each page's rank to 1.0; since we use mapValues, \n",
    "# the resulting RDD will have the same partitioner as links\n",
    "ranks = links.mapValues(lambda v: 1.0)"
   ]
  },
  {
   "cell_type": "code",
   "execution_count": 13,
   "metadata": {},
   "outputs": [
    {
     "name": "stdout",
     "output_type": "stream",
     "text": [
      "Partioner: No partitioner\n",
      "Num. partitions: 2\n",
      "Content of the partitions\n",
      "[('P1', 1.0), ('P2', 1.0), ('P3', 1.0)]\n",
      "[('P4', 1.0), ('P5', 1.0)]\n"
     ]
    }
   ],
   "source": [
    "analyzePartitions(ranks)"
   ]
  },
  {
   "cell_type": "code",
   "execution_count": 14,
   "metadata": {},
   "outputs": [
    {
     "data": {
      "text/plain": [
       "[('P1', (['P1'], 1.0)),\n",
       " ('P2', (['P5'], 1.0)),\n",
       " ('P5', (['P4'], 1.0)),\n",
       " ('P3', (['P1', 'P2', 'P4', 'P5'], 1.0)),\n",
       " ('P4', (['P3', 'P5'], 1.0))]"
      ]
     },
     "execution_count": 14,
     "metadata": {},
     "output_type": "execute_result"
    }
   ],
   "source": [
    "pageRankLinks = links.join(ranks)\n",
    "pageRankLinks.collect()"
   ]
  },
  {
   "cell_type": "code",
   "execution_count": 18,
   "metadata": {},
   "outputs": [],
   "source": [
    "contributions = pageRankLinks.flatMap(computeContributions)"
   ]
  },
  {
   "cell_type": "code",
   "execution_count": 19,
   "metadata": {},
   "outputs": [
    {
     "data": {
      "text/plain": [
       "[('P1', 0.04427343384909932),\n",
       " ('P2', 0.04427343384909932),\n",
       " ('P4', 0.04427343384909932),\n",
       " ('P5', 0.04427343384909932),\n",
       " ('P5', 0.04643422846430667),\n",
       " ('P1', 4.170157775076916),\n",
       " ('P3', 0.16667121504943339),\n",
       " ('P5', 0.16667121504943339),\n",
       " ('P4', 0.2729718309635132)]"
      ]
     },
     "execution_count": 19,
     "metadata": {},
     "output_type": "execute_result"
    }
   ],
   "source": [
    "contributions.collect()"
   ]
  },
  {
   "cell_type": "code",
   "execution_count": 21,
   "metadata": {},
   "outputs": [],
   "source": [
    "# Return a set of pairs from each input pair\n",
    "# input pair: \n",
    "#---- (pageid, (linked pages, current page rank of pageid) )\n",
    "# output pairs:\n",
    "# --- one output pair for each linked page\n",
    "# --- (pageid linked page, current page rank of the linking page pageid / number of linked pages)\n",
    "def computeContributions(pageIDLinksPageRank):\n",
    "    pagesContributions = []\n",
    "    \n",
    "    currentPageRank = pageIDLinksPageRank[1][1] # this takes the 'rank' from the puple ('ID', (['IDs'], 'rank'))\n",
    "    linkedPages = pageIDLinksPageRank[1][0]     # this takes the IDs list from the puple ('ID', (['IDs'], 'rank'))\n",
    "    numLinkedPages = len(linkedPages)\n",
    "    contribution = currentPageRank/numLinkedPages\n",
    "    \n",
    "    for pageidLinkedPage in linkedPages:\n",
    "        pagesContributions.append( (pageidLinkedPage, contribution))\n",
    "    \n",
    "    return pagesContributions"
   ]
  },
  {
   "cell_type": "code",
   "execution_count": 24,
   "metadata": {},
   "outputs": [],
   "source": [
    "# Run 30 iterations of PageRank\n",
    "for x in range(50):\n",
    "    # Retrieve for each page its current pagerank and the list of linked pages\n",
    "    pageRankLinks = links.join(ranks)\n",
    "    # Compute contributions from linking pages to linked pages for this iteration\n",
    "    contributions = pageRankLinks.flatMap(computeContributions)\n",
    "    # Update current pagerank of all pages for this iteration\n",
    "    ranks = contributions.reduceByKey(lambda contribution1, contribution2: contribution1+contribution2)"
   ]
  },
  {
   "cell_type": "markdown",
   "metadata": {},
   "source": [
    "**PAY ATTENTION:** we know that RDDs are immutable. This means that we are creating 50 times a new RDD. At the end we will have a reference of the last RDD. This is not very smart or efficient. Using partition by we can do something more efficient."
   ]
  },
  {
   "cell_type": "code",
   "execution_count": 25,
   "metadata": {},
   "outputs": [
    {
     "data": {
      "text/plain": [
       "[('P1', 4.990081695195067),\n",
       " ('P2', 0.0005571340830127929),\n",
       " ('P4', 0.003995583027421031),\n",
       " ('P5', 0.0032555756738218465),\n",
       " ('P3', 0.002110012020679645)]"
      ]
     },
     "execution_count": 25,
     "metadata": {},
     "output_type": "execute_result"
    }
   ],
   "source": [
    "ranks.collect()"
   ]
  },
  {
   "cell_type": "code",
   "execution_count": 26,
   "metadata": {},
   "outputs": [
    {
     "name": "stdout",
     "output_type": "stream",
     "text": [
      "0:11:42.326045\n"
     ]
    }
   ],
   "source": [
    "end = datetime.now()\n",
    "print(end-start)"
   ]
  },
  {
   "cell_type": "code",
   "execution_count": null,
   "metadata": {},
   "outputs": [],
   "source": []
  }
 ],
 "metadata": {
  "kernelspec": {
   "display_name": "PySpark (Local)",
   "language": "python",
   "name": "pyspark_local"
  },
  "language_info": {
   "codemirror_mode": {
    "name": "ipython",
    "version": 3
   },
   "file_extension": ".py",
   "mimetype": "text/x-python",
   "name": "python",
   "nbconvert_exporter": "python",
   "pygments_lexer": "ipython3",
   "version": "3.7.9"
  }
 },
 "nbformat": 4,
 "nbformat_minor": 4
}
