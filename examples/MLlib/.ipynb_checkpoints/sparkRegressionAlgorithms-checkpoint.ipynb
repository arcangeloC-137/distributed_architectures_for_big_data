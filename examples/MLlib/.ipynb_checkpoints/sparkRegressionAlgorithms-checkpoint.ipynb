{
 "cells": [
  {
   "cell_type": "markdown",
   "id": "loose-thirty",
   "metadata": {},
   "source": [
    "# **Regression Algorithms**\n",
    "A regression algorithm is used to predict the value of a continuous attribute (the target attribute) by applying a model on the predictive attributes. The regression algorithms available in Spark work only on numerical data.\n",
    "\n",
    "The input data must be transformed in a DataFrame having the following attributes:\n",
    "- label: double\n",
    "    - The continuous numerical value to be predicted\n",
    "- features: Vector of doubles\n",
    "    - Predictive features\n",
    "    \n",
    "## **Linear Regression**\n",
    "Linear regression is a popular, effective and efficient regression algorithm."
   ]
  },
  {
   "cell_type": "code",
   "execution_count": null,
   "id": "naval-israeli",
   "metadata": {},
   "outputs": [],
   "source": [
    "from pyspark.mllib.linalg import Vectors\n",
    "from pyspark.ml.feature import VectorAssembler\n",
    "from pyspark.ml.regression import LinearRegression\n",
    "from pyspark.ml import Pipeline\n",
    "from pyspark.ml import PipelineModel\n",
    "\n",
    "# input and output folders\n",
    "trainingData = \"ex_dataregression/trainingData.csv\"\n",
    "unlabeledData = \"ex_dataregression/unlabeledData.csv\"\n",
    "outputPath = \"predictionsLinearRegressionPipeline/“"
   ]
  },
  {
   "cell_type": "code",
   "execution_count": null,
   "id": "expected-analyst",
   "metadata": {},
   "outputs": [],
   "source": [
    "# *************************\n",
    "# Training step\n",
    "# *************************\n",
    "\n",
    "# Create a DataFrame from trainingData.csv\n",
    "# Training data in raw format\n",
    "trainingData = spark.read.load(trainingData,\\\n",
    "                                format=\"csv\", header=True,\\\n",
    "                                inferSchema=True)\n",
    "\n",
    "# Define an assembler to create a column (features) of type Vector\n",
    "# containing the double values associated with columns attr1, attr2, attr3\n",
    "assembler = VectorAssembler(inputCols=[\"attr1\", \"attr2\", \"attr3\"], outputCol=\"features\")"
   ]
  },
  {
   "cell_type": "code",
   "execution_count": null,
   "id": "overhead-intellectual",
   "metadata": {},
   "outputs": [],
   "source": [
    "# Create a LinearRegression object.\n",
    "lr = LinearRegression()\n",
    "lr.setMaxIter(10)\n",
    "lr.setRegParam(0.01)\n",
    "\n",
    "# Define a pipeline \n",
    "pipeline = Pipeline().setStages([assembler, lr])\n",
    "\n",
    "# Execute the pipeline\n",
    "regressionModel = pipeline.fit(trainingData)"
   ]
  },
  {
   "cell_type": "code",
   "execution_count": null,
   "id": "adjusted-canon",
   "metadata": {},
   "outputs": [],
   "source": [
    "# Create a DataFrame from unlabeledData.csv\n",
    "unlabeledData = spark.read.load(unlabeledData,\\\n",
    "                    format=\"csv\", header=True, inferSchema=True)\n",
    "\n",
    "# Make predictions\n",
    "predictionsDF = regressionModel.transform(unlabeledData)\n",
    "predictions = predictionsDF.select(\"attr1\", \"attr2\", \"attr3\", \"prediction\")"
   ]
  }
 ],
 "metadata": {
  "kernelspec": {
   "display_name": "PySpark (Local)",
   "language": "python",
   "name": "pyspark_local"
  },
  "language_info": {
   "codemirror_mode": {
    "name": "ipython",
    "version": 3
   },
   "file_extension": ".py",
   "mimetype": "text/x-python",
   "name": "python",
   "nbconvert_exporter": "python",
   "pygments_lexer": "ipython3",
   "version": "3.7.9"
  }
 },
 "nbformat": 4,
 "nbformat_minor": 5
}
