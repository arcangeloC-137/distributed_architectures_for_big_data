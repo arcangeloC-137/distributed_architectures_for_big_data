{
 "cells": [
  {
   "cell_type": "markdown",
   "id": "cultural-abuse",
   "metadata": {},
   "source": [
    "## Creating DataFrames from CSV file"
   ]
  },
  {
   "cell_type": "code",
   "execution_count": 2,
   "id": "young-mention",
   "metadata": {},
   "outputs": [],
   "source": [
    "from pyspark.sql import SparkSession \n",
    "\n",
    "# Create a Spark Session object\n",
    "spark = SparkSession.builder.getOrCreate()"
   ]
  },
  {
   "cell_type": "code",
   "execution_count": null,
   "id": "fabulous-album",
   "metadata": {},
   "outputs": [],
   "source": [
    "# Create DataFrame from persons.csv\n",
    "df = spark.read.load(\"persons.csv\",           # input file directory\n",
    "                        format = \"csv\",       # input file fotmat\n",
    "                        header = True,        # specify if the first line contains attributes/column's names\n",
    "                        inferSchema = True)   # specify if system have to infer data types, otherwise all strings"
   ]
  }
 ],
 "metadata": {
  "kernelspec": {
   "display_name": "PySpark (Local)",
   "language": "python",
   "name": "pyspark_local"
  },
  "language_info": {
   "codemirror_mode": {
    "name": "ipython",
    "version": 3
   },
   "file_extension": ".py",
   "mimetype": "text/x-python",
   "name": "python",
   "nbconvert_exporter": "python",
   "pygments_lexer": "ipython3",
   "version": "3.7.9"
  }
 },
 "nbformat": 4,
 "nbformat_minor": 5
}
