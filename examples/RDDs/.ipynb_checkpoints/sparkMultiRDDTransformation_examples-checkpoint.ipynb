{
 "cells": [
  {
   "cell_type": "markdown",
   "id": "communist-intervention",
   "metadata": {},
   "source": [
    "## SubtractByKey \n",
    "I create a new RDD contaning only the pairs associated with keys that are not in the second RDD"
   ]
  },
  {
   "cell_type": "code",
   "execution_count": 1,
   "id": "flush-richardson",
   "metadata": {},
   "outputs": [],
   "source": [
    "nameAge = [('Paolo',40), ('Giorgio',22), ('Francesco',35), ('Bruno', 16)]\n",
    "namePhrase = [('Paolo','spam'), ('Giorgio','ciao'), ('Donato','mia'), ('Stefano', 'tua')]\n",
    "\n",
    "nameAgeRDD = sc.parallelize(nameAge)\n",
    "namePhraseRDD = sc.parallelize(namePhrase)"
   ]
  },
  {
   "cell_type": "code",
   "execution_count": 5,
   "id": "cardiovascular-therapy",
   "metadata": {},
   "outputs": [
    {
     "data": {
      "text/plain": [
       "[('Bruno', 16), ('Francesco', 35)]"
      ]
     },
     "execution_count": 5,
     "metadata": {},
     "output_type": "execute_result"
    }
   ],
   "source": [
    "subNameAgeRDD = nameAgeRDD.subtractByKey(namePhraseRDD)\n",
    "subNameAgeRDD.collect()"
   ]
  },
  {
   "cell_type": "markdown",
   "id": "reasonable-concrete",
   "metadata": {},
   "source": [
    "## Join \n",
    "Pay Attention, a lot of data are sent on the network"
   ]
  },
  {
   "cell_type": "code",
   "execution_count": 7,
   "id": "necessary-newfoundland",
   "metadata": {},
   "outputs": [],
   "source": [
    "nameAge = [('Paolo',40), ('Giorgio',22), ('Francesco',35), ('Bruno', 16)]\n",
    "namePhrase = [('Paolo','spam'), ('Giorgio','ciao'), ('Donato','mia'), ('Stefano', 'tua')]\n",
    "\n",
    "nameAgeRDD = sc.parallelize(nameAge)\n",
    "namePhraseRDD = sc.parallelize(namePhrase)"
   ]
  },
  {
   "cell_type": "code",
   "execution_count": 8,
   "id": "insured-exception",
   "metadata": {},
   "outputs": [
    {
     "data": {
      "text/plain": [
       "[('Giorgio', (22, 'ciao')), ('Paolo', (40, 'spam'))]"
      ]
     },
     "execution_count": 8,
     "metadata": {},
     "output_type": "execute_result"
    }
   ],
   "source": [
    "joinNameAgeRDD = nameAgeRDD.join(namePhraseRDD)\n",
    "joinNameAgeRDD.collect()"
   ]
  },
  {
   "cell_type": "code",
   "execution_count": null,
   "id": "editorial-infrared",
   "metadata": {},
   "outputs": [],
   "source": []
  }
 ],
 "metadata": {
  "kernelspec": {
   "display_name": "PySpark (Local)",
   "language": "python",
   "name": "pyspark_local"
  },
  "language_info": {
   "codemirror_mode": {
    "name": "ipython",
    "version": 3
   },
   "file_extension": ".py",
   "mimetype": "text/x-python",
   "name": "python",
   "nbconvert_exporter": "python",
   "pygments_lexer": "ipython3",
   "version": "3.7.9"
  }
 },
 "nbformat": 4,
 "nbformat_minor": 5
}
