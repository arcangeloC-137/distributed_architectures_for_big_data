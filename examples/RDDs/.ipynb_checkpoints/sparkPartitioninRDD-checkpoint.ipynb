{
 "cells": [
  {
   "cell_type": "markdown",
   "id": "floppy-surgery",
   "metadata": {},
   "source": [
    "## Partitions\n",
    "Spark provides different ways to parititon the RDD:\n",
    "1. parallelize\n",
    "2. textFile\n",
    "3. repartition\n",
    "4. coalesce\n",
    "\n",
    "**parallelize(inputPath,slices):** number of partitions is equal to the number of slices provided by the user. Spark automatically tries to balance the number of element among partitions.\n",
    "\n",
    "**textFile(inputPath,minPartitions):** user specified number of partitions must be greater than the number of input blocks. The number of partitions of the returned RDD is greater than or equal to the specified value minPartitions.\n",
    "\n",
    "**repartition(numPartitions):** numPartitions can be greater or smaller than the number of partitions of the input RDD. The number of partitions of the returned RDD is equal to numPartitions. Sparks tries to balance the number of elements per partition in the returned RDD. A shuffle operation is executed to assign input elements to the partitions of the returned RDD. This means data are sent on the network.\n",
    "\n",
    "**coalesce(numPartitions)** [numPartitions] < [number of partitions of the input\n",
    "RDD]. The number of partitions of the returned RDD is equal\n",
    "to numPartitions. Sparks tries to balance the number of elements per\n",
    "partition in the returned RDD. Usually no shuffle operation is executed to assign input elements to the partitions of the returned RDD. Coalesce is more efficient than repartition to reduce the number of partitions.\n",
    "\n",
    "**NOTE:** coalesce(1) is good to create a single partition. Not efficient in execution time, but is good to create one single output file!"
   ]
  },
  {
   "cell_type": "code",
   "execution_count": null,
   "id": "comic-confidentiality",
   "metadata": {},
   "outputs": [],
   "source": []
  }
 ],
 "metadata": {
  "kernelspec": {
   "display_name": "PySpark (Local)",
   "language": "python",
   "name": "pyspark_local"
  },
  "language_info": {
   "codemirror_mode": {
    "name": "ipython",
    "version": 3
   },
   "file_extension": ".py",
   "mimetype": "text/x-python",
   "name": "python",
   "nbconvert_exporter": "python",
   "pygments_lexer": "ipython3",
   "version": "3.7.9"
  }
 },
 "nbformat": 4,
 "nbformat_minor": 5
}
