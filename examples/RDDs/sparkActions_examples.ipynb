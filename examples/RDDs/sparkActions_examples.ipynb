{
 "cells": [
  {
   "cell_type": "code",
   "execution_count": 2,
   "id": "practical-protocol",
   "metadata": {},
   "outputs": [],
   "source": [
    "# Examples"
   ]
  },
  {
   "cell_type": "code",
   "execution_count": 3,
   "id": "attached-illustration",
   "metadata": {},
   "outputs": [
    {
     "data": {
      "text/html": [
       "\n",
       "        <div>\n",
       "            <p><b>SparkContext</b></p>\n",
       "\n",
       "            <p><a href=\"http://10.42.9.252:4042\">Spark UI</a></p>\n",
       "\n",
       "            <dl>\n",
       "              <dt>Version</dt>\n",
       "                <dd><code>v2.4.0-cdh6.2.1</code></dd>\n",
       "              <dt>Master</dt>\n",
       "                <dd><code>local[*]</code></dd>\n",
       "              <dt>AppName</dt>\n",
       "                <dd><code>pyspark-shell</code></dd>\n",
       "            </dl>\n",
       "        </div>\n",
       "        "
      ],
      "text/plain": [
       "<SparkContext master=local[*] appName=pyspark-shell>"
      ]
     },
     "execution_count": 3,
     "metadata": {},
     "output_type": "execute_result"
    }
   ],
   "source": [
    "sc"
   ]
  },
  {
   "cell_type": "code",
   "execution_count": 8,
   "id": "apparent-profile",
   "metadata": {},
   "outputs": [
    {
     "name": "stdout",
     "output_type": "stream",
     "text": [
      "Top 2:\n",
      "[6, 5]\n",
      "Top 3:\n",
      "[6, 5, 5]\n",
      "Top 4:\n",
      "[6, 5, 5, 3]\n"
     ]
    }
   ],
   "source": [
    "# Top action\n",
    "\n",
    "inputList = [5,5,6,1,3,2]\n",
    "inputRDD = sc.parallelize(inputList)\n",
    "\n",
    "# Retrieve top 2, 3 and 4 elements\n",
    "top2 = inputRDD.top(2)\n",
    "top3 = inputRDD.top(3)\n",
    "top4 = inputRDD.top(4)\n",
    "\n",
    "print(\"Top 2:\")\n",
    "print(top2)\n",
    "\n",
    "print(\"Top 3:\")\n",
    "print(top3)\n",
    "\n",
    "print(\"Top 4:\")\n",
    "print(top4)"
   ]
  },
  {
   "cell_type": "code",
   "execution_count": 19,
   "id": "ambient-portal",
   "metadata": {},
   "outputs": [
    {
     "name": "stdout",
     "output_type": "stream",
     "text": [
      "['Francesco', 'Arcangelo', 'Giovanni']\n"
     ]
    }
   ],
   "source": [
    "# Top action custom order\n",
    "\n",
    "inputListNames = ['Giovanni', 'Paolo', 'Francesco', 'Arcangelo', 'Luca']\n",
    "inputNamesRDD = sc.parallelize(inputListNames)\n",
    "\n",
    "# Retrieve top three longest names\n",
    "topThreeNamesDesc = inputNamesRDD.top(3, lambda x:len(x))\n",
    "print(topThreeNamesDesc)"
   ]
  },
  {
   "cell_type": "code",
   "execution_count": 17,
   "id": "instrumental-difference",
   "metadata": {},
   "outputs": [
    {
     "name": "stdout",
     "output_type": "stream",
     "text": [
      "[1, 2, 5]\n"
     ]
    }
   ],
   "source": [
    "# TakeOrdered action\n",
    "inputList = [1,2,5,12,55]\n",
    "inputRDD = sc.parallelize(inputList)\n",
    "\n",
    "# Retrieve first 4 elements in asc order\n",
    "top3 = inputRDD.takeOrdered(3)\n",
    "print(top3)"
   ]
  },
  {
   "cell_type": "code",
   "execution_count": 20,
   "id": "stunning-kuwait",
   "metadata": {},
   "outputs": [
    {
     "name": "stdout",
     "output_type": "stream",
     "text": [
      "['Luca', 'Paolo', 'Giovanni']\n"
     ]
    }
   ],
   "source": [
    "# Same can be done for custom order\n",
    "topThreeNamesAsc = inputNamesRDD.takeOrdered(3,lambda x: len(x))\n",
    "print(topThreeNamesAsc)"
   ]
  },
  {
   "cell_type": "code",
   "execution_count": 21,
   "id": "suspected-bachelor",
   "metadata": {},
   "outputs": [
    {
     "name": "stdout",
     "output_type": "stream",
     "text": [
      "['Paolo', 'Giovanni', 'Arcangelo']\n"
     ]
    }
   ],
   "source": [
    "# takeSample action\n",
    "# If you want random samples from your RDD\n",
    "\n",
    "## It takes as parameters (WithReplacement ('True'/'False'), numElements, seed (optional))\n",
    "randomNames = inputNamesRDD.takeSample(False,3)\n",
    "print(randomNames)"
   ]
  },
  {
   "cell_type": "code",
   "execution_count": 22,
   "id": "controlling-confidentiality",
   "metadata": {},
   "outputs": [
    {
     "name": "stdout",
     "output_type": "stream",
     "text": [
      "45\n"
     ]
    }
   ],
   "source": [
    "# Reduce action Example 1\n",
    "\n",
    "# It is used to reduce the list to a single python object element \n",
    "# according to a user provided function\n",
    "\n",
    "inputList = [1,2,3,4,5,6,7,8,9]\n",
    "inputRDD = sc.parallelize(inputList)\n",
    "\n",
    "# Be aware that the function must be assosciative or commuative\n",
    "# input and output data type MUST be the same\n",
    "sumValues = inputRDD.reduce(lambda s,t: s+t) ## note that function is applied recursively, no for loop needed\n",
    "print(sumValues)"
   ]
  },
  {
   "cell_type": "code",
   "execution_count": 24,
   "id": "unique-diesel",
   "metadata": {},
   "outputs": [
    {
     "name": "stdout",
     "output_type": "stream",
     "text": [
      "99\n"
     ]
    }
   ],
   "source": [
    "# Reduce action Example 2\n",
    "\n",
    "# We define a custom function\n",
    "def computeMax(x,y):\n",
    "    if(x>=y):\n",
    "        return x\n",
    "    return y\n",
    "\n",
    "inputList = [43,51,22,13,78,99,1,42]\n",
    "inputRDD = sc.parallelize(inputList)\n",
    "\n",
    "# Be aware that the function must be assosciative or commuative\n",
    "maxVal = inputRDD.reduce(computeMax) ## note that function is applied recursively, no for loop needed\n",
    "print(maxVal)"
   ]
  },
  {
   "cell_type": "code",
   "execution_count": 31,
   "id": "approximate-leather",
   "metadata": {},
   "outputs": [
    {
     "name": "stdout",
     "output_type": "stream",
     "text": [
      "This is a test \n"
     ]
    }
   ],
   "source": [
    "# Fold Action\n",
    "# useful if no commutative is required\n",
    "\n",
    "# Let's say we want to concatenate strings (associative but not commutative)\n",
    "inputList = ['This ', 'is ', 'a ', 'test ']\n",
    "inputRDD = sc.parallelize(inputList)\n",
    "\n",
    "# First parameter is always empty string!\n",
    "phrase = inputRDD.fold('',lambda x,y : x+y)\n",
    "print(phrase)\n",
    "\n",
    "# lambda function we used is not very good in terms of efficiency\n",
    "# you have no other options anyway..."
   ]
  },
  {
   "cell_type": "code",
   "execution_count": 41,
   "id": "inappropriate-fence",
   "metadata": {},
   "outputs": [
    {
     "name": "stdout",
     "output_type": "stream",
     "text": [
      "(22, 6)\n",
      "Avergae:  3.6666666666666665\n"
     ]
    }
   ],
   "source": [
    "# Aggregate Action\n",
    "\n",
    "# Input and Output terms can be different\n",
    "# It takes three parameter, a zero value and two user provided functions\n",
    "\n",
    "# First function combines differnt data types\n",
    "# Second function combines ssame data types\n",
    "\n",
    "# We wanr to compute the sum of the elements, and the number of elements we have\n",
    "inputListAggr = [1,2,3,5,5,6]\n",
    "inRDD = sc.parallelize(inputListAggr)\n",
    "\n",
    "# Instatiate a zero val using a tuple (sum, # of elements)\n",
    "zeroVal = (0,0)\n",
    "\n",
    "# Compute the sum of the elements and count them\n",
    "## (1, 1), 2 -> (1+2 [acc[0]]+v2, 1+1 [acc[1]+1]) -> (3, 2)\n",
    "## second function used to aggregate partiotions\n",
    "sumCount = inRDD.aggregate(zeroVal, lambda acc,v2: (acc[0]+v2, acc[1]+1), \n",
    "                           lambda acc1, acc2: (acc1[0]+acc2[0], acc1[1]+acc2[1]))\n",
    "\n",
    "print(sumCount)\n",
    "\n",
    "# We compute the average\n",
    "myAvg = sumCount[0]/sumCount[1]\n",
    "print('Avergae: ', myAvg)"
   ]
  },
  {
   "cell_type": "code",
   "execution_count": 46,
   "id": "constant-checkout",
   "metadata": {},
   "outputs": [
    {
     "name": "stdout",
     "output_type": "stream",
     "text": [
      "(22, 6)\n"
     ]
    }
   ],
   "source": [
    "# Pay attention that the data sent on the network are the same as\n",
    "# using map and reduce methods. Efficiency in the end is quite the same\n",
    "\n",
    "mapRDD = inRDD.map(lambda v: (v,1))\n",
    "\n",
    "reduceRDD = mapRDD.reduce(lambda x,y: (x[0]+y[0],x[1]+y[1]))\n",
    "print(reduceRDD)"
   ]
  },
  {
   "cell_type": "code",
   "execution_count": 48,
   "id": "growing-romania",
   "metadata": {},
   "outputs": [
    {
     "data": {
      "text/plain": [
       "[(1, 1), (2, 1), (3, 1), (5, 1), (5, 1), (6, 1)]"
      ]
     },
     "execution_count": 48,
     "metadata": {},
     "output_type": "execute_result"
    }
   ],
   "source": [
    "mapRDD.collect()"
   ]
  },
  {
   "cell_type": "code",
   "execution_count": 1,
   "id": "skilled-thousand",
   "metadata": {},
   "outputs": [],
   "source": [
    "# CountByKey action\n",
    "\n",
    "# Returns a local python dictinoary containing the info about the number of elements associated with each key\n",
    "\n",
    "# If the number of distinct keys is large, the result \n",
    "# of the actino cannot be stored in a local variable of the Driver\n",
    "\n",
    "# Data are sent on the network to compute the final result\n",
    "\n",
    "inputList = [('Forrest Gump', 4), ('Star Trek', 5), ('Forrest Gump', 3)]"
   ]
  },
  {
   "cell_type": "code",
   "execution_count": 2,
   "id": "middle-incidence",
   "metadata": {},
   "outputs": [
    {
     "data": {
      "text/plain": [
       "defaultdict(int, {'Forrest Gump': 2, 'Star Trek': 1})"
      ]
     },
     "execution_count": 2,
     "metadata": {},
     "output_type": "execute_result"
    }
   ],
   "source": [
    "inputRDD = sc.parallelize(inputList)\n",
    "inputRDD.countByKey()"
   ]
  },
  {
   "cell_type": "code",
   "execution_count": 3,
   "id": "instant-stock",
   "metadata": {},
   "outputs": [],
   "source": [
    "# CollectAsMap action\n",
    "\n",
    "# Returns a local dictionary containing the same pairs of the considered input RDD of pairs\n",
    "# PAY ATTENTION: lot of data on the network, it transfer the entire RDD\n",
    "\n",
    "# A dictinoary cannot contain duplicate keys! OCIO, system won't rise an error!\n",
    "\n",
    "inputList = [('User1', 'Paolo'), ('User2', 'Giovanni'), ('User3', 'Francesco')]\n",
    "inputRDD = sc.parallelize(inputList)\n",
    "\n",
    "retrievePairsRDD = inputRDD.collectAsMap()"
   ]
  },
  {
   "cell_type": "code",
   "execution_count": 5,
   "id": "moral-second",
   "metadata": {},
   "outputs": [
    {
     "name": "stdout",
     "output_type": "stream",
     "text": [
      "{'User1': 'Paolo', 'User2': 'Giovanni', 'User3': 'Francesco'}\n"
     ]
    }
   ],
   "source": [
    "print(retrievePairsRDD)"
   ]
  },
  {
   "cell_type": "code",
   "execution_count": 6,
   "id": "wireless-means",
   "metadata": {},
   "outputs": [
    {
     "name": "stdout",
     "output_type": "stream",
     "text": [
      "{'User1': 'Paolo', 'User2': 'Francesco'}\n"
     ]
    }
   ],
   "source": [
    "# ERROR with duplicate keys\n",
    "\n",
    "wrongInputList = [('User1', 'Paolo'), ('User2', 'Giovanni'), ('User2', 'Francesco')]\n",
    "inputRDD = sc.parallelize(wrongInputList)\n",
    "\n",
    "retrievePairsRDD = inputRDD.collectAsMap()\n",
    "print(retrievePairsRDD)"
   ]
  },
  {
   "cell_type": "code",
   "execution_count": 9,
   "id": "freelance-garbage",
   "metadata": {},
   "outputs": [
    {
     "data": {
      "text/plain": [
       "[4, 3]"
      ]
     },
     "execution_count": 9,
     "metadata": {},
     "output_type": "execute_result"
    }
   ],
   "source": [
    "# Lookup action\n",
    "\n",
    "# returns a local python list containing the   values \n",
    "# of the pairs of the input RDD associated with the key k specified as parameter\n",
    "\n",
    "inputList = [('Forrest Gump', 4), ('Star Trek', 5), ('Forrest Gump', 3)]\n",
    "inputRDD = sc.parallelize(inputList)\n",
    "inputRDD.lookup('Forrest Gump')"
   ]
  },
  {
   "cell_type": "code",
   "execution_count": null,
   "id": "constitutional-average",
   "metadata": {},
   "outputs": [],
   "source": []
  }
 ],
 "metadata": {
  "kernelspec": {
   "display_name": "PySpark (Local)",
   "language": "python",
   "name": "pyspark_local"
  },
  "language_info": {
   "codemirror_mode": {
    "name": "ipython",
    "version": 3
   },
   "file_extension": ".py",
   "mimetype": "text/x-python",
   "name": "python",
   "nbconvert_exporter": "python",
   "pygments_lexer": "ipython3",
   "version": "3.7.9"
  }
 },
 "nbformat": 4,
 "nbformat_minor": 5
}
