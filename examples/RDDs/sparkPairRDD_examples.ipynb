{
 "cells": [
  {
   "cell_type": "markdown",
   "id": "joined-healing",
   "metadata": {},
   "source": [
    "# ReduceByKey\n",
    "### Similarly to reduce action, it takes an RDD of (kye,val) tuples and reduces the input RDD to a list of single tuple for each key with val computed via a specified function f. Its result is stored in a brand new RDD.\n"
   ]
  },
  {
   "cell_type": "code",
   "execution_count": 3,
   "id": "native-somalia",
   "metadata": {},
   "outputs": [],
   "source": [
    "sc\n",
    "nameAge = [('Paolo',40), ('Giorgio',22), ('Paolo',35)]"
   ]
  },
  {
   "cell_type": "code",
   "execution_count": 6,
   "id": "controversial-salem",
   "metadata": {},
   "outputs": [
    {
     "data": {
      "text/plain": [
       "[('Giorgio', 22), ('Paolo', 35)]"
      ]
     },
     "execution_count": 6,
     "metadata": {},
     "output_type": "execute_result"
    }
   ],
   "source": [
    "nameAgeRDD = sc.parallelize(nameAge)\n",
    "\n",
    "# Select for each name the lower age\n",
    "youngestPariRDD = nameAgeRDD.reduceByKey(lambda age1, age2: min(age1,age2))\n",
    "youngestPariRDD.collect()"
   ]
  },
  {
   "cell_type": "markdown",
   "id": "sustained-banks",
   "metadata": {},
   "source": [
    "# FoldByKey\n",
    "### Similarly to reduceByKey but is requires the function to be associative and needs a zero first value."
   ]
  },
  {
   "cell_type": "code",
   "execution_count": 9,
   "id": "metropolitan-apparatus",
   "metadata": {},
   "outputs": [
    {
     "data": {
      "text/plain": [
       "[('Giorgio', 'Sono Giorgio'), ('Paolo', 'Sono Paolo')]"
      ]
     },
     "execution_count": 9,
     "metadata": {},
     "output_type": "execute_result"
    }
   ],
   "source": [
    "# Concatenate messages associated with names\n",
    "nameMessage = [('Paolo','Sono'), ('Giorgio','Sono Giorgio'), ('Paolo',' Paolo')]\n",
    "\n",
    "nameMessaggeRDD = sc.parallelize(nameMessage)\n",
    "\n",
    "zero = ('')\n",
    "nameMexRDD = nameMessaggeRDD.foldByKey(zero,lambda mex1, mex2: mex1+mex2)\n",
    "nameMexRDD.collect()"
   ]
  },
  {
   "cell_type": "markdown",
   "id": "coated-technician",
   "metadata": {},
   "source": [
    "# CombineByKey\n",
    "### It is a generalization of foldByKey because the data types of the values of the input and the returned RDD of pairs can be different."
   ]
  },
  {
   "cell_type": "code",
   "execution_count": 12,
   "id": "approximate-economics",
   "metadata": {},
   "outputs": [
    {
     "data": {
      "text/plain": [
       "[('Giorgio', (22, 1)), ('Paolo', (75, 2))]"
      ]
     },
     "execution_count": 12,
     "metadata": {},
     "output_type": "execute_result"
    }
   ],
   "source": [
    "# Write an HDFS where each line conains name, age, avgAge\n",
    "nameAge = [('Paolo',40), ('Giorgio',22), ('Paolo',35)]\n",
    "nameAgeRDD = sc.parallelize(nameAge)\n",
    "\n",
    "# Compute the sum of the ages and the num of input paurs for each name (key)\n",
    "sumNameRDD = nameAgeRDD.combineByKey(\\\n",
    "                lambda inputElem: (inputElem,1),\\\n",
    "                lambda intermediateElem, inputElem: (intermediateElem[0]+inputElem, intermediateElem[1]+1),\\\n",
    "                lambda intermediateElem1, intermediateElem2:\\\n",
    "                            (intermediateElem1[0]+intermediateElem2[0],intermediateElem1[1]+intermediateElem2[1]))\n",
    "sumNameRDD.collect()"
   ]
  },
  {
   "cell_type": "code",
   "execution_count": 37,
   "id": "exempt-antibody",
   "metadata": {},
   "outputs": [
    {
     "data": {
      "text/plain": [
       "[('Giorgio', 22.0), ('Paolo', 37.5)]"
      ]
     },
     "execution_count": 37,
     "metadata": {},
     "output_type": "execute_result"
    }
   ],
   "source": [
    "# Compute avg and save it on HDFS\n",
    "avgPerNameRDD = sumNameRDD.map(lambda pair: (pair[0], pair[1][0]/pair[1][1]))\n",
    "\n",
    "outputPath = 'res_combineByKey_example/'\n",
    "##avgPerNameRDD.saveAsTextFile(outputPath)\n",
    "avgPerNameRDD.collect()"
   ]
  },
  {
   "cell_type": "markdown",
   "id": "absolute-penetration",
   "metadata": {},
   "source": [
    "# GroupByKey\n",
    "### Not associative nor commutative, use it only if you want to compute an aggregation, otherwise it is not the best solution"
   ]
  },
  {
   "cell_type": "code",
   "execution_count": 15,
   "id": "talented-batch",
   "metadata": {},
   "outputs": [
    {
     "data": {
      "text/plain": [
       "[('Giorgio', <pyspark.resultiterable.ResultIterable at 0x7f2347490790>),\n",
       " ('Bruno', <pyspark.resultiterable.ResultIterable at 0x7f2347490a50>),\n",
       " ('Paolo', <pyspark.resultiterable.ResultIterable at 0x7f23474907d0>)]"
      ]
     },
     "execution_count": 15,
     "metadata": {},
     "output_type": "execute_result"
    }
   ],
   "source": [
    "# Create an HDFS file were each line has a unique name and a list of all the ages associated with it\n",
    "nameAge = [('Paolo',40), ('Giorgio',22), ('Paolo',35), ('Bruno', 16)]\n",
    "\n",
    "nameAgeRDD = sc.parallelize(nameAge,2)\n",
    "nameAgePairsRDD = nameAgeRDD.groupByKey()\n",
    "\n",
    "nameAgePairsRDD.collect()"
   ]
  },
  {
   "cell_type": "code",
   "execution_count": 17,
   "id": "sustainable-witness",
   "metadata": {},
   "outputs": [],
   "source": [
    "nameAgePairsRDD.mapValues(lambda listValues: list(listValues)).saveAsTextFile('res_groupByKey_example/')"
   ]
  },
  {
   "cell_type": "code",
   "execution_count": 18,
   "id": "ambient-interpretation",
   "metadata": {},
   "outputs": [],
   "source": [
    "# Note: mapValues is used to transform the values of each pair\n",
    "# it transform an iterable into a Python list"
   ]
  },
  {
   "cell_type": "markdown",
   "id": "massive-amber",
   "metadata": {},
   "source": [
    "# MapValues\n",
    "### Apply a function f over the value of each pair of an input RDD or key/val paurs and return a new RDD with same number of key/val pairs. More efficient than map transformation, it doesn't send data on the network"
   ]
  },
  {
   "cell_type": "code",
   "execution_count": 20,
   "id": "minute-specialist",
   "metadata": {},
   "outputs": [
    {
     "data": {
      "text/plain": [
       "[('Paolo', 41), ('Giorgio', 23), ('Paolo', 36)]"
      ]
     },
     "execution_count": 20,
     "metadata": {},
     "output_type": "execute_result"
    }
   ],
   "source": [
    "# Increase for each name/age the age val of 1\n",
    "nameAge = [('Paolo',40), ('Giorgio',22), ('Paolo',35)]\n",
    "nameAgeRDD = sc.parallelize(nameAge)\n",
    "\n",
    "plusOneRDD = nameAgeRDD.mapValues(lambda age: age+1)\n",
    "plusOneRDD.collect() # Key part doesn't change"
   ]
  },
  {
   "cell_type": "markdown",
   "id": "palestinian-broad",
   "metadata": {},
   "source": [
    "# FlatMapValues\n",
    "### Similar to MapValues, the returned is a list of key/values"
   ]
  },
  {
   "cell_type": "code",
   "execution_count": 27,
   "id": "opened-engineering",
   "metadata": {},
   "outputs": [
    {
     "data": {
      "text/plain": [
       "[('Sentence 1', 'Sentence'),\n",
       " ('Sentence 1', 'Test'),\n",
       " ('Sentence 1', 'Number'),\n",
       " ('Sentence 1', '1'),\n",
       " ('Sentence 2', 'Sentence'),\n",
       " ('Sentence 2', 'Test'),\n",
       " ('Sentence 2', 'Number'),\n",
       " ('Sentence 2', '2'),\n",
       " ('Sentence 3', 'Sentence'),\n",
       " ('Sentence 3', 'Test'),\n",
       " ('Sentence 3', 'Number'),\n",
       " ('Sentence 3', '3')]"
      ]
     },
     "execution_count": 27,
     "metadata": {},
     "output_type": "execute_result"
    }
   ],
   "source": [
    "# Extract words for each sentence\n",
    "sentences = [('Sentence 1', 'Sentence Test Number 1'), \n",
    "          ('Sentence 2', 'Sentence Test Number 2'),\n",
    "          ('Sentence 3', 'Sentence Test Number 3')]\n",
    "\n",
    "sentencesRDD = sc.parallelize(sentences)\n",
    "\n",
    "sentIdWord = sentencesRDD.flatMapValues(lambda s: s.split(' '))\n",
    "sentIdWord.collect()"
   ]
  },
  {
   "cell_type": "markdown",
   "id": "nasty-memory",
   "metadata": {},
   "source": [
    "# Keys transformation\n",
    "### Used to return an RDD where you only have the key part. Note: duplicates are not removed!"
   ]
  },
  {
   "cell_type": "code",
   "execution_count": 30,
   "id": "decimal-easter",
   "metadata": {},
   "outputs": [
    {
     "name": "stdout",
     "output_type": "stream",
     "text": [
      "['Paolo', 'Giorgio', 'Paolo', 'Bruno']\n",
      "['Bruno', 'Giorgio', 'Paolo']\n"
     ]
    }
   ],
   "source": [
    "nameAge = [('Paolo',40), ('Giorgio',22), ('Paolo',35), ('Bruno', 16)]\n",
    "\n",
    "nameAgeRDD = sc.parallelize(nameAge)\n",
    "\n",
    "nameAgeKeysRDD = nameAgeRDD.keys()\n",
    "print(nameAgeKeysRDD.collect())\n",
    "\n",
    "nameAgeKeysDistinctRDD = nameAgeRDD.keys().distinct()\n",
    "print(nameAgeKeysDistinctRDD.collect())"
   ]
  },
  {
   "cell_type": "markdown",
   "id": "peaceful-australia",
   "metadata": {},
   "source": [
    "# Values transformation\n",
    "### Used to return an RDD where you only have the value part. Note: duplicates are not removed!"
   ]
  },
  {
   "cell_type": "code",
   "execution_count": 32,
   "id": "ranking-difficulty",
   "metadata": {},
   "outputs": [
    {
     "data": {
      "text/plain": [
       "[40, 22, 35, 16]"
      ]
     },
     "execution_count": 32,
     "metadata": {},
     "output_type": "execute_result"
    }
   ],
   "source": [
    "nameAge = [('Paolo',40), ('Giorgio',22), ('Paolo',35), ('Bruno', 16)]\n",
    "\n",
    "nameAgeRDD = sc.parallelize(nameAge)\n",
    "\n",
    "nameAgesValuesRDD = nameAgeRDD.values()\n",
    "nameAgesValuesRDD.collect()"
   ]
  },
  {
   "cell_type": "markdown",
   "id": "historic-singer",
   "metadata": {},
   "source": [
    "# Values() and Keys() DO NOT SEND DATA ON THE NETWORK!"
   ]
  },
  {
   "cell_type": "markdown",
   "id": "ceramic-constraint",
   "metadata": {},
   "source": [
    "# SortByKey transformation\n",
    "### Sorts according ONLY on keys"
   ]
  },
  {
   "cell_type": "code",
   "execution_count": 35,
   "id": "auburn-understanding",
   "metadata": {},
   "outputs": [
    {
     "data": {
      "text/plain": [
       "[('Paolo', 40), ('Paolo', 35), ('Giorgio', 22), ('Bruno', 16)]"
      ]
     },
     "execution_count": 35,
     "metadata": {},
     "output_type": "execute_result"
    }
   ],
   "source": [
    "nameAge = [('Paolo',40), ('Giorgio',22), ('Paolo',35), ('Bruno', 16)]\n",
    "\n",
    "nameAgeRDD = sc.parallelize(nameAge)\n",
    "\n",
    "nameAgesSortedByKeysRDD = nameAgeRDD.sortByKey(False) # True ASC, False DESC\n",
    "nameAgesSortedByKeysRDD.collect()"
   ]
  },
  {
   "cell_type": "code",
   "execution_count": null,
   "id": "tender-lightweight",
   "metadata": {},
   "outputs": [],
   "source": []
  }
 ],
 "metadata": {
  "kernelspec": {
   "display_name": "PySpark (Local)",
   "language": "python",
   "name": "pyspark_local"
  },
  "language_info": {
   "codemirror_mode": {
    "name": "ipython",
    "version": 3
   },
   "file_extension": ".py",
   "mimetype": "text/x-python",
   "name": "python",
   "nbconvert_exporter": "python",
   "pygments_lexer": "ipython3",
   "version": "3.7.9"
  }
 },
 "nbformat": 4,
 "nbformat_minor": 5
}
