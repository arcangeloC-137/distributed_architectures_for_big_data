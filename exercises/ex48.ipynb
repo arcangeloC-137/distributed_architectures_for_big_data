{
 "cells": [
  {
   "cell_type": "markdown",
   "id": "worthy-mining",
   "metadata": {},
   "source": [
    "## Exercise 48 - SparkSQL\n",
    "- Input:\n",
    "    - A CSV file containing a list of user profiles\n",
    "    - Header\n",
    "    - name,age,gender\n",
    "    - Each line of the file contains the information about one user\n",
    "- Output:\n",
    "    - Select the names occurring at least two times and store in the output folder name and average(age) of the selected names.\n",
    "    - The output does not contain the header line\n",
    "\n",
    "\n",
    "- Example of input data:\n",
    "    - name,age,gender\n",
    "    - Paul,40,male\n",
    "    - Paul,38,male\n",
    "    - David,15,male\n",
    "    - Susan,40,female\n",
    "    - Susan,34,female\n",
    "- Example of expected output:\n",
    "    - Paul,39\n",
    "    - Susan,37"
   ]
  },
  {
   "cell_type": "code",
   "execution_count": 12,
   "id": "close-choir",
   "metadata": {},
   "outputs": [],
   "source": [
    "from pyspark.sql import SparkSession\n",
    "\n",
    "# Create a spark session\n",
    "spark = SparkSession.builder.getOrCreate()\n",
    "\n",
    "# Create a DataFrame from persons_age_name_gender.csv\n",
    "dfPersons = spark.read.load('./databases/persons_ex.csv',\\\n",
    "                            format='csv',\\\n",
    "                            header=True,\\\n",
    "                            inferSchema=True)"
   ]
  },
  {
   "cell_type": "code",
   "execution_count": 13,
   "id": "spiritual-parker",
   "metadata": {},
   "outputs": [
    {
     "name": "stdout",
     "output_type": "stream",
     "text": [
      "root\n",
      " |-- name: string (nullable = true)\n",
      " |-- age: integer (nullable = true)\n",
      " |-- gender: string (nullable = true)\n",
      "\n",
      "+-----+---+------+\n",
      "| name|age|gender|\n",
      "+-----+---+------+\n",
      "| Paul| 40|  male|\n",
      "| Paul| 28|  male|\n",
      "|David| 15|  male|\n",
      "|Susan| 40|female|\n",
      "|Susan| 34|female|\n",
      "+-----+---+------+\n",
      "\n"
     ]
    }
   ],
   "source": [
    "dfPersons.printSchema()\n",
    "dfPersons.show()"
   ]
  },
  {
   "cell_type": "markdown",
   "id": "former-kinase",
   "metadata": {},
   "source": [
    "## **Solution 1 - SQL synatx**"
   ]
  },
  {
   "cell_type": "code",
   "execution_count": 14,
   "id": "sized-pressure",
   "metadata": {},
   "outputs": [],
   "source": [
    "# I replace DF name with a easier one\n",
    "dfPersons.createOrReplaceTempView('persons') "
   ]
  },
  {
   "cell_type": "code",
   "execution_count": 22,
   "id": "reserved-sitting",
   "metadata": {},
   "outputs": [],
   "source": [
    "dfNameAvg = spark.sql(\"\"\"SELECT name, avg(age) as avg\n",
    "                                 FROM persons\n",
    "                                 GROUP BY name\n",
    "                                 HAVING count(*)>1\"\"\")"
   ]
  },
  {
   "cell_type": "code",
   "execution_count": 23,
   "id": "unexpected-upset",
   "metadata": {},
   "outputs": [
    {
     "name": "stdout",
     "output_type": "stream",
     "text": [
      "root\n",
      " |-- name: string (nullable = true)\n",
      " |-- avg: double (nullable = true)\n",
      "\n",
      "+-----+----+\n",
      "| name| avg|\n",
      "+-----+----+\n",
      "|Susan|37.0|\n",
      "| Paul|34.0|\n",
      "+-----+----+\n",
      "\n"
     ]
    }
   ],
   "source": [
    "dfNameAvg.printSchema()\n",
    "dfNameAvg.show()"
   ]
  },
  {
   "cell_type": "markdown",
   "id": "dressed-wilderness",
   "metadata": {},
   "source": [
    "## **Solution 2 - SparkSQL API**"
   ]
  },
  {
   "cell_type": "code",
   "execution_count": 28,
   "id": "fancy-potential",
   "metadata": {},
   "outputs": [],
   "source": [
    "dfNameCountRecord = dfPersons.groupBy(\"name\").agg({\"*\": \"count\", \"age\": \"avg\"})"
   ]
  },
  {
   "cell_type": "code",
   "execution_count": 29,
   "id": "sized-buying",
   "metadata": {},
   "outputs": [
    {
     "name": "stdout",
     "output_type": "stream",
     "text": [
      "root\n",
      " |-- name: string (nullable = true)\n",
      " |-- count(1): long (nullable = false)\n",
      " |-- avg(age): double (nullable = true)\n",
      "\n",
      "+-----+--------+--------+\n",
      "| name|count(1)|avg(age)|\n",
      "+-----+--------+--------+\n",
      "|Susan|       2|    37.0|\n",
      "|David|       1|    15.0|\n",
      "| Paul|       2|    34.0|\n",
      "+-----+--------+--------+\n",
      "\n"
     ]
    }
   ],
   "source": [
    "dfNameCountRecord.printSchema()\n",
    "dfNameCountRecord.show()"
   ]
  },
  {
   "cell_type": "code",
   "execution_count": 32,
   "id": "confidential-oracle",
   "metadata": {},
   "outputs": [],
   "source": [
    "dfSelecteNames = dfNameCountRecord.filter(\"count(1)>=2\").select('name','avg(age)')"
   ]
  },
  {
   "cell_type": "code",
   "execution_count": 33,
   "id": "color-focus",
   "metadata": {},
   "outputs": [
    {
     "name": "stdout",
     "output_type": "stream",
     "text": [
      "root\n",
      " |-- name: string (nullable = true)\n",
      " |-- avg(age): double (nullable = true)\n",
      "\n",
      "+-----+--------+\n",
      "| name|avg(age)|\n",
      "+-----+--------+\n",
      "|Susan|    37.0|\n",
      "| Paul|    34.0|\n",
      "+-----+--------+\n",
      "\n"
     ]
    }
   ],
   "source": [
    "dfSelecteNames.printSchema()\n",
    "dfSelecteNames.show()"
   ]
  },
  {
   "cell_type": "code",
   "execution_count": null,
   "id": "unusual-porter",
   "metadata": {},
   "outputs": [],
   "source": [
    "dfSelectedNames.write.csv(outputFolder, header=True)"
   ]
  },
  {
   "cell_type": "markdown",
   "id": "reasonable-liver",
   "metadata": {},
   "source": [
    "## **Solution 3 - RDDs**"
   ]
  },
  {
   "cell_type": "code",
   "execution_count": 34,
   "id": "every-chemical",
   "metadata": {},
   "outputs": [],
   "source": [
    "# solution long "
   ]
  },
  {
   "cell_type": "code",
   "execution_count": null,
   "id": "embedded-apparel",
   "metadata": {},
   "outputs": [],
   "source": []
  }
 ],
 "metadata": {
  "kernelspec": {
   "display_name": "PySpark (Local)",
   "language": "python",
   "name": "pyspark_local"
  },
  "language_info": {
   "codemirror_mode": {
    "name": "ipython",
    "version": 3
   },
   "file_extension": ".py",
   "mimetype": "text/x-python",
   "name": "python",
   "nbconvert_exporter": "python",
   "pygments_lexer": "ipython3",
   "version": "3.7.9"
  }
 },
 "nbformat": 4,
 "nbformat_minor": 5
}
