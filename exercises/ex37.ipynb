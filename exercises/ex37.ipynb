{
 "cells": [
  {
   "cell_type": "code",
   "execution_count": 1,
   "id": "looking-immunology",
   "metadata": {},
   "outputs": [],
   "source": [
    "# Exercise 37 - Find the maximum value of PM10 for each sensot"
   ]
  },
  {
   "cell_type": "code",
   "execution_count": 2,
   "id": "illegal-treatment",
   "metadata": {},
   "outputs": [
    {
     "data": {
      "text/html": [
       "\n",
       "        <div>\n",
       "            <p><b>SparkContext</b></p>\n",
       "\n",
       "            <p><a href=\"http://10.42.25.111:4047\">Spark UI</a></p>\n",
       "\n",
       "            <dl>\n",
       "              <dt>Version</dt>\n",
       "                <dd><code>v2.4.0-cdh6.2.1</code></dd>\n",
       "              <dt>Master</dt>\n",
       "                <dd><code>local[*]</code></dd>\n",
       "              <dt>AppName</dt>\n",
       "                <dd><code>pyspark-shell</code></dd>\n",
       "            </dl>\n",
       "        </div>\n",
       "        "
      ],
      "text/plain": [
       "<SparkContext master=local[*] appName=pyspark-shell>"
      ]
     },
     "execution_count": 2,
     "metadata": {},
     "output_type": "execute_result"
    }
   ],
   "source": [
    "sc"
   ]
  },
  {
   "cell_type": "code",
   "execution_count": 2,
   "id": "selected-maria",
   "metadata": {},
   "outputs": [],
   "source": [
    "inputPath = \"/data/students/bigdata-01QYD/ex_data/Ex37/data/\""
   ]
  },
  {
   "cell_type": "code",
   "execution_count": 13,
   "id": "junior-flavor",
   "metadata": {},
   "outputs": [],
   "source": [
    "logRDD = sc.textFile(inputPath)\n",
    "\n",
    "maxIdPM10RDD = logRDD.map(lambda logline: (logline.split(',')[0],\n",
    "                                           float(logline.split(',')[2]))).reduceByKey(lambda pm1, pm2: max(pm1,pm2))"
   ]
  },
  {
   "cell_type": "code",
   "execution_count": 14,
   "id": "metropolitan-pathology",
   "metadata": {},
   "outputs": [
    {
     "data": {
      "text/plain": [
       "[('s1', 60.2), ('s2', 52.5)]"
      ]
     },
     "execution_count": 14,
     "metadata": {},
     "output_type": "execute_result"
    }
   ],
   "source": [
    "maxIdPM10RDD.collect()"
   ]
  },
  {
   "cell_type": "markdown",
   "id": "loaded-parent",
   "metadata": {},
   "source": [
    "# ***IT IS A VERY BAD MISTAKE IF YOU DON'T PUT float() IN THE VALUE PART! PAY ATTENTION!!!***"
   ]
  },
  {
   "cell_type": "code",
   "execution_count": null,
   "id": "caring-romantic",
   "metadata": {},
   "outputs": [],
   "source": []
  }
 ],
 "metadata": {
  "kernelspec": {
   "display_name": "PySpark (Local)",
   "language": "python",
   "name": "pyspark_local"
  },
  "language_info": {
   "codemirror_mode": {
    "name": "ipython",
    "version": 3
   },
   "file_extension": ".py",
   "mimetype": "text/x-python",
   "name": "python",
   "nbconvert_exporter": "python",
   "pygments_lexer": "ipython3",
   "version": "3.7.9"
  }
 },
 "nbformat": 4,
 "nbformat_minor": 5
}
