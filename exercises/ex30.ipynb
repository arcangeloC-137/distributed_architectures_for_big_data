{
 "cells": [
  {
   "cell_type": "code",
   "execution_count": 56,
   "id": "arctic-aaron",
   "metadata": {},
   "outputs": [],
   "source": [
    "# Solution Ex. 30"
   ]
  },
  {
   "cell_type": "code",
   "execution_count": 1,
   "id": "organic-tattoo",
   "metadata": {},
   "outputs": [
    {
     "data": {
      "text/html": [
       "\n",
       "        <div>\n",
       "            <p><b>SparkContext</b></p>\n",
       "\n",
       "            <p><a href=\"http://10.42.4.139:4040\">Spark UI</a></p>\n",
       "\n",
       "            <dl>\n",
       "              <dt>Version</dt>\n",
       "                <dd><code>v2.4.0-cdh6.2.1</code></dd>\n",
       "              <dt>Master</dt>\n",
       "                <dd><code>local[*]</code></dd>\n",
       "              <dt>AppName</dt>\n",
       "                <dd><code>pyspark-shell</code></dd>\n",
       "            </dl>\n",
       "        </div>\n",
       "        "
      ],
      "text/plain": [
       "<SparkContext master=local[*] appName=pyspark-shell>"
      ]
     },
     "execution_count": 1,
     "metadata": {},
     "output_type": "execute_result"
    }
   ],
   "source": [
    "sc"
   ]
  },
  {
   "cell_type": "code",
   "execution_count": 2,
   "id": "promotional-dutch",
   "metadata": {},
   "outputs": [],
   "source": [
    "inputPath = \"/data/students/bigdata-01QYD/ex_data/Ex30/data/\"\n",
    "outputPath = \"./SparkExercises/res_ex30/\""
   ]
  },
  {
   "cell_type": "code",
   "execution_count": 3,
   "id": "appropriate-scholar",
   "metadata": {},
   "outputs": [],
   "source": [
    "# Read the content of the input file\n",
    "# Each element or string of the logRDD corresponds to one line of log the input file\n",
    "logRDD = sc.textFile(inputPath)"
   ]
  },
  {
   "cell_type": "code",
   "execution_count": 4,
   "id": "powered-grant",
   "metadata": {},
   "outputs": [
    {
     "data": {
      "text/plain": [
       "pyspark.rdd.RDD"
      ]
     },
     "execution_count": 4,
     "metadata": {},
     "output_type": "execute_result"
    }
   ],
   "source": [
    "type(logRDD)"
   ]
  },
  {
   "cell_type": "code",
   "execution_count": 5,
   "id": "framed-therapist",
   "metadata": {},
   "outputs": [],
   "source": [
    "# Only elements of the logRDD correspods satisfying the filter are selected \n",
    "googleRDD = logRDD.filter(lambda logline: logline.lower().find(\"google\")>=0)"
   ]
  },
  {
   "cell_type": "code",
   "execution_count": 6,
   "id": "greater-replication",
   "metadata": {},
   "outputs": [
    {
     "name": "stdout",
     "output_type": "stream",
     "text": [
      "Num. selected lines: 3\n"
     ]
    }
   ],
   "source": [
    "# Store the result in the output folder \n",
    "#googleRDD.saveAsTextFile(outputPath)\n",
    "\n",
    "print('Num. selected lines: '+str(googleRDD.count()))\n",
    "\n",
    "sc.stop()"
   ]
  },
  {
   "cell_type": "code",
   "execution_count": null,
   "id": "center-finance",
   "metadata": {},
   "outputs": [],
   "source": []
  }
 ],
 "metadata": {
  "kernelspec": {
   "display_name": "PySpark (Local)",
   "language": "python",
   "name": "pyspark_local"
  },
  "language_info": {
   "codemirror_mode": {
    "name": "ipython",
    "version": 3
   },
   "file_extension": ".py",
   "mimetype": "text/x-python",
   "name": "python",
   "nbconvert_exporter": "python",
   "pygments_lexer": "ipython3",
   "version": "3.7.9"
  }
 },
 "nbformat": 4,
 "nbformat_minor": 5
}
