{
 "cells": [
  {
   "cell_type": "markdown",
   "id": "blocked-declaration",
   "metadata": {},
   "source": [
    "# ***Exercise 57 - GraphFrames***\n",
    "\n",
    "Input:\n",
    "\n",
    "- The textual file vertexes.csv\n",
    "    - It contains the vertexes of a graph\n",
    "    \n",
    "\n",
    "- Each vertex is characterized by\n",
    "    - id (string): user identifier\n",
    "    - name (string): user name\n",
    "    - age (integer): user age\n",
    "\n",
    "- The textual file edges.csv\n",
    "    - It contains the edges of a graph\n",
    "    \n",
    "\n",
    "- Each edge is characterized by\n",
    "    - src (string): source vertex\n",
    "    - dst (string): destination vertex\n",
    "    - linktype (string): “follow”or “friend”\n",
    "\n",
    "Output:\n",
    "\n",
    "- Select the users who can reach user u1 in less than 3 hops (i.e., at most two edges)\n",
    "    - Do not consider u1 itself\n",
    "    \n",
    "\n",
    "- For each of the selected users, store in the output folder his/her name and the minimum number of hops to reach user u1\n",
    "    - One user per line\n",
    "    - Format: user name, #hops to user u1\n",
    "    \n",
    "\n",
    "- Use the CSV format to store the result"
   ]
  },
  {
   "cell_type": "code",
   "execution_count": 1,
   "id": "stretch-example",
   "metadata": {},
   "outputs": [],
   "source": [
    "from graphframes import GraphFrame\n",
    "from pyspark.sql.functions import sum\n",
    "from graphframes.lib import AggregateMessages\n",
    "from pyspark.sql.types import IntegerType\n",
    "\n",
    "inputPathVertexes = \"/data/students/bigdata-01QYD/ex_data/Ex57/data/vertexes.csv\"\n",
    "inputPathEdges = \"/data/students/bigdata-01QYD/ex_data/Ex57/data/edges.csv\"\n",
    "outputPath = \"resOut_ex57/\""
   ]
  },
  {
   "cell_type": "code",
   "execution_count": 2,
   "id": "returning-egypt",
   "metadata": {},
   "outputs": [
    {
     "name": "stdout",
     "output_type": "stream",
     "text": [
      "root\n",
      " |-- id: string (nullable = true)\n",
      " |-- name: string (nullable = true)\n",
      " |-- age: integer (nullable = true)\n",
      "\n",
      "+---+-----+---+\n",
      "| id| name|age|\n",
      "+---+-----+---+\n",
      "| u1|Alice| 34|\n",
      "| u2|  Bob| 36|\n",
      "| u3| John| 30|\n",
      "| u4|David| 29|\n",
      "| u5| Paul| 32|\n",
      "| u6| Adel| 36|\n",
      "| u7| Eddy| 60|\n",
      "+---+-----+---+\n",
      "\n"
     ]
    }
   ],
   "source": [
    "# Read the content of vertexes.csv\n",
    "vDF = spark.read.load(inputPathVertexes,\\\n",
    "                             format=\"csv\",\n",
    "                             header=True,\\\n",
    "                             inferSchema=True)\n",
    "\n",
    "vDF.printSchema()\n",
    "vDF.show()"
   ]
  },
  {
   "cell_type": "code",
   "execution_count": 3,
   "id": "floating-environment",
   "metadata": {},
   "outputs": [
    {
     "name": "stdout",
     "output_type": "stream",
     "text": [
      "root\n",
      " |-- src: string (nullable = true)\n",
      " |-- dst: string (nullable = true)\n",
      " |-- linktype: string (nullable = true)\n",
      "\n",
      "+---+---+--------+\n",
      "|src|dst|linktype|\n",
      "+---+---+--------+\n",
      "| u1| u2|  friend|\n",
      "| u1| u4|  friend|\n",
      "| u1| u5|  friend|\n",
      "| u2| u1|  friend|\n",
      "| u2| u3|  follow|\n",
      "| u3| u2|  follow|\n",
      "| u4| u1|  friend|\n",
      "| u4| u5|  friend|\n",
      "| u5| u1|  friend|\n",
      "| u5| u4|  friend|\n",
      "| u5| u6|  follow|\n",
      "| u6| u3|  follow|\n",
      "+---+---+--------+\n",
      "\n"
     ]
    }
   ],
   "source": [
    "# Read the content of edges.csv\n",
    "eDF = spark.read.load(inputPathEdges,\\\n",
    "                             format=\"csv\",\n",
    "                             header=True,\\\n",
    "                             inferSchema=True)\n",
    "\n",
    "eDF.printSchema()\n",
    "eDF.show()"
   ]
  },
  {
   "cell_type": "code",
   "execution_count": 4,
   "id": "changing-greek",
   "metadata": {},
   "outputs": [],
   "source": [
    "g = GraphFrame(vDF, eDF)"
   ]
  },
  {
   "cell_type": "code",
   "execution_count": 7,
   "id": "dedicated-explosion",
   "metadata": {},
   "outputs": [
    {
     "name": "stdout",
     "output_type": "stream",
     "text": [
      "+---+-----+---+---------+\n",
      "| id| name|age|distances|\n",
      "+---+-----+---+---------+\n",
      "| u6| Adel| 36|[u1 -> 3]|\n",
      "| u3| John| 30|[u1 -> 2]|\n",
      "| u2|  Bob| 36|[u1 -> 1]|\n",
      "| u4|David| 29|[u1 -> 1]|\n",
      "| u5| Paul| 32|[u1 -> 1]|\n",
      "| u1|Alice| 34|[u1 -> 0]|\n",
      "| u7| Eddy| 60|       []|\n",
      "+---+-----+---+---------+\n",
      "\n"
     ]
    }
   ],
   "source": [
    "shortestPath = g.shortestPaths([\"u1\"])\n",
    "shortestPath.show()"
   ]
  },
  {
   "cell_type": "code",
   "execution_count": 8,
   "id": "affecting-pottery",
   "metadata": {},
   "outputs": [],
   "source": [
    "spLess3 = shortestPath.filter(\"distances.u1 < 3 AND distances.u1 > 0\")"
   ]
  },
  {
   "cell_type": "code",
   "execution_count": 9,
   "id": "applied-population",
   "metadata": {},
   "outputs": [
    {
     "name": "stdout",
     "output_type": "stream",
     "text": [
      "+---+-----+---+---------+\n",
      "| id| name|age|distances|\n",
      "+---+-----+---+---------+\n",
      "| u3| John| 30|[u1 -> 2]|\n",
      "| u2|  Bob| 36|[u1 -> 1]|\n",
      "| u4|David| 29|[u1 -> 1]|\n",
      "| u5| Paul| 32|[u1 -> 1]|\n",
      "+---+-----+---+---------+\n",
      "\n"
     ]
    }
   ],
   "source": [
    "spLess3.show()"
   ]
  },
  {
   "cell_type": "code",
   "execution_count": null,
   "id": "complimentary-couple",
   "metadata": {},
   "outputs": [],
   "source": []
  }
 ],
 "metadata": {
  "kernelspec": {
   "display_name": "GraphFrames (Yarn)",
   "language": "python",
   "name": "graphframe_yarn"
  },
  "language_info": {
   "codemirror_mode": {
    "name": "ipython",
    "version": 3
   },
   "file_extension": ".py",
   "mimetype": "text/x-python",
   "name": "python",
   "nbconvert_exporter": "python",
   "pygments_lexer": "ipython3",
   "version": "3.7.9"
  }
 },
 "nbformat": 4,
 "nbformat_minor": 5
}
