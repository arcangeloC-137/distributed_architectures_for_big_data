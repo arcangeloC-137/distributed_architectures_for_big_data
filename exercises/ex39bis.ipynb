{
 "cells": [
  {
   "cell_type": "code",
   "execution_count": 1,
   "id": "fourth-candy",
   "metadata": {},
   "outputs": [],
   "source": [
    "# Exercise 39bis - same as 39 but i want to store in same HDFS also empty sensors"
   ]
  },
  {
   "cell_type": "code",
   "execution_count": 2,
   "id": "downtown-boring",
   "metadata": {},
   "outputs": [
    {
     "data": {
      "text/html": [
       "\n",
       "        <div>\n",
       "            <p><b>SparkContext</b></p>\n",
       "\n",
       "            <p><a href=\"http://10.42.14.90:4045\">Spark UI</a></p>\n",
       "\n",
       "            <dl>\n",
       "              <dt>Version</dt>\n",
       "                <dd><code>v2.4.0-cdh6.2.1</code></dd>\n",
       "              <dt>Master</dt>\n",
       "                <dd><code>local[*]</code></dd>\n",
       "              <dt>AppName</dt>\n",
       "                <dd><code>pyspark-shell</code></dd>\n",
       "            </dl>\n",
       "        </div>\n",
       "        "
      ],
      "text/plain": [
       "<SparkContext master=local[*] appName=pyspark-shell>"
      ]
     },
     "execution_count": 2,
     "metadata": {},
     "output_type": "execute_result"
    }
   ],
   "source": [
    "sc"
   ]
  },
  {
   "cell_type": "code",
   "execution_count": 3,
   "id": "faced-warrior",
   "metadata": {},
   "outputs": [],
   "source": [
    "inputPath = \"/data/students/bigdata-01QYD/ex_data/Ex39bis/data/\"\n",
    "logRDD = sc.textFile(inputPath)"
   ]
  },
  {
   "cell_type": "code",
   "execution_count": 4,
   "id": "russian-arnold",
   "metadata": {},
   "outputs": [
    {
     "data": {
      "text/plain": [
       "['s1,2016-01-01,20.5',\n",
       " 's2,2016-01-01,30.1',\n",
       " 's1,2016-01-02,60.2',\n",
       " 's2,2016-01-02,20.4',\n",
       " 's1,2016-01-03,55.5',\n",
       " 's2,2016-01-03,52.5',\n",
       " 's3,2016-01-03,12.5']"
      ]
     },
     "execution_count": 4,
     "metadata": {},
     "output_type": "execute_result"
    }
   ],
   "source": [
    "logRDD.collect()"
   ]
  },
  {
   "cell_type": "code",
   "execution_count": 5,
   "id": "hollow-hampshire",
   "metadata": {},
   "outputs": [
    {
     "data": {
      "text/plain": [
       "[('s1', ['2016-01-02', '2016-01-03']), ('s2', ['2016-01-03'])]"
      ]
     },
     "execution_count": 5,
     "metadata": {},
     "output_type": "execute_result"
    }
   ],
   "source": [
    "zero = ''\n",
    "pm10DatesRDD = logRDD.filter(lambda logline: float(logline.split(',')[2])>50)\\\n",
    "                        .map(lambda logline: (logline.split(',')[0],logline.split(',')[1]))\\\n",
    "                        .groupByKey()\\\n",
    "                        .mapValues(lambda dates: list(dates))\n",
    "\n",
    "pm10DatesRDD.collect()"
   ]
  },
  {
   "cell_type": "code",
   "execution_count": 9,
   "id": "acceptable-courtesy",
   "metadata": {},
   "outputs": [
    {
     "data": {
      "text/plain": [
       "['s1', 's3', 's2']"
      ]
     },
     "execution_count": 9,
     "metadata": {},
     "output_type": "execute_result"
    }
   ],
   "source": [
    "# I create a list of all the sensors\n",
    "sensorsList = logRDD.map(lambda logline: logline.split(',')[0]).distinct()\n",
    "sensorsList.collect()"
   ]
  },
  {
   "cell_type": "code",
   "execution_count": 11,
   "id": "ranking-demand",
   "metadata": {},
   "outputs": [
    {
     "data": {
      "text/plain": [
       "['s3']"
      ]
     },
     "execution_count": 11,
     "metadata": {},
     "output_type": "execute_result"
    }
   ],
   "source": [
    "# I then find all sensors under a pm10 value of 50\n",
    "under50 = sensorsList.subtract(pm10DatesRDD.keys())\n",
    "under50.collect()"
   ]
  },
  {
   "cell_type": "code",
   "execution_count": 13,
   "id": "affiliated-hours",
   "metadata": {},
   "outputs": [
    {
     "data": {
      "text/plain": [
       "[('s3', [])]"
      ]
     },
     "execution_count": 13,
     "metadata": {},
     "output_type": "execute_result"
    }
   ],
   "source": [
    "under50tuples = under50.map(lambda sensor: (sensor, []))\n",
    "under50tuples.collect()"
   ]
  },
  {
   "cell_type": "code",
   "execution_count": 14,
   "id": "swiss-disposition",
   "metadata": {},
   "outputs": [
    {
     "data": {
      "text/plain": [
       "[('s1', ['2016-01-02', '2016-01-03']), ('s2', ['2016-01-03']), ('s3', [])]"
      ]
     },
     "execution_count": 14,
     "metadata": {},
     "output_type": "execute_result"
    }
   ],
   "source": [
    "pm10DatesRDD.union(under50tuples).collect()"
   ]
  },
  {
   "cell_type": "code",
   "execution_count": 15,
   "id": "amended-impact",
   "metadata": {},
   "outputs": [],
   "source": [
    "# Note that every time you have an RDD and the result is an RDD, that is a transformation"
   ]
  },
  {
   "cell_type": "code",
   "execution_count": null,
   "id": "advance-apparatus",
   "metadata": {},
   "outputs": [],
   "source": [
    "outputPath = 'res_out_ex39bis'\n",
    "pm10DatesRDD.saveAsTextFile(outputPath)"
   ]
  },
  {
   "cell_type": "markdown",
   "id": "wicked-current",
   "metadata": {},
   "source": [
    "## **QUESTION: how many times do we read the input file?**\n",
    "In order to know how many times you read the input file, you need to count how many actions you perform, and how many paths you have. In this case, we read it two times."
   ]
  },
  {
   "cell_type": "code",
   "execution_count": null,
   "id": "worse-macedonia",
   "metadata": {},
   "outputs": [],
   "source": []
  }
 ],
 "metadata": {
  "kernelspec": {
   "display_name": "PySpark (Local)",
   "language": "python",
   "name": "pyspark_local"
  },
  "language_info": {
   "codemirror_mode": {
    "name": "ipython",
    "version": 3
   },
   "file_extension": ".py",
   "mimetype": "text/x-python",
   "name": "python",
   "nbconvert_exporter": "python",
   "pygments_lexer": "ipython3",
   "version": "3.7.9"
  }
 },
 "nbformat": 4,
 "nbformat_minor": 5
}
