{
 "cells": [
  {
   "cell_type": "markdown",
   "id": "coordinate-testing",
   "metadata": {},
   "source": [
    "# ***Exercise 57b - GraphFrames***\n",
    "\n",
    "Input:\n",
    "\n",
    "- The textual file vertexes.csv\n",
    "    - It contains the vertexes of a graph\n",
    "    \n",
    "\n",
    "- Each vertex is characterized by\n",
    "    - id (string): user identifier\n",
    "    - name (string): user name\n",
    "    - age (integer): user age\n",
    "\n",
    "- The textual file edges.csv\n",
    "    - It contains the edges of a graph\n",
    "    \n",
    "\n",
    "- Each edge is characterized by\n",
    "    - src (string): source vertex\n",
    "    - dst (string): destination vertex\n",
    "    - linktype (string): “follow”or “friend”\n",
    "\n",
    "Output:\n",
    "\n",
    "- Count for each user the number of “neighbors” with ages less than 35\n",
    "    - User X is a neighbor of User Y if there is a link from User X to User Y\n",
    "    \n",
    " \n",
    "- For each user with at least one neighbor with ages less than 35, store in the output folder his/her id and the number of neighbors with ages less than 35\n",
    "\n",
    "\n",
    "- Use the CSV format to store the result"
   ]
  },
  {
   "cell_type": "code",
   "execution_count": 6,
   "id": "stylish-karaoke",
   "metadata": {},
   "outputs": [],
   "source": [
    "from graphframes import GraphFrame\n",
    "from pyspark.sql.functions import sum\n",
    "from graphframes.lib import AggregateMessages\n",
    "from pyspark.sql.types import IntegerType\n",
    "\n",
    "inputPathVertexes = \"/data/students/bigdata-01QYD/ex_data/Ex57b/data/vertexes.csv\"\n",
    "inputPathEdges = \"/data/students/bigdata-01QYD/ex_data/Ex57b/data/edges.csv\"\n",
    "outputPath = \"resOut_ex57b/\""
   ]
  },
  {
   "cell_type": "code",
   "execution_count": 3,
   "id": "linear-logistics",
   "metadata": {},
   "outputs": [
    {
     "name": "stdout",
     "output_type": "stream",
     "text": [
      "root\n",
      " |-- id: string (nullable = true)\n",
      " |-- name: string (nullable = true)\n",
      " |-- age: integer (nullable = true)\n",
      "\n",
      "+---+-----+---+\n",
      "| id| name|age|\n",
      "+---+-----+---+\n",
      "| u1|Alice| 34|\n",
      "| u2|  Bob| 36|\n",
      "| u3| John| 30|\n",
      "| u4|David| 29|\n",
      "| u5| Paul| 32|\n",
      "| u6| Adel| 36|\n",
      "| u7| Eddy| 60|\n",
      "+---+-----+---+\n",
      "\n"
     ]
    }
   ],
   "source": [
    "# Read the content of vertexes.csv\n",
    "vDF = spark.read.load(inputPathVertexes,\\\n",
    "                             format=\"csv\",\n",
    "                             header=True,\\\n",
    "                             inferSchema=True)\n",
    "\n",
    "vDF.printSchema()\n",
    "vDF.show()"
   ]
  },
  {
   "cell_type": "code",
   "execution_count": 4,
   "id": "studied-thomas",
   "metadata": {},
   "outputs": [
    {
     "name": "stdout",
     "output_type": "stream",
     "text": [
      "root\n",
      " |-- src: string (nullable = true)\n",
      " |-- dst: string (nullable = true)\n",
      " |-- linktype: string (nullable = true)\n",
      "\n",
      "+---+---+--------+\n",
      "|src|dst|linktype|\n",
      "+---+---+--------+\n",
      "| u1| u2|  friend|\n",
      "| u1| u4|  friend|\n",
      "| u1| u5|  friend|\n",
      "| u2| u1|  friend|\n",
      "| u2| u3|  follow|\n",
      "| u3| u2|  follow|\n",
      "| u4| u1|  friend|\n",
      "| u4| u5|  friend|\n",
      "| u5| u1|  friend|\n",
      "| u5| u4|  friend|\n",
      "| u5| u6|  follow|\n",
      "| u6| u3|  follow|\n",
      "+---+---+--------+\n",
      "\n"
     ]
    }
   ],
   "source": [
    "# Read the content of edges.csv\n",
    "eDF = spark.read.load(inputPathEdges,\\\n",
    "                             format=\"csv\",\n",
    "                             header=True,\\\n",
    "                             inferSchema=True)\n",
    "\n",
    "eDF.printSchema()\n",
    "eDF.show()"
   ]
  },
  {
   "cell_type": "code",
   "execution_count": 7,
   "id": "figured-saturday",
   "metadata": {},
   "outputs": [],
   "source": [
    "# Add to each node/vertex a new \"feature\": AgeLess35\n",
    "def funcAgeLess35(age):\n",
    "    if(age<35):\n",
    "        return 1\n",
    "    else:\n",
    "        return 0\n",
    "\n",
    "spark.udf.register(\"funcAgeLess35\", funcAgeLess35, IntegerType())\n",
    "vDFnew = vDF.selectExpr(\"*\", \"funcAgeLess35(age) as AgeLess35\")"
   ]
  },
  {
   "cell_type": "code",
   "execution_count": 8,
   "id": "contained-pocket",
   "metadata": {},
   "outputs": [
    {
     "name": "stdout",
     "output_type": "stream",
     "text": [
      "+---+-----+---+---------+\n",
      "| id| name|age|AgeLess35|\n",
      "+---+-----+---+---------+\n",
      "| u1|Alice| 34|        1|\n",
      "| u2|  Bob| 36|        0|\n",
      "| u3| John| 30|        1|\n",
      "| u4|David| 29|        1|\n",
      "| u5| Paul| 32|        1|\n",
      "| u6| Adel| 36|        0|\n",
      "| u7| Eddy| 60|        0|\n",
      "+---+-----+---+---------+\n",
      "\n"
     ]
    }
   ],
   "source": [
    "vDFnew.show()"
   ]
  },
  {
   "cell_type": "code",
   "execution_count": 10,
   "id": "dynamic-dimension",
   "metadata": {},
   "outputs": [],
   "source": [
    "g = GraphFrame(vDFnew, eDF)"
   ]
  },
  {
   "cell_type": "code",
   "execution_count": 11,
   "id": "patient-scratch",
   "metadata": {},
   "outputs": [],
   "source": [
    "# For each user, sum the values of AgeLess35 of neighbors\n",
    "\n",
    "# Send AgeLess35 of each source of an edge to its destination\n",
    "# N.B. we are not intrested in outcoming edges\n",
    "msgToDst = AggregateMessages.src['AgeLess35']"
   ]
  },
  {
   "cell_type": "code",
   "execution_count": 13,
   "id": "oriented-aberdeen",
   "metadata": {},
   "outputs": [],
   "source": [
    "# Aggregate messages\n",
    "aggAgeLess35 = g.aggregateMessages(sum(AggregateMessages.msg),\\\n",
    "                                  sendToSrc=None,\\\n",
    "                                  sendToDst=msgToDst)\\\n",
    ".withColumnRenamed(\"sum(MSG)\", \"numNeighborsLess35\")"
   ]
  },
  {
   "cell_type": "code",
   "execution_count": 14,
   "id": "spatial-wings",
   "metadata": {},
   "outputs": [
    {
     "name": "stdout",
     "output_type": "stream",
     "text": [
      "+---+------------------+\n",
      "| id|numNeighborsLess35|\n",
      "+---+------------------+\n",
      "| u3|                 0|\n",
      "| u4|                 2|\n",
      "| u5|                 2|\n",
      "| u1|                 2|\n",
      "| u6|                 1|\n",
      "| u2|                 2|\n",
      "+---+------------------+\n",
      "\n"
     ]
    }
   ],
   "source": [
    "aggAgeLess35.show()"
   ]
  },
  {
   "cell_type": "code",
   "execution_count": 15,
   "id": "returning-subsection",
   "metadata": {},
   "outputs": [
    {
     "name": "stdout",
     "output_type": "stream",
     "text": [
      "+---+------------------+\n",
      "| id|numNeighborsLess35|\n",
      "+---+------------------+\n",
      "| u4|                 2|\n",
      "| u5|                 2|\n",
      "| u1|                 2|\n",
      "| u6|                 1|\n",
      "| u2|                 2|\n",
      "+---+------------------+\n",
      "\n"
     ]
    }
   ],
   "source": [
    "selectedUsersDF = aggAgeLess35.filter(\"numNeighborsLess35>0\")\n",
    "selectedUsersDF.show()"
   ]
  },
  {
   "cell_type": "code",
   "execution_count": 16,
   "id": "alleged-rugby",
   "metadata": {},
   "outputs": [],
   "source": [
    "selectedUsersDF.write.csv(outputPath, header=True)"
   ]
  },
  {
   "cell_type": "code",
   "execution_count": null,
   "id": "cardiovascular-generator",
   "metadata": {},
   "outputs": [],
   "source": []
  }
 ],
 "metadata": {
  "kernelspec": {
   "display_name": "GraphFrames (Yarn)",
   "language": "python",
   "name": "graphframe_yarn"
  },
  "language_info": {
   "codemirror_mode": {
    "name": "ipython",
    "version": 3
   },
   "file_extension": ".py",
   "mimetype": "text/x-python",
   "name": "python",
   "nbconvert_exporter": "python",
   "pygments_lexer": "ipython3",
   "version": "3.7.9"
  }
 },
 "nbformat": 4,
 "nbformat_minor": 5
}
