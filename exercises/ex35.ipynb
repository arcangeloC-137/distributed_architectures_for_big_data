{
 "cells": [
  {
   "cell_type": "code",
   "execution_count": 1,
   "id": "apart-impossible",
   "metadata": {},
   "outputs": [],
   "source": [
    "# Exercise 35 - Dates associated with max value"
   ]
  },
  {
   "cell_type": "code",
   "execution_count": 2,
   "id": "legislative-amazon",
   "metadata": {},
   "outputs": [
    {
     "data": {
      "text/html": [
       "\n",
       "        <div>\n",
       "            <p><b>SparkContext</b></p>\n",
       "\n",
       "            <p><a href=\"http://10.42.13.30:4040\">Spark UI</a></p>\n",
       "\n",
       "            <dl>\n",
       "              <dt>Version</dt>\n",
       "                <dd><code>v2.4.0-cdh6.2.1</code></dd>\n",
       "              <dt>Master</dt>\n",
       "                <dd><code>local[*]</code></dd>\n",
       "              <dt>AppName</dt>\n",
       "                <dd><code>pyspark-shell</code></dd>\n",
       "            </dl>\n",
       "        </div>\n",
       "        "
      ],
      "text/plain": [
       "<SparkContext master=local[*] appName=pyspark-shell>"
      ]
     },
     "execution_count": 2,
     "metadata": {},
     "output_type": "execute_result"
    }
   ],
   "source": [
    "sc"
   ]
  },
  {
   "cell_type": "code",
   "execution_count": 3,
   "id": "veterinary-livestock",
   "metadata": {},
   "outputs": [],
   "source": [
    "inputPath = \"/data/students/bigdata-01QYD/ex_data/Ex34/data/\"\n",
    "outputPath = \"res_out_ex35/\""
   ]
  },
  {
   "cell_type": "code",
   "execution_count": 4,
   "id": "secret-vessel",
   "metadata": {},
   "outputs": [
    {
     "data": {
      "text/plain": [
       "['s1,2016-01-01,20.5',\n",
       " 's2,2016-01-01,30.1',\n",
       " 's1,2016-01-02,60.2',\n",
       " 's2,2016-01-02,20.4',\n",
       " 's1,2016-01-03,60.2',\n",
       " 's2,2016-01-03,52.5']"
      ]
     },
     "execution_count": 4,
     "metadata": {},
     "output_type": "execute_result"
    }
   ],
   "source": [
    "logRDD = sc.textFile(inputPath)\n",
    "logRDD.collect()"
   ]
  },
  {
   "cell_type": "code",
   "execution_count": 5,
   "id": "southwest-shark",
   "metadata": {},
   "outputs": [
    {
     "name": "stdout",
     "output_type": "stream",
     "text": [
      "60.2\n"
     ]
    }
   ],
   "source": [
    "pmValues = logRDD.map(lambda logline: logline.split(',')[2])\n",
    "maxVal = pmValues.top(1)[0]\n",
    "print(maxVal)"
   ]
  },
  {
   "cell_type": "code",
   "execution_count": 6,
   "id": "external-adobe",
   "metadata": {},
   "outputs": [],
   "source": [
    "maxLines = logRDD.filter(lambda logline: float(logline.split(',')[2]>=maxVal) )"
   ]
  },
  {
   "cell_type": "code",
   "execution_count": 7,
   "id": "moderate-management",
   "metadata": {},
   "outputs": [
    {
     "data": {
      "text/plain": [
       "['2016-01-02', '2016-01-03']"
      ]
     },
     "execution_count": 7,
     "metadata": {},
     "output_type": "execute_result"
    }
   ],
   "source": [
    "maxDates = maxLines.map(lambda line: line.split(',')[1])\n",
    "maxDates.collect()"
   ]
  },
  {
   "cell_type": "code",
   "execution_count": 10,
   "id": "binary-princeton",
   "metadata": {},
   "outputs": [],
   "source": [
    "maxDates.saveAsTextFile(outputPath)"
   ]
  },
  {
   "cell_type": "code",
   "execution_count": null,
   "id": "freelance-mixer",
   "metadata": {},
   "outputs": [],
   "source": []
  }
 ],
 "metadata": {
  "kernelspec": {
   "display_name": "PySpark (Local)",
   "language": "python",
   "name": "pyspark_local"
  },
  "language_info": {
   "codemirror_mode": {
    "name": "ipython",
    "version": 3
   },
   "file_extension": ".py",
   "mimetype": "text/x-python",
   "name": "python",
   "nbconvert_exporter": "python",
   "pygments_lexer": "ipython3",
   "version": "3.7.9"
  }
 },
 "nbformat": 4,
 "nbformat_minor": 5
}
