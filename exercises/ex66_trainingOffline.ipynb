{
 "cells": [
  {
   "cell_type": "markdown",
   "id": "moral-spirituality",
   "metadata": {},
   "source": [
    "# ***Exercise 66 training***\n",
    "Predict the variety of iris plants in real-time\n",
    "\n",
    "Inputs:\n",
    "\n",
    "- Training data\n",
    "    - Static input file: training.csv\n",
    "\n",
    "- New data\n",
    "    - A stream of records about new iris plants\n",
    "\n",
    "Output\n",
    "- Predicted class label/variety for each new iris plant using only column “sepallength” and “sepalwidth”\n",
    "\n",
    "Training data schema\n",
    "\n",
    "- sepallength: double\n",
    "- sepalwidth: double\n",
    "- petallength: double – not considered\n",
    "- petalwidth: double – not considered\n",
    "- variety: integer\n",
    "     - 1 -> Setosa category\n",
    "     - 2 -> Versicolor category\n",
    "     - 3 -> Virginica category\n",
    "     \n",
    "New streaming data schema\n",
    "- sepallength: double\n",
    "- sepalwidth: double\n",
    "- petallength: double\n",
    "- petalwidth: double\n",
    "- variety: it is always null for the new data"
   ]
  },
  {
   "cell_type": "code",
   "execution_count": 1,
   "id": "happy-transsexual",
   "metadata": {},
   "outputs": [],
   "source": [
    "from pyspark.ml.classification import LogisticRegression\n",
    "from pyspark.ml.feature import VectorAssembler, SQLTransformer\n",
    "from pyspark.ml import Pipeline"
   ]
  },
  {
   "cell_type": "code",
   "execution_count": 6,
   "id": "temporal-marijuana",
   "metadata": {},
   "outputs": [],
   "source": [
    "train_path = '/data/students/bigdata-01QYD/ex_data/ex66/data/training.csv'\n",
    "\n",
    "model_savepath = 'pipelineClassificationModel/'"
   ]
  },
  {
   "cell_type": "code",
   "execution_count": null,
   "id": "injured-scenario",
   "metadata": {},
   "outputs": [],
   "source": [
    "# Read training data\n",
    "train_df = spark.read\\\n",
    ".load(path=train_path, header=True, format='csv', inferSchema=True)"
   ]
  },
  {
   "cell_type": "code",
   "execution_count": null,
   "id": "entire-kennedy",
   "metadata": {},
   "outputs": [],
   "source": [
    "train_df.printSchema()\n",
    "train_df.show()"
   ]
  },
  {
   "cell_type": "code",
   "execution_count": null,
   "id": "printable-dialogue",
   "metadata": {},
   "outputs": [],
   "source": [
    "vector_assembler = VectorAssembler(inputCols=[\"sepallength\",\"sepalwidth\"],\\\n",
    "                                   outputCol='features')"
   ]
  },
  {
   "cell_type": "code",
   "execution_count": null,
   "id": "intermediate-borough",
   "metadata": {},
   "outputs": [],
   "source": [
    "# Select features and rename variety as label\n",
    "sql_transformer = SQLTransformer(statement=\"\"\"\n",
    "    SELECT sepallength, sepalwidth, petallength, petalwidth, features, variety as label\n",
    "    FROM __THIS__\n",
    "    \"\"\")"
   ]
  },
  {
   "cell_type": "code",
   "execution_count": null,
   "id": "structural-hopkins",
   "metadata": {},
   "outputs": [],
   "source": [
    "lr = LogisticRegression()"
   ]
  },
  {
   "cell_type": "code",
   "execution_count": null,
   "id": "commercial-lodge",
   "metadata": {},
   "outputs": [],
   "source": [
    "pipeline = Pipeline().setStages([vector_assembler, sql_transformer, lr])"
   ]
  },
  {
   "cell_type": "code",
   "execution_count": null,
   "id": "sporting-greene",
   "metadata": {},
   "outputs": [],
   "source": [
    "# Train the model\n",
    "model = pipeline.fit(train_df)"
   ]
  },
  {
   "cell_type": "code",
   "execution_count": null,
   "id": "ethical-sailing",
   "metadata": {},
   "outputs": [],
   "source": [
    "# Save the trained model in the output folder \n",
    "model.save(model_savepath)"
   ]
  },
  {
   "cell_type": "code",
   "execution_count": null,
   "id": "affecting-society",
   "metadata": {},
   "outputs": [],
   "source": []
  }
 ],
 "metadata": {
  "kernelspec": {
   "display_name": "PySpark (Yarn)",
   "language": "python",
   "name": "pyspark_yarn"
  },
  "language_info": {
   "codemirror_mode": {
    "name": "ipython",
    "version": 3
   },
   "file_extension": ".py",
   "mimetype": "text/x-python",
   "name": "python",
   "nbconvert_exporter": "python",
   "pygments_lexer": "ipython3",
   "version": "3.7.9"
  }
 },
 "nbformat": 4,
 "nbformat_minor": 5
}
