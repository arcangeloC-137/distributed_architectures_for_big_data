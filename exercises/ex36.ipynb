{
 "cells": [
  {
   "cell_type": "code",
   "execution_count": 2,
   "id": "amazing-crawford",
   "metadata": {},
   "outputs": [],
   "source": [
    "# Exercise 36 - Avg"
   ]
  },
  {
   "cell_type": "code",
   "execution_count": 3,
   "id": "sought-childhood",
   "metadata": {},
   "outputs": [
    {
     "data": {
      "text/html": [
       "\n",
       "        <div>\n",
       "            <p><b>SparkContext</b></p>\n",
       "\n",
       "            <p><a href=\"http://10.42.13.30:4045\">Spark UI</a></p>\n",
       "\n",
       "            <dl>\n",
       "              <dt>Version</dt>\n",
       "                <dd><code>v2.4.0-cdh6.2.1</code></dd>\n",
       "              <dt>Master</dt>\n",
       "                <dd><code>local[*]</code></dd>\n",
       "              <dt>AppName</dt>\n",
       "                <dd><code>pyspark-shell</code></dd>\n",
       "            </dl>\n",
       "        </div>\n",
       "        "
      ],
      "text/plain": [
       "<SparkContext master=local[*] appName=pyspark-shell>"
      ]
     },
     "execution_count": 3,
     "metadata": {},
     "output_type": "execute_result"
    }
   ],
   "source": [
    "sc"
   ]
  },
  {
   "cell_type": "code",
   "execution_count": 4,
   "id": "framed-living",
   "metadata": {},
   "outputs": [],
   "source": [
    "inputPath = \"/data/students/bigdata-01QYD/ex_data/Ex36/data/\""
   ]
  },
  {
   "cell_type": "code",
   "execution_count": 5,
   "id": "compatible-identity",
   "metadata": {},
   "outputs": [
    {
     "name": "stdout",
     "output_type": "stream",
     "text": [
      "(239.20000000000002, 6)\n"
     ]
    }
   ],
   "source": [
    "from decimal import Decimal\n",
    "\n",
    "logRDD = sc.textFile(inputPath)\n",
    "pmValues = logRDD.map(lambda logLine: float(logLine.split(',')[2]))\n",
    "\n",
    "zero = (0,0)\n",
    "sumCount = pmValues.aggregate(zero, lambda acc,v1: (acc[0]+v1, acc[1]+1), lambda p1,p2: (p1[0]+p2[0], p1[1]+p2[1]))\n",
    "print(sumCount)"
   ]
  },
  {
   "cell_type": "code",
   "execution_count": 6,
   "id": "moved-application",
   "metadata": {},
   "outputs": [
    {
     "data": {
      "text/plain": [
       "[20.5, 30.1, 60.2, 20.4, 55.5, 52.5]"
      ]
     },
     "execution_count": 6,
     "metadata": {},
     "output_type": "execute_result"
    }
   ],
   "source": [
    "pmValues.collect()"
   ]
  },
  {
   "cell_type": "code",
   "execution_count": 7,
   "id": "inner-compromise",
   "metadata": {},
   "outputs": [
    {
     "name": "stdout",
     "output_type": "stream",
     "text": [
      "avg:  39.86666666666667\n"
     ]
    }
   ],
   "source": [
    "avg = sumCount[0]/sumCount[1]\n",
    "print(\"avg: \",avg)"
   ]
  },
  {
   "cell_type": "code",
   "execution_count": 8,
   "id": "white-laser",
   "metadata": {},
   "outputs": [],
   "source": [
    "resMap = logRDD.map(lambda logLine: (float(logLine.split(',')[2]), 1))"
   ]
  },
  {
   "cell_type": "code",
   "execution_count": 9,
   "id": "alike-fundamental",
   "metadata": {},
   "outputs": [
    {
     "data": {
      "text/plain": [
       "[(20.5, 1), (30.1, 1), (60.2, 1), (20.4, 1), (55.5, 1), (52.5, 1)]"
      ]
     },
     "execution_count": 9,
     "metadata": {},
     "output_type": "execute_result"
    }
   ],
   "source": [
    "resMap.collect()"
   ]
  },
  {
   "cell_type": "code",
   "execution_count": 10,
   "id": "wired-magazine",
   "metadata": {},
   "outputs": [],
   "source": [
    "result = resMap.reduce(lambda v1,v2: (v1[0]+v2[0],v1[1]+v2[1]))"
   ]
  },
  {
   "cell_type": "code",
   "execution_count": 11,
   "id": "alpine-halifax",
   "metadata": {},
   "outputs": [
    {
     "data": {
      "text/plain": [
       "(239.20000000000002, 6)"
      ]
     },
     "execution_count": 11,
     "metadata": {},
     "output_type": "execute_result"
    }
   ],
   "source": [
    "result"
   ]
  },
  {
   "cell_type": "code",
   "execution_count": null,
   "id": "reverse-nebraska",
   "metadata": {},
   "outputs": [],
   "source": []
  }
 ],
 "metadata": {
  "kernelspec": {
   "display_name": "PySpark (Local)",
   "language": "python",
   "name": "pyspark_local"
  },
  "language_info": {
   "codemirror_mode": {
    "name": "ipython",
    "version": 3
   },
   "file_extension": ".py",
   "mimetype": "text/x-python",
   "name": "python",
   "nbconvert_exporter": "python",
   "pygments_lexer": "ipython3",
   "version": "3.7.9"
  }
 },
 "nbformat": 4,
 "nbformat_minor": 5
}
