{
 "cells": [
  {
   "cell_type": "code",
   "execution_count": 27,
   "id": "regional-briefs",
   "metadata": {},
   "outputs": [],
   "source": [
    "# Exercise 44 - Multiple inpur RDDs (complexity similar to exam)"
   ]
  },
  {
   "cell_type": "code",
   "execution_count": 23,
   "id": "underlying-classic",
   "metadata": {},
   "outputs": [],
   "source": [
    "sc\n",
    "inMovies = \"/data/students/bigdata-01QYD/ex_data/Ex44/data/movies.txt\"\n",
    "inWatchedMovies = \"/data/students/bigdata-01QYD/ex_data/Ex44/data/watchedmovies.txt\"\n",
    "inPreferences = \"/data/students/bigdata-01QYD/ex_data/Ex44/data/preferences.txt\"\n",
    "\n",
    "threshold = 0.2"
   ]
  },
  {
   "cell_type": "code",
   "execution_count": 3,
   "id": "grateful-serial",
   "metadata": {},
   "outputs": [],
   "source": [
    "moviesRDD = sc.textFile(inMovies)\n",
    "watchedMoviesRDD = sc.textFile(inWatchedMovies)\n",
    "preferencesRDD = sc.textFile(inPreferences)"
   ]
  },
  {
   "cell_type": "code",
   "execution_count": 4,
   "id": "naval-glasgow",
   "metadata": {},
   "outputs": [
    {
     "data": {
      "text/plain": [
       "['movie9,Sudden Death (1995),Action', 'movie8,Tom and Huck (1995),Adventure']"
      ]
     },
     "execution_count": 4,
     "metadata": {},
     "output_type": "execute_result"
    }
   ],
   "source": [
    "moviesRDD.top(2)"
   ]
  },
  {
   "cell_type": "code",
   "execution_count": 5,
   "id": "hawaiian-welcome",
   "metadata": {},
   "outputs": [
    {
     "data": {
      "text/plain": [
       "['user2,movie6,201610081800,201610081845',\n",
       " 'user2,movie4,201611051100,201611051105']"
      ]
     },
     "execution_count": 5,
     "metadata": {},
     "output_type": "execute_result"
    }
   ],
   "source": [
    "watchedMoviesRDD.top(2)"
   ]
  },
  {
   "cell_type": "code",
   "execution_count": 6,
   "id": "encouraging-assistant",
   "metadata": {},
   "outputs": [
    {
     "data": {
      "text/plain": [
       "['user2,Action', 'user1,Comedy']"
      ]
     },
     "execution_count": 6,
     "metadata": {},
     "output_type": "execute_result"
    }
   ],
   "source": [
    "preferencesRDD.top(2)"
   ]
  },
  {
   "cell_type": "code",
   "execution_count": 7,
   "id": "victorian-jungle",
   "metadata": {},
   "outputs": [
    {
     "data": {
      "text/plain": [
       "[('movie1', 'Animation'),\n",
       " ('movie2', 'Adventure'),\n",
       " ('movie3', 'Comedy'),\n",
       " ('movie4', 'Comedy'),\n",
       " ('movie5', 'Comedy'),\n",
       " ('movie6', 'Action'),\n",
       " ('movie7', 'Comedy'),\n",
       " ('movie8', 'Adventure'),\n",
       " ('movie9', 'Action'),\n",
       " ('movie10', 'Action')]"
      ]
     },
     "execution_count": 7,
     "metadata": {},
     "output_type": "execute_result"
    }
   ],
   "source": [
    "movieGenreMap = moviesRDD.map(lambda record: (record.split(',')[0],record.split(',')[2]))\n",
    "movieGenreMap.collect()"
   ]
  },
  {
   "cell_type": "code",
   "execution_count": 8,
   "id": "stuffed-grill",
   "metadata": {},
   "outputs": [
    {
     "data": {
      "text/plain": [
       "[('movie1', 'user1'),\n",
       " ('movie3', 'user1'),\n",
       " ('movie4', 'user1'),\n",
       " ('movie5', 'user1'),\n",
       " ('movie6', 'user2'),\n",
       " ('movie3', 'user2'),\n",
       " ('movie4', 'user2')]"
      ]
     },
     "execution_count": 8,
     "metadata": {},
     "output_type": "execute_result"
    }
   ],
   "source": [
    "userWatchedMap = watchedMoviesRDD.map(lambda record: (record.split(',')[1],record.split(',')[0]))\n",
    "userWatchedMap.collect()"
   ]
  },
  {
   "cell_type": "code",
   "execution_count": 9,
   "id": "suspected-anaheim",
   "metadata": {},
   "outputs": [
    {
     "data": {
      "text/plain": [
       "[('movie5', ('user1', 'Comedy')),\n",
       " ('movie1', ('user1', 'Animation')),\n",
       " ('movie4', ('user1', 'Comedy')),\n",
       " ('movie4', ('user2', 'Comedy')),\n",
       " ('movie3', ('user1', 'Comedy')),\n",
       " ('movie3', ('user2', 'Comedy')),\n",
       " ('movie6', ('user2', 'Action'))]"
      ]
     },
     "execution_count": 9,
     "metadata": {},
     "output_type": "execute_result"
    }
   ],
   "source": [
    "userMovieGenre = userWatchedMap.join(movieGenreMap)\n",
    "userMovieGenre.collect()"
   ]
  },
  {
   "cell_type": "code",
   "execution_count": 10,
   "id": "quick-curtis",
   "metadata": {},
   "outputs": [],
   "source": [
    "userGenreRDD = userMovieGenre.values()"
   ]
  },
  {
   "cell_type": "code",
   "execution_count": 11,
   "id": "internal-colony",
   "metadata": {},
   "outputs": [
    {
     "data": {
      "text/plain": [
       "[('user1', 'Comedy'),\n",
       " ('user1', 'Animation'),\n",
       " ('user1', 'Comedy'),\n",
       " ('user2', 'Comedy'),\n",
       " ('user1', 'Comedy'),\n",
       " ('user2', 'Comedy'),\n",
       " ('user2', 'Action')]"
      ]
     },
     "execution_count": 11,
     "metadata": {},
     "output_type": "execute_result"
    }
   ],
   "source": [
    "userGenreRDD.collect()"
   ]
  },
  {
   "cell_type": "code",
   "execution_count": 16,
   "id": "alive-addition",
   "metadata": {},
   "outputs": [
    {
     "data": {
      "text/plain": [
       "[('user1', 'Animation'), ('user1', 'Comedy'), ('user2', 'Action')]"
      ]
     },
     "execution_count": 16,
     "metadata": {},
     "output_type": "execute_result"
    }
   ],
   "source": [
    "userPref = preferencesRDD.map(lambda record: (record.split(',')[0],record.split(',')[1]))\n",
    "userPref.collect()"
   ]
  },
  {
   "cell_type": "code",
   "execution_count": 17,
   "id": "expanded-richmond",
   "metadata": {},
   "outputs": [
    {
     "data": {
      "text/plain": [
       "[('user2',\n",
       "  (<pyspark.resultiterable.ResultIterable at 0x7f2a942d8910>,\n",
       "   <pyspark.resultiterable.ResultIterable at 0x7f2a942d8650>)),\n",
       " ('user1',\n",
       "  (<pyspark.resultiterable.ResultIterable at 0x7f2a942d8410>,\n",
       "   <pyspark.resultiterable.ResultIterable at 0x7f2a942d8090>))]"
      ]
     },
     "execution_count": 17,
     "metadata": {},
     "output_type": "execute_result"
    }
   ],
   "source": [
    "userGenrePref = userGenreRDD.cogroup(userPref)\n",
    "userGenrePref.collect()"
   ]
  },
  {
   "cell_type": "code",
   "execution_count": 19,
   "id": "exciting-morocco",
   "metadata": {},
   "outputs": [
    {
     "data": {
      "text/plain": [
       "[('user2', (['Comedy', 'Comedy', 'Action'], ['Action'])),\n",
       " ('user1',\n",
       "  (['Comedy', 'Animation', 'Comedy', 'Comedy'], ['Animation', 'Comedy']))]"
      ]
     },
     "execution_count": 19,
     "metadata": {},
     "output_type": "execute_result"
    }
   ],
   "source": [
    "# just for debuggin, the RDD is not changed\n",
    "userGenrePref.mapValues(lambda v: (list(v[0]), list(v[1]))).collect()"
   ]
  },
  {
   "cell_type": "code",
   "execution_count": 24,
   "id": "dirty-mother",
   "metadata": {},
   "outputs": [],
   "source": [
    "# Compute misleading users \n",
    "def misleading(userGenrePref):\n",
    "    # Store in a local list the \"small\" set of liked generes\n",
    "    # associated with the current user\n",
    "    likedGenres = list(userGenrePref[1][1])\n",
    "    \n",
    "    # Iterate over the watched movies\n",
    "    numWatchedMovies = 0\n",
    "    notLiked = 0\n",
    "    \n",
    "    for watchedGenre in userGenrePref[1][0]:\n",
    "        numWatchedMovies += 1\n",
    "        if watchedGenre not in likedGenres:\n",
    "            notLiked += 1\n",
    "            \n",
    "    if float(notLiked) > threshold * float(numWatchedMovies):\n",
    "        return True\n",
    "    else:\n",
    "        return False"
   ]
  },
  {
   "cell_type": "code",
   "execution_count": 25,
   "id": "roman-booking",
   "metadata": {},
   "outputs": [],
   "source": [
    "misleadingUserListRDD = userGenrePref.filter(misleading)"
   ]
  },
  {
   "cell_type": "code",
   "execution_count": 26,
   "id": "improving-devon",
   "metadata": {},
   "outputs": [
    {
     "data": {
      "text/plain": [
       "[('user2', (['Comedy', 'Comedy', 'Action'], ['Action']))]"
      ]
     },
     "execution_count": 26,
     "metadata": {},
     "output_type": "execute_result"
    }
   ],
   "source": [
    "misleadingUserListRDD.mapValues(lambda v: (list(v[0]), list(v[1]))).collect()"
   ]
  },
  {
   "cell_type": "code",
   "execution_count": null,
   "id": "sharing-agriculture",
   "metadata": {},
   "outputs": [],
   "source": []
  }
 ],
 "metadata": {
  "kernelspec": {
   "display_name": "PySpark (Local)",
   "language": "python",
   "name": "pyspark_local"
  },
  "language_info": {
   "codemirror_mode": {
    "name": "ipython",
    "version": 3
   },
   "file_extension": ".py",
   "mimetype": "text/x-python",
   "name": "python",
   "nbconvert_exporter": "python",
   "pygments_lexer": "ipython3",
   "version": "3.7.9"
  }
 },
 "nbformat": 4,
 "nbformat_minor": 5
}
