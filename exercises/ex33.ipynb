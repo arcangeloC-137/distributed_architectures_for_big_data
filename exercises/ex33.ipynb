{
 "cells": [
  {
   "cell_type": "code",
   "execution_count": 1,
   "id": "quiet-sponsorship",
   "metadata": {},
   "outputs": [],
   "source": [
    "# Exercise 33 - Top-k max values"
   ]
  },
  {
   "cell_type": "code",
   "execution_count": 2,
   "id": "incident-montreal",
   "metadata": {},
   "outputs": [],
   "source": [
    "# Input: a collection of structured textual csv files containing the daily value of PM10 for a set of sensors\n",
    "# Output: report the top-3  maximum value of PM10"
   ]
  },
  {
   "cell_type": "code",
   "execution_count": 3,
   "id": "smooth-steps",
   "metadata": {},
   "outputs": [
    {
     "data": {
      "text/html": [
       "\n",
       "        <div>\n",
       "            <p><b>SparkContext</b></p>\n",
       "\n",
       "            <p><a href=\"http://10.42.19.248:4043\">Spark UI</a></p>\n",
       "\n",
       "            <dl>\n",
       "              <dt>Version</dt>\n",
       "                <dd><code>v2.4.0-cdh6.2.1</code></dd>\n",
       "              <dt>Master</dt>\n",
       "                <dd><code>local[*]</code></dd>\n",
       "              <dt>AppName</dt>\n",
       "                <dd><code>pyspark-shell</code></dd>\n",
       "            </dl>\n",
       "        </div>\n",
       "        "
      ],
      "text/plain": [
       "<SparkContext master=local[*] appName=pyspark-shell>"
      ]
     },
     "execution_count": 3,
     "metadata": {},
     "output_type": "execute_result"
    }
   ],
   "source": [
    "sc"
   ]
  },
  {
   "cell_type": "code",
   "execution_count": 4,
   "id": "several-receiver",
   "metadata": {},
   "outputs": [],
   "source": [
    "inputPath = \"/data/students/bigdata-01QYD/ex_data/Ex33/data/\""
   ]
  },
  {
   "cell_type": "code",
   "execution_count": 5,
   "id": "consecutive-contamination",
   "metadata": {},
   "outputs": [],
   "source": [
    "# Read the content of the input file\n",
    "# Each line of the files has the following format: (sensorId, date, PM10 value \\n)\n",
    "#logRDD = sc.textFile(inputPath)\n",
    "\n",
    "# I can also decide the number of partitions to put\n",
    "logRDD = sc.textFile(inputPath,6)"
   ]
  },
  {
   "cell_type": "code",
   "execution_count": 6,
   "id": "powered-field",
   "metadata": {},
   "outputs": [],
   "source": [
    "pmRDD = logRDD.map(lambda logline: logline.split(',')[2])"
   ]
  },
  {
   "cell_type": "code",
   "execution_count": 9,
   "id": "distant-thomas",
   "metadata": {},
   "outputs": [
    {
     "data": {
      "text/plain": [
       "['60.2', '55.5', '52.5']"
      ]
     },
     "execution_count": 9,
     "metadata": {},
     "output_type": "execute_result"
    }
   ],
   "source": [
    "pmRDD.top(3)"
   ]
  },
  {
   "cell_type": "code",
   "execution_count": null,
   "id": "medieval-exhibition",
   "metadata": {},
   "outputs": [],
   "source": []
  }
 ],
 "metadata": {
  "kernelspec": {
   "display_name": "PySpark (Local)",
   "language": "python",
   "name": "pyspark_local"
  },
  "language_info": {
   "codemirror_mode": {
    "name": "ipython",
    "version": 3
   },
   "file_extension": ".py",
   "mimetype": "text/x-python",
   "name": "python",
   "nbconvert_exporter": "python",
   "pygments_lexer": "ipython3",
   "version": "3.7.9"
  }
 },
 "nbformat": 4,
 "nbformat_minor": 5
}
