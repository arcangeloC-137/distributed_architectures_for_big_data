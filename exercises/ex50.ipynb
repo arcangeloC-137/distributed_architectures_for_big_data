{
 "cells": [
  {
   "cell_type": "markdown",
   "id": "editorial-civilization",
   "metadata": {},
   "source": [
    "## Exercise 50 - SparkSQL\n",
    "- Input:\n",
    "    - A csv file containing a list of profiles\n",
    "    - Header: name,surname,age\n",
    "    - Each line of the file contains one profile\n",
    "- name,surname,age\n",
    "- Output:\n",
    "    - A csv file containing one single column called “name_surname” of type String\n",
    "    - name_surname = name+\" \"+surname\n",
    "\n",
    "\n",
    "- Input:\n",
    "    - name,surname,age\n",
    "    - Paolo,Garza,42\n",
    "    - Luca,Boccia,41\n",
    "    - Maura,Bianchi,16\n",
    "- Expected output:\n",
    "    - name_surname\n",
    "    - Paolo Garza\n",
    "    - Luca Boccia\n",
    "    - Maura Bianchi"
   ]
  },
  {
   "cell_type": "code",
   "execution_count": 1,
   "id": "violent-colonial",
   "metadata": {},
   "outputs": [],
   "source": [
    "from pyspark.sql import SparkSession\n",
    "\n",
    "# Create a spark session\n",
    "spark = SparkSession.builder.getOrCreate()\n",
    "\n",
    "# Create a DataFrame from persons_age_name_gender.csv\n",
    "dfPersons = spark.read.load('/data/students/bigdata-01QYD/ex_data/Ex49/data/',\\\n",
    "                            format='csv',\\\n",
    "                            header=True,\\\n",
    "                            inferSchema=True)"
   ]
  },
  {
   "cell_type": "code",
   "execution_count": 2,
   "id": "stylish-payday",
   "metadata": {},
   "outputs": [
    {
     "name": "stdout",
     "output_type": "stream",
     "text": [
      "root\n",
      " |-- name: string (nullable = true)\n",
      " |-- surname: string (nullable = true)\n",
      " |-- age: integer (nullable = true)\n",
      "\n",
      "+-----+-------+---+\n",
      "| name|surname|age|\n",
      "+-----+-------+---+\n",
      "|Paolo|  Garza| 42|\n",
      "| Luca| Boccia| 41|\n",
      "|Maura|Bianchi| 16|\n",
      "+-----+-------+---+\n",
      "\n"
     ]
    }
   ],
   "source": [
    "dfPersons.printSchema()\n",
    "dfPersons.show()"
   ]
  },
  {
   "cell_type": "code",
   "execution_count": 5,
   "id": "biblical-salem",
   "metadata": {},
   "outputs": [
    {
     "data": {
      "text/plain": [
       "<function __main__.<lambda>(name, surname)>"
      ]
     },
     "execution_count": 5,
     "metadata": {},
     "output_type": "execute_result"
    }
   ],
   "source": [
    "spark.udf.register(\"nameSurname\",\\\n",
    "                  lambda name,surname: name+\" \"+surname)"
   ]
  },
  {
   "cell_type": "code",
   "execution_count": 9,
   "id": "looking-premises",
   "metadata": {},
   "outputs": [],
   "source": [
    "# Define a DF \n",
    "nameSurname = dfPersons.selectExpr(\"name\", \"surname\", \"nameSurname(name,surname) as name_surname\")\\\n",
    "                .select(\"name_surname\")\n",
    "\n",
    "#or in SQL\n",
    "\n",
    "# I replace DF name with a easier one\n",
    "dfPersons.createOrReplaceTempView('profiles') \n",
    "\n",
    "nameSurnameSQL = spark.sql(\"\"\"SELECT nameSurname(name,surname) as name_surname\n",
    "                                      FROM profiles\"\"\")"
   ]
  },
  {
   "cell_type": "code",
   "execution_count": 10,
   "id": "desperate-belly",
   "metadata": {},
   "outputs": [
    {
     "name": "stdout",
     "output_type": "stream",
     "text": [
      "root\n",
      " |-- name_surname: string (nullable = true)\n",
      "\n",
      "+-------------+\n",
      "| name_surname|\n",
      "+-------------+\n",
      "|  Paolo Garza|\n",
      "|  Luca Boccia|\n",
      "|Maura Bianchi|\n",
      "+-------------+\n",
      "\n"
     ]
    }
   ],
   "source": [
    "nameSurname.printSchema()\n",
    "nameSurname.show()"
   ]
  },
  {
   "cell_type": "code",
   "execution_count": null,
   "id": "threatened-familiar",
   "metadata": {},
   "outputs": [],
   "source": []
  }
 ],
 "metadata": {
  "kernelspec": {
   "display_name": "PySpark (Local)",
   "language": "python",
   "name": "pyspark_local"
  },
  "language_info": {
   "codemirror_mode": {
    "name": "ipython",
    "version": 3
   },
   "file_extension": ".py",
   "mimetype": "text/x-python",
   "name": "python",
   "nbconvert_exporter": "python",
   "pygments_lexer": "ipython3",
   "version": "3.7.9"
  }
 },
 "nbformat": 4,
 "nbformat_minor": 5
}
