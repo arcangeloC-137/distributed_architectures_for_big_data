{
 "cells": [
  {
   "cell_type": "markdown",
   "id": "judicial-sucking",
   "metadata": {},
   "source": [
    "# **Exercise 55 - GraphFrames**\n",
    "\n",
    "Input:\n",
    "\n",
    "- The textual file vertexes.csv\n",
    "    - It contains the vertexes of a graph\n",
    "\n",
    "- Each vertex is characterized by\n",
    "    - id (string): vertex identifier\n",
    "    - entityType (string): “user” or “topic”\n",
    "    - name (string): name of the entity\n",
    "\n",
    "\n",
    "- The textual file edges.csv\n",
    "    - It contains the edges of a graph\n",
    "\n",
    "- Each edge is characterized by\n",
    "    - src (string): source vertex\n",
    "    - dst (string): destination vertex\n",
    "    - linktype (string): “expertOf” or “follow” or “correlated”\n",
    "\n",
    "\n",
    "Output:\n",
    "\n",
    "- The followed topics for each user\n",
    "\n",
    "- One pair (user name, followed topic) per line\n",
    "\n",
    "- Format: username, followed topic\n",
    "\n",
    "- Use the CSV format to store the result"
   ]
  },
  {
   "cell_type": "code",
   "execution_count": 2,
   "id": "amended-defeat",
   "metadata": {},
   "outputs": [],
   "source": [
    "from graphframes import GraphFrame\n",
    "\n",
    "inputPathVertexes = \"/data/students/bigdata-01QYD/ex_data/Ex55/data/vertexes.csv\"\n",
    "inputPathEdges = \"/data/students/bigdata-01QYD/ex_data/Ex55/data/edges.csv\"\n",
    "outputPath = \"resOut_ex55/\""
   ]
  },
  {
   "cell_type": "code",
   "execution_count": 3,
   "id": "compliant-night",
   "metadata": {},
   "outputs": [
    {
     "name": "stdout",
     "output_type": "stream",
     "text": [
      "root\n",
      " |-- id: string (nullable = true)\n",
      " |-- entityName: string (nullable = true)\n",
      " |-- name: string (nullable = true)\n",
      "\n",
      "+---+----------+--------+\n",
      "| id|entityName|    name|\n",
      "+---+----------+--------+\n",
      "| V1|      user|   Paolo|\n",
      "| V2|     topic|     SQL|\n",
      "| V3|      user|   David|\n",
      "| V4|     topic|Big Data|\n",
      "| V5|      user|    John|\n",
      "+---+----------+--------+\n",
      "\n"
     ]
    }
   ],
   "source": [
    "# Read the content of vertexes.csv\n",
    "vDF = spark.read.load(inputPathVertexes,\\\n",
    "                             format=\"csv\",\n",
    "                             header=True,\\\n",
    "                             inferSchema=True)\n",
    "\n",
    "vDF.printSchema()\n",
    "vDF.show()"
   ]
  },
  {
   "cell_type": "code",
   "execution_count": 4,
   "id": "operating-timothy",
   "metadata": {},
   "outputs": [
    {
     "name": "stdout",
     "output_type": "stream",
     "text": [
      "root\n",
      " |-- src: string (nullable = true)\n",
      " |-- dst: string (nullable = true)\n",
      " |-- linktype: string (nullable = true)\n",
      "\n",
      "+---+---+----------+\n",
      "|src|dst|  linktype|\n",
      "+---+---+----------+\n",
      "| V1| V2|      like|\n",
      "| V1| V3|    follow|\n",
      "| V1| V4|    follow|\n",
      "| V3| V2|    follow|\n",
      "| V3| V4|    follow|\n",
      "| V5| V2|  expertOf|\n",
      "| V2| V4|correlated|\n",
      "| V4| V2|correlated|\n",
      "+---+---+----------+\n",
      "\n"
     ]
    }
   ],
   "source": [
    "# Read the content of edges.csv\n",
    "eDF = spark.read.load(inputPathEdges,\\\n",
    "                             format=\"csv\",\n",
    "                             header=True,\\\n",
    "                             inferSchema=True)\n",
    "\n",
    "eDF.printSchema()\n",
    "eDF.show()"
   ]
  },
  {
   "cell_type": "code",
   "execution_count": 5,
   "id": "preliminary-cuisine",
   "metadata": {},
   "outputs": [
    {
     "name": "stdout",
     "output_type": "stream",
     "text": [
      "+---+---+--------+\n",
      "|src|dst|linktype|\n",
      "+---+---+--------+\n",
      "| V1| V3|  follow|\n",
      "| V1| V4|  follow|\n",
      "| V3| V2|  follow|\n",
      "| V3| V4|  follow|\n",
      "+---+---+--------+\n",
      "\n"
     ]
    }
   ],
   "source": [
    "# We look for:\n",
    "# - user -> follow -> topic\n",
    "\n",
    "filteredEdges = eDF.filter(\"linktype = 'follow'\")\n",
    "filteredEdges.show()"
   ]
  },
  {
   "cell_type": "code",
   "execution_count": 7,
   "id": "powerful-supplement",
   "metadata": {},
   "outputs": [],
   "source": [
    "# Create the input graph\n",
    "g = GraphFrame(vDF, filteredEdges)"
   ]
  },
  {
   "cell_type": "code",
   "execution_count": 14,
   "id": "conceptual-agent",
   "metadata": {},
   "outputs": [],
   "source": [
    "selectedPaths = g.find(\"(v1)-[]->(v2)\")"
   ]
  },
  {
   "cell_type": "code",
   "execution_count": 16,
   "id": "careful-surprise",
   "metadata": {},
   "outputs": [
    {
     "name": "stdout",
     "output_type": "stream",
     "text": [
      "+-----------------+---------------------+\n",
      "|v1               |v2                   |\n",
      "+-----------------+---------------------+\n",
      "|[V1, user, Paolo]|[V3, user, David]    |\n",
      "|[V1, user, Paolo]|[V4, topic, Big Data]|\n",
      "|[V3, user, David]|[V2, topic, SQL]     |\n",
      "|[V3, user, David]|[V4, topic, Big Data]|\n",
      "+-----------------+---------------------+\n",
      "\n"
     ]
    }
   ],
   "source": [
    "selectedPaths.show(truncate=False)"
   ]
  },
  {
   "cell_type": "code",
   "execution_count": 17,
   "id": "annoying-bench",
   "metadata": {},
   "outputs": [],
   "source": [
    "# Select only the users name and topics\n",
    "selectedPairsDF = selectedPaths\\\n",
    ".filter(\"v1.entityName='user' AND v2.entityName='topic'\")"
   ]
  },
  {
   "cell_type": "code",
   "execution_count": 18,
   "id": "lasting-insulation",
   "metadata": {},
   "outputs": [
    {
     "name": "stdout",
     "output_type": "stream",
     "text": [
      "+-----------------+--------------------+\n",
      "|               v1|                  v2|\n",
      "+-----------------+--------------------+\n",
      "|[V1, user, Paolo]|[V4, topic, Big D...|\n",
      "|[V3, user, David]|    [V2, topic, SQL]|\n",
      "|[V3, user, David]|[V4, topic, Big D...|\n",
      "+-----------------+--------------------+\n",
      "\n"
     ]
    }
   ],
   "source": [
    "selectedPairsDF.show()"
   ]
  },
  {
   "cell_type": "code",
   "execution_count": 19,
   "id": "distinguished-material",
   "metadata": {},
   "outputs": [
    {
     "name": "stdout",
     "output_type": "stream",
     "text": [
      "+--------+--------+\n",
      "|username|topic   |\n",
      "+--------+--------+\n",
      "|Paolo   |Big Data|\n",
      "|David   |SQL     |\n",
      "|David   |Big Data|\n",
      "+--------+--------+\n",
      "\n"
     ]
    }
   ],
   "source": [
    "# Select name and topic\n",
    "userTopicDF = selectedPairsDF\\\n",
    ".selectExpr(\"v1.name AS username\", \"v2.name AS topic\")\n",
    "userTopicDF.show(truncate=False)"
   ]
  },
  {
   "cell_type": "code",
   "execution_count": 20,
   "id": "numerous-binary",
   "metadata": {},
   "outputs": [],
   "source": [
    "userTopicDF.write.csv(outputPath, header=True)"
   ]
  },
  {
   "cell_type": "code",
   "execution_count": null,
   "id": "flying-purchase",
   "metadata": {},
   "outputs": [],
   "source": []
  }
 ],
 "metadata": {
  "kernelspec": {
   "display_name": "GraphFrames (Yarn)",
   "language": "python",
   "name": "graphframe_yarn"
  },
  "language_info": {
   "codemirror_mode": {
    "name": "ipython",
    "version": 3
   },
   "file_extension": ".py",
   "mimetype": "text/x-python",
   "name": "python",
   "nbconvert_exporter": "python",
   "pygments_lexer": "ipython3",
   "version": "3.7.9"
  }
 },
 "nbformat": 4,
 "nbformat_minor": 5
}
