{
 "cells": [
  {
   "cell_type": "markdown",
   "id": "hungarian-update",
   "metadata": {},
   "source": [
    "# **Exercise 54 - GraphFrames**\n",
    "\n",
    "Input:\n",
    "\n",
    "\n",
    "- The textual file vertexes.csv\n",
    "    - It contains the vertexes of a graph\n",
    "    \n",
    "\n",
    "- Each vertex is characterized by\n",
    "    - id (string): user identifier\n",
    "    - name (string): user name\n",
    "    - age (integer): user age\n",
    "\n",
    "\n",
    "\n",
    "- The textual file edges.csv\n",
    "    - It contains the edges of a graph\n",
    "    \n",
    "\n",
    "- Each edge is characterized by\n",
    "    - src (string): source vertex\n",
    "    - dst (string): destination vertex\n",
    "    - linktype (string): “follow”or “friend”\n",
    "    \n",
    "   \n",
    "Output:\n",
    "\n",
    "\n",
    "- The pairs of users Ux, Uy such that\n",
    "    - Ux is a friend of Uy (link “friend” from Ux to Uy)\n",
    "    - Uy is not a friend of Ux (no link “friend” from Uy to Ux)\n",
    "\n",
    "\n",
    "- One pair Ux,Uy per line\n",
    "\n",
    "\n",
    "- Format: idUx, idUy\n",
    "\n",
    "\n",
    "- Use the CSV format to store the result"
   ]
  },
  {
   "cell_type": "code",
   "execution_count": 16,
   "id": "academic-notice",
   "metadata": {},
   "outputs": [],
   "source": [
    "from graphframes import GraphFrame\n",
    "\n",
    "inputPathVertexes = \"/data/students/bigdata-01QYD/ex_data/Ex54/data/vertexes.csv\"\n",
    "inputPathEdges = \"/data/students/bigdata-01QYD/ex_data/Ex54/data/edges.csv\"\n",
    "outputPath = \"resOut_ex54/\""
   ]
  },
  {
   "cell_type": "code",
   "execution_count": 2,
   "id": "funny-jurisdiction",
   "metadata": {},
   "outputs": [
    {
     "name": "stdout",
     "output_type": "stream",
     "text": [
      "root\n",
      " |-- id: string (nullable = true)\n",
      " |-- name: string (nullable = true)\n",
      " |-- age: integer (nullable = true)\n",
      "\n",
      "+---+-----+---+\n",
      "| id| name|age|\n",
      "+---+-----+---+\n",
      "| u1|Alice| 34|\n",
      "| u2|  Bob| 36|\n",
      "| u3| John| 30|\n",
      "| u4|David| 29|\n",
      "| u5| Paul| 32|\n",
      "| u6| Adel| 36|\n",
      "| u7| Eddy| 60|\n",
      "+---+-----+---+\n",
      "\n"
     ]
    }
   ],
   "source": [
    "# Read the content of vertexes.csv\n",
    "vDF = spark.read.load(inputPathVertexes,\\\n",
    "                             format=\"csv\",\n",
    "                             header=True,\\\n",
    "                             inferSchema=True)\n",
    "\n",
    "vDF.printSchema()\n",
    "vDF.show()"
   ]
  },
  {
   "cell_type": "code",
   "execution_count": 5,
   "id": "brave-persian",
   "metadata": {},
   "outputs": [
    {
     "name": "stdout",
     "output_type": "stream",
     "text": [
      "root\n",
      " |-- src: string (nullable = true)\n",
      " |-- dst: string (nullable = true)\n",
      " |-- linktype: string (nullable = true)\n",
      "\n",
      "+---+---+--------+\n",
      "|src|dst|linktype|\n",
      "+---+---+--------+\n",
      "| u1| u2|  friend|\n",
      "| u1| u5|  friend|\n",
      "| u2| u3|  follow|\n",
      "| u3| u2|  follow|\n",
      "| u4| u1|  friend|\n",
      "| u4| u5|  friend|\n",
      "| u5| u1|  friend|\n",
      "| u5| u4|  friend|\n",
      "| u5| u6|  follow|\n",
      "| u6| u3|  follow|\n",
      "| u7| u6|  follow|\n",
      "+---+---+--------+\n",
      "\n"
     ]
    }
   ],
   "source": [
    "# Read the content of edges.csv\n",
    "eDF = spark.read.load(inputPathEdges,\\\n",
    "                             format=\"csv\",\n",
    "                             header=True,\\\n",
    "                             inferSchema=True)\n",
    "\n",
    "eDF.printSchema()\n",
    "eDF.show()"
   ]
  },
  {
   "cell_type": "code",
   "execution_count": 6,
   "id": "junior-taxation",
   "metadata": {},
   "outputs": [
    {
     "name": "stdout",
     "output_type": "stream",
     "text": [
      "+---+---+--------+\n",
      "|src|dst|linktype|\n",
      "+---+---+--------+\n",
      "| u1| u2|  friend|\n",
      "| u1| u5|  friend|\n",
      "| u4| u1|  friend|\n",
      "| u4| u5|  friend|\n",
      "| u5| u1|  friend|\n",
      "| u5| u4|  friend|\n",
      "+---+---+--------+\n",
      "\n"
     ]
    }
   ],
   "source": [
    "filteredEdges = eDF.filter(\"linktype = 'friend'\")\n",
    "filteredEdges.show()"
   ]
  },
  {
   "cell_type": "code",
   "execution_count": 7,
   "id": "foreign-guyana",
   "metadata": {},
   "outputs": [],
   "source": [
    "# Create the input graph\n",
    "g = GraphFrame(vDF, filteredEdges)"
   ]
  },
  {
   "cell_type": "code",
   "execution_count": 9,
   "id": "agreed-drove",
   "metadata": {},
   "outputs": [],
   "source": [
    "# We look for: \n",
    "# - userX -> friend -> userY \n",
    "# - userY -> NOT friend -> userX\n",
    "\n",
    "# To do that we apply the motif finding\n",
    "selectedPaths = g.find(\"(userx)-[]->(usery);!(usery)-[]->(userx)\")"
   ]
  },
  {
   "cell_type": "code",
   "execution_count": 10,
   "id": "logical-perception",
   "metadata": {},
   "outputs": [
    {
     "name": "stdout",
     "output_type": "stream",
     "text": [
      "root\n",
      " |-- userx: struct (nullable = false)\n",
      " |    |-- id: string (nullable = true)\n",
      " |    |-- name: string (nullable = true)\n",
      " |    |-- age: integer (nullable = true)\n",
      " |-- usery: struct (nullable = false)\n",
      " |    |-- id: string (nullable = true)\n",
      " |    |-- name: string (nullable = true)\n",
      " |    |-- age: integer (nullable = true)\n",
      "\n",
      "+---------------+---------------+\n",
      "|          userx|          usery|\n",
      "+---------------+---------------+\n",
      "|[u4, David, 29]|[u1, Alice, 34]|\n",
      "|[u1, Alice, 34]|  [u2, Bob, 36]|\n",
      "+---------------+---------------+\n",
      "\n"
     ]
    }
   ],
   "source": [
    "selectedPaths.printSchema()\n",
    "selectedPaths.show()"
   ]
  },
  {
   "cell_type": "code",
   "execution_count": 12,
   "id": "patient-review",
   "metadata": {},
   "outputs": [],
   "source": [
    "# Select only the names of the users and rename the column\n",
    "SelectedPairsDF = selectedPaths\\\n",
    ".selectExpr(\"userx.id as IdFriend\", \"usery.id as IdNotFriend\")"
   ]
  },
  {
   "cell_type": "code",
   "execution_count": 13,
   "id": "bridal-island",
   "metadata": {},
   "outputs": [
    {
     "name": "stdout",
     "output_type": "stream",
     "text": [
      "+--------+-----------+\n",
      "|IdFriend|IdNotFriend|\n",
      "+--------+-----------+\n",
      "|      u4|         u1|\n",
      "|      u1|         u2|\n",
      "+--------+-----------+\n",
      "\n"
     ]
    }
   ],
   "source": [
    "SelectedPairsDF.show()"
   ]
  },
  {
   "cell_type": "code",
   "execution_count": 17,
   "id": "separated-cream",
   "metadata": {},
   "outputs": [],
   "source": [
    "# Save\n",
    "SelectedPairsDF.write.csv(outputPath, header=True)"
   ]
  },
  {
   "cell_type": "code",
   "execution_count": null,
   "id": "infinite-smith",
   "metadata": {},
   "outputs": [],
   "source": []
  }
 ],
 "metadata": {
  "kernelspec": {
   "display_name": "GraphFrames (Yarn)",
   "language": "python",
   "name": "graphframe_yarn"
  },
  "language_info": {
   "codemirror_mode": {
    "name": "ipython",
    "version": 3
   },
   "file_extension": ".py",
   "mimetype": "text/x-python",
   "name": "python",
   "nbconvert_exporter": "python",
   "pygments_lexer": "ipython3",
   "version": "3.7.9"
  }
 },
 "nbformat": 4,
 "nbformat_minor": 5
}
