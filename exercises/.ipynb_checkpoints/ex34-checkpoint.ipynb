{
 "cells": [
  {
   "cell_type": "code",
   "execution_count": 1,
   "id": "practical-ordinance",
   "metadata": {},
   "outputs": [],
   "source": [
    "# Exercise 34"
   ]
  },
  {
   "cell_type": "code",
   "execution_count": 2,
   "id": "external-adrian",
   "metadata": {},
   "outputs": [],
   "source": [
    "# Input: a collection of structured textual csv files containing the daily value of PM10 for a set of sensors\n",
    "# Output: report the lines of the top maximum value of PM10"
   ]
  },
  {
   "cell_type": "code",
   "execution_count": 3,
   "id": "severe-particle",
   "metadata": {},
   "outputs": [
    {
     "data": {
      "text/html": [
       "\n",
       "        <div>\n",
       "            <p><b>SparkContext</b></p>\n",
       "\n",
       "            <p><a href=\"http://10.42.19.248:4044\">Spark UI</a></p>\n",
       "\n",
       "            <dl>\n",
       "              <dt>Version</dt>\n",
       "                <dd><code>v2.4.0-cdh6.2.1</code></dd>\n",
       "              <dt>Master</dt>\n",
       "                <dd><code>local[*]</code></dd>\n",
       "              <dt>AppName</dt>\n",
       "                <dd><code>pyspark-shell</code></dd>\n",
       "            </dl>\n",
       "        </div>\n",
       "        "
      ],
      "text/plain": [
       "<SparkContext master=local[*] appName=pyspark-shell>"
      ]
     },
     "execution_count": 3,
     "metadata": {},
     "output_type": "execute_result"
    }
   ],
   "source": [
    "sc"
   ]
  },
  {
   "cell_type": "code",
   "execution_count": 14,
   "id": "introductory-printer",
   "metadata": {},
   "outputs": [],
   "source": [
    "inputPath = \"/data/students/bigdata-01QYD/ex_data/Ex34/data/\"\n",
    "outputPath = \"res_out_34/\""
   ]
  },
  {
   "cell_type": "code",
   "execution_count": 5,
   "id": "material-playback",
   "metadata": {},
   "outputs": [],
   "source": [
    "logRDD = sc.textFile(inputPath)"
   ]
  },
  {
   "cell_type": "code",
   "execution_count": 6,
   "id": "verbal-toronto",
   "metadata": {},
   "outputs": [],
   "source": [
    "pmValues = logRDD.map(lambda logline: logline.split(',')[2])\n",
    "threshold = pmValues.top(1)[0]"
   ]
  },
  {
   "cell_type": "code",
   "execution_count": 12,
   "id": "unauthorized-particular",
   "metadata": {},
   "outputs": [],
   "source": [
    "topRecords = logRDD.filter(lambda logline: float(logline.split(',')[2]==threshold))"
   ]
  },
  {
   "cell_type": "code",
   "execution_count": 13,
   "id": "central-gibson",
   "metadata": {},
   "outputs": [
    {
     "data": {
      "text/plain": [
       "['s1,2016-01-02,60.2', 's1,2016-01-03,60.2']"
      ]
     },
     "execution_count": 13,
     "metadata": {},
     "output_type": "execute_result"
    }
   ],
   "source": [
    "topRecords.collect()"
   ]
  },
  {
   "cell_type": "code",
   "execution_count": 15,
   "id": "bearing-insider",
   "metadata": {},
   "outputs": [],
   "source": [
    "topRecords.saveAsTextFile(outputPath)"
   ]
  },
  {
   "cell_type": "code",
   "execution_count": null,
   "id": "blind-license",
   "metadata": {},
   "outputs": [],
   "source": [
    "# 33:23"
   ]
  }
 ],
 "metadata": {
  "kernelspec": {
   "display_name": "PySpark (Local)",
   "language": "python",
   "name": "pyspark_local"
  },
  "language_info": {
   "codemirror_mode": {
    "name": "ipython",
    "version": 3
   },
   "file_extension": ".py",
   "mimetype": "text/x-python",
   "name": "python",
   "nbconvert_exporter": "python",
   "pygments_lexer": "ipython3",
   "version": "3.7.9"
  }
 },
 "nbformat": 4,
 "nbformat_minor": 5
}
