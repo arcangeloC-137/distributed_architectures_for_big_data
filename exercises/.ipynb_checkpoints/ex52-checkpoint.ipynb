{
 "cells": [
  {
   "cell_type": "markdown",
   "id": "funny-regard",
   "metadata": {},
   "source": [
    "# Exercise 52 - GraphFrame\n",
    "\n",
    "Input:\n",
    "- The textual file vertexes.csv: It contains the vertexes of a graph\n",
    "    \n",
    "- Each vertex is characterized by\n",
    "    - id (string): user identifier\n",
    "    - name (string): user name\n",
    "    - age (integer): user age\n",
    "\n",
    "\n",
    "- The textual file edges.csv\n",
    "    - It contains the edges of a graph\n",
    "\n",
    "\n",
    "- Each edge is characterized by\n",
    "    - src (string): source vertex\n",
    "    - dst (string): destination vertex\n",
    "    - linktype (string): “follow”or “friend”\n",
    "\n",
    "\n",
    "Output:\n",
    "- For each user with at least one follower, store in the output folder the number of followers\n",
    "    - One user per line\n",
    "    - Format: user id, number of followers\n",
    "- Use the CSV format to store the result"
   ]
  },
  {
   "cell_type": "code",
   "execution_count": 2,
   "id": "spanish-performer",
   "metadata": {},
   "outputs": [],
   "source": [
    "vertexPath = \"/data/students/bigdata-01QYD/ex_data/Ex52/data/vertexes.csv\"\n",
    "edgePath = \"/data/students/bigdata-01QYD/ex_data/Ex52/data/edges.csv\"\n",
    "outputPath = \"res_out_ex52/\""
   ]
  },
  {
   "cell_type": "code",
   "execution_count": 3,
   "id": "coupled-simulation",
   "metadata": {},
   "outputs": [],
   "source": [
    "from graphframes import GraphFrame\n",
    "# Create a spark session\n",
    "spark = SparkSession.builder.getOrCreate()\n",
    "\n",
    "vDF = spark.read.load(vertexPath,\\\n",
    "                            format='csv',\\\n",
    "                            header=True,\\\n",
    "                            inferSchema=True)\n",
    "eDF = spark.read.load(edgePath,\\\n",
    "                            format='csv',\\\n",
    "                            header=True,\\\n",
    "                            inferSchema=True)"
   ]
  },
  {
   "cell_type": "code",
   "execution_count": 4,
   "id": "fabulous-luxury",
   "metadata": {},
   "outputs": [
    {
     "name": "stdout",
     "output_type": "stream",
     "text": [
      "+---+-----+---+\n",
      "| id| name|age|\n",
      "+---+-----+---+\n",
      "| u1|Alice| 34|\n",
      "| u2|  Bob| 36|\n",
      "| u3| John| 30|\n",
      "| u4|David| 29|\n",
      "| u5| Paul| 32|\n",
      "| u6| Adel| 36|\n",
      "| u7| Eddy| 60|\n",
      "+---+-----+---+\n",
      "\n",
      "+---+---+--------+\n",
      "|src|dst|linktype|\n",
      "+---+---+--------+\n",
      "| u1| u2|  friend|\n",
      "| u1| u4|  friend|\n",
      "| u1| u5|  friend|\n",
      "| u2| u1|  friend|\n",
      "| u2| u3|  follow|\n",
      "| u3| u2|  follow|\n",
      "| u4| u1|  friend|\n",
      "| u4| u5|  friend|\n",
      "| u5| u1|  friend|\n",
      "| u5| u4|  friend|\n",
      "| u5| u6|  follow|\n",
      "| u6| u3|  follow|\n",
      "| u7| u6|  follow|\n",
      "+---+---+--------+\n",
      "\n"
     ]
    }
   ],
   "source": [
    "vDF.show()\n",
    "eDF.show()"
   ]
  },
  {
   "cell_type": "code",
   "execution_count": 11,
   "id": "cosmetic-british",
   "metadata": {},
   "outputs": [
    {
     "name": "stdout",
     "output_type": "stream",
     "text": [
      "+---+---+--------+\n",
      "|src|dst|linktype|\n",
      "+---+---+--------+\n",
      "| u2| u3|  follow|\n",
      "| u3| u2|  follow|\n",
      "| u5| u6|  follow|\n",
      "| u6| u3|  follow|\n",
      "| u7| u6|  follow|\n",
      "+---+---+--------+\n",
      "\n"
     ]
    }
   ],
   "source": [
    "# Since we need only follow linkTypes, we remove all edges with friend type\n",
    "edgesDF = eDF.filter(\" linktype = 'follow' \")\n",
    "edgesDF.show()"
   ]
  },
  {
   "cell_type": "code",
   "execution_count": 14,
   "id": "pediatric-minneapolis",
   "metadata": {},
   "outputs": [
    {
     "ename": "NameError",
     "evalue": "name 'GraphFrame' is not defined",
     "output_type": "error",
     "traceback": [
      "\u001b[0;31m---------------------------------------------------------------------------\u001b[0m",
      "\u001b[0;31mNameError\u001b[0m                                 Traceback (most recent call last)",
      "\u001b[0;32m<ipython-input-14-2424375305f0>\u001b[0m in \u001b[0;36m<module>\u001b[0;34m\u001b[0m\n\u001b[0;32m----> 1\u001b[0;31m \u001b[0mg\u001b[0m \u001b[0;34m=\u001b[0m \u001b[0mGraphFrame\u001b[0m\u001b[0;34m(\u001b[0m\u001b[0mvDF\u001b[0m\u001b[0;34m,\u001b[0m\u001b[0medgesDF\u001b[0m\u001b[0;34m)\u001b[0m\u001b[0;34m\u001b[0m\u001b[0;34m\u001b[0m\u001b[0m\n\u001b[0m",
      "\u001b[0;31mNameError\u001b[0m: name 'GraphFrame' is not defined"
     ]
    }
   ],
   "source": [
    "g = GraphFrame(vDF,edgesDF)"
   ]
  },
  {
   "cell_type": "code",
   "execution_count": 13,
   "id": "genetic-favorite",
   "metadata": {},
   "outputs": [
    {
     "ename": "AttributeError",
     "evalue": "'tuple' object has no attribute 'inDegrees'",
     "output_type": "error",
     "traceback": [
      "\u001b[0;31m---------------------------------------------------------------------------\u001b[0m",
      "\u001b[0;31mAttributeError\u001b[0m                            Traceback (most recent call last)",
      "\u001b[0;32m<ipython-input-13-60c610ef868f>\u001b[0m in \u001b[0;36m<module>\u001b[0;34m\u001b[0m\n\u001b[1;32m      1\u001b[0m \u001b[0;31m# Count the number of followers for each user\u001b[0m\u001b[0;34m\u001b[0m\u001b[0;34m\u001b[0m\u001b[0;34m\u001b[0m\u001b[0m\n\u001b[0;32m----> 2\u001b[0;31m \u001b[0muserNumFollowersDF\u001b[0m \u001b[0;34m=\u001b[0m \u001b[0mg\u001b[0m\u001b[0;34m.\u001b[0m\u001b[0minDegrees\u001b[0m\u001b[0;31m\\\u001b[0m\u001b[0;34m\u001b[0m\u001b[0;34m\u001b[0m\u001b[0m\n\u001b[0m\u001b[1;32m      3\u001b[0m \u001b[0;34m.\u001b[0m\u001b[0mwithColumnRenamed\u001b[0m\u001b[0;34m(\u001b[0m\u001b[0;34m\"inDefree\"\u001b[0m\u001b[0;34m,\u001b[0m \u001b[0;34m\"numFollowers\"\u001b[0m\u001b[0;34m)\u001b[0m\u001b[0;34m\u001b[0m\u001b[0;34m\u001b[0m\u001b[0m\n",
      "\u001b[0;31mAttributeError\u001b[0m: 'tuple' object has no attribute 'inDegrees'"
     ]
    }
   ],
   "source": [
    "# Count the number of followers for each user\n",
    "userNumFollowersDF = g.inDegrees\\\n",
    ".withColumnRenamed(\"inDefree\", \"numFollowers\")"
   ]
  },
  {
   "cell_type": "code",
   "execution_count": null,
   "id": "criminal-immigration",
   "metadata": {},
   "outputs": [],
   "source": []
  }
 ],
 "metadata": {
  "kernelspec": {
   "display_name": "GraphFrames (Yarn)",
   "language": "python",
   "name": "graphframe_yarn"
  },
  "language_info": {
   "codemirror_mode": {
    "name": "ipython",
    "version": 3
   },
   "file_extension": ".py",
   "mimetype": "text/x-python",
   "name": "python",
   "nbconvert_exporter": "python",
   "pygments_lexer": "ipython3",
   "version": "3.7.9"
  }
 },
 "nbformat": 4,
 "nbformat_minor": 5
}
