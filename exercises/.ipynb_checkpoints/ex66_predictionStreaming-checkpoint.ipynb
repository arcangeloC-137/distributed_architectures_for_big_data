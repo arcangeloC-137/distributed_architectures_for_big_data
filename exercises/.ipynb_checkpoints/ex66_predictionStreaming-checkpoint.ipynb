{
 "cells": [
  {
   "cell_type": "markdown",
   "id": "initial-nickel",
   "metadata": {},
   "source": [
    "# ***Exercise 66 prediction***\n",
    "Predict the variety of iris plants in real-time\n",
    "\n",
    "Inputs:\n",
    "\n",
    "- Training data\n",
    "    - Static input file: training.csv\n",
    "\n",
    "- New data\n",
    "    - A stream of records about new iris plants\n",
    "\n",
    "Output\n",
    "- Predicted class label/variety for each new iris plant using only column “sepallength” and “sepalwidth”\n",
    "\n",
    "Training data schema\n",
    "\n",
    "- sepallength: double\n",
    "- sepalwidth: double\n",
    "- petallength: double – not considered\n",
    "- petalwidth: double – not considered\n",
    "- variety: integer\n",
    "     - 1 -> Setosa category\n",
    "     - 2 -> Versicolor category\n",
    "     - 3 -> Virginica category\n",
    "     \n",
    "New streaming data schema\n",
    "- sepallength: double\n",
    "- sepalwidth: double\n",
    "- petallength: double\n",
    "- petalwidth: double\n",
    "- variety: it is always null for the new data"
   ]
  },
  {
   "cell_type": "code",
   "execution_count": null,
   "id": "fossil-madison",
   "metadata": {},
   "outputs": [],
   "source": [
    "from pyspark.ml.classification import LogisticRegression\n",
    "from pyspark.ml.feature import VectorAssembler, SQLTransformer\n",
    "from pyspark.ml import Pipeline,PipelineModel\n",
    "from pyspark.sql.types import StructType"
   ]
  },
  {
   "cell_type": "code",
   "execution_count": null,
   "id": "indoor-disabled",
   "metadata": {},
   "outputs": [],
   "source": [
    "streaming_path = 'inputStreaming/'\n",
    "model_path = 'pipelineClassificationModel/'\n",
    "\n",
    "output_path = 'predictions/'"
   ]
  },
  {
   "cell_type": "code",
   "execution_count": null,
   "id": "interstate-sydney",
   "metadata": {},
   "outputs": [],
   "source": [
    "# Define the schema of the input data\n",
    "inputSchema = StructType()\\\n",
    ".add(\"sepallength\", \"double\")\\\n",
    ".add(\"sepalwidth\", \"double\")\\\n",
    ".add(\"petallength\", \"double\")\\\n",
    ".add(\"petalwidth\", \"double\")\\\n",
    ".add(\"variety\",\"double\")"
   ]
  },
  {
   "cell_type": "code",
   "execution_count": null,
   "id": "remarkable-crawford",
   "metadata": {},
   "outputs": [],
   "source": [
    "# Define input stream\n",
    "data_stream = spark.readStream\\\n",
    "                    .format('csv')\\\n",
    "                    .option('path', streaming_path)\\\n",
    "                    .option('header', True)\\\n",
    "                    .schema(inputSchema)\\\n",
    "                    .load()"
   ]
  },
  {
   "cell_type": "code",
   "execution_count": null,
   "id": "chicken-deviation",
   "metadata": {},
   "outputs": [],
   "source": [
    "data_stream.printSchema()"
   ]
  },
  {
   "cell_type": "code",
   "execution_count": null,
   "id": "patient-dimension",
   "metadata": {},
   "outputs": [],
   "source": [
    "# Real ML model\n",
    "model = PipelineModel.load(model_path)"
   ]
  },
  {
   "cell_type": "code",
   "execution_count": null,
   "id": "lovely-opera",
   "metadata": {},
   "outputs": [],
   "source": [
    "predictions = model.transform(data_stream)"
   ]
  },
  {
   "cell_type": "code",
   "execution_count": null,
   "id": "present-attention",
   "metadata": {},
   "outputs": [],
   "source": [
    "predictions.printSchema()"
   ]
  },
  {
   "cell_type": "code",
   "execution_count": null,
   "id": "sixth-ideal",
   "metadata": {},
   "outputs": [],
   "source": []
  },
  {
   "cell_type": "code",
   "execution_count": null,
   "id": "lovely-grade",
   "metadata": {},
   "outputs": [],
   "source": [
    "predictionStreamWriter = predictions\\\n",
    ".select('sepallength', 'sepalwidth', 'petallength', 'petalwidth', 'prediction')\\\n",
    ".writeStream\\\n",
    ".format(\"csv\")\\\n",
    ".outputMode('append')\\\n",
    ".option(\"path\", output_path)\\\n",
    ".option(\"checkpointLocation\", \"checkpoint/\")"
   ]
  },
  {
   "cell_type": "code",
   "execution_count": null,
   "id": "individual-kentucky",
   "metadata": {},
   "outputs": [],
   "source": [
    "prediction_stream = predictionStreamWriter.start()"
   ]
  },
  {
   "cell_type": "code",
   "execution_count": null,
   "id": "velvet-wallet",
   "metadata": {},
   "outputs": [],
   "source": []
  },
  {
   "cell_type": "code",
   "execution_count": null,
   "id": "wrong-tutorial",
   "metadata": {},
   "outputs": [],
   "source": [
    "prediction_stream.stop()"
   ]
  },
  {
   "cell_type": "code",
   "execution_count": null,
   "id": "specialized-serve",
   "metadata": {},
   "outputs": [],
   "source": []
  }
 ],
 "metadata": {
  "kernelspec": {
   "display_name": "Python 3",
   "language": "python",
   "name": "python3"
  },
  "language_info": {
   "codemirror_mode": {
    "name": "ipython",
    "version": 3
   },
   "file_extension": ".py",
   "mimetype": "text/x-python",
   "name": "python",
   "nbconvert_exporter": "python",
   "pygments_lexer": "ipython3",
   "version": "3.7.9"
  }
 },
 "nbformat": 4,
 "nbformat_minor": 5
}
