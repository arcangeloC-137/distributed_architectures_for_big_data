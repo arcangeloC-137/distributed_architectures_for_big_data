{
 "cells": [
  {
   "cell_type": "markdown",
   "id": "usual-diana",
   "metadata": {},
   "source": [
    "### **Exercise 46**\n",
    "Consider all the windows containing 3 consecutive temperature readings. Select windows characterized by increasing trend. A window is characterized by an increasing trend if for all the temperature readings in it:\n",
    "\n",
    "**temperature(t) > temperature (t - 60s)**"
   ]
  },
  {
   "cell_type": "code",
   "execution_count": 5,
   "id": "labeled-jesus",
   "metadata": {},
   "outputs": [],
   "source": [
    "inWindows = \"/data/students/bigdata-01QYD/ex_data/Ex46/data/\"\n",
    "\n",
    "# Read the content of the DataFrame\n",
    "from pyspark.sql import SparkSession\n",
    "\n",
    "spark = SparkSession.builder.getOrCreate()\n",
    "\n",
    "readingsDF = spark.read.load(inWindows,\\\n",
    "                            format='csv',\\\n",
    "                            header=False,\\\n",
    "                            inferSchema=True)\\\n",
    ".withColumnRenamed('_c0','timestamp')\\\n",
    ".withColumnRenamed('_c1','temperature')"
   ]
  },
  {
   "cell_type": "code",
   "execution_count": 6,
   "id": "compact-poland",
   "metadata": {},
   "outputs": [
    {
     "name": "stdout",
     "output_type": "stream",
     "text": [
      "root\n",
      " |-- timestamp: integer (nullable = true)\n",
      " |-- temperature: double (nullable = true)\n",
      "\n",
      "+----------+-----------+\n",
      "| timestamp|temperature|\n",
      "+----------+-----------+\n",
      "|1451606400|       12.1|\n",
      "|1451606460|       12.2|\n",
      "|1451606520|       13.5|\n",
      "|1451606580|       14.0|\n",
      "|1451606640|       14.0|\n",
      "|1451606700|       15.5|\n",
      "|1451606760|       15.0|\n",
      "+----------+-----------+\n",
      "\n"
     ]
    }
   ],
   "source": [
    "readingsDF.printSchema()\n",
    "readingsDF.show()"
   ]
  },
  {
   "cell_type": "code",
   "execution_count": 8,
   "id": "broke-cycle",
   "metadata": {},
   "outputs": [
    {
     "data": {
      "text/plain": [
       "[Row(timestamp=1451606400, temperature=12.1),\n",
       " Row(timestamp=1451606460, temperature=12.2),\n",
       " Row(timestamp=1451606520, temperature=13.5),\n",
       " Row(timestamp=1451606580, temperature=14.0),\n",
       " Row(timestamp=1451606640, temperature=14.0),\n",
       " Row(timestamp=1451606700, temperature=15.5),\n",
       " Row(timestamp=1451606760, temperature=15.0)]"
      ]
     },
     "execution_count": 8,
     "metadata": {},
     "output_type": "execute_result"
    }
   ],
   "source": [
    "# Transform DF in RDD\n",
    "readingsRDD = readingsDF.rdd\n",
    "readingsDF.collect()"
   ]
  },
  {
   "cell_type": "code",
   "execution_count": null,
   "id": "hawaiian-enemy",
   "metadata": {},
   "outputs": [],
   "source": [
    "# Generate the elements of each window\n",
    "# Each reading with start time t belongs to 3 windows\n",
    "# - the one starting at time t-120s"
   ]
  }
 ],
 "metadata": {
  "kernelspec": {
   "display_name": "PySpark (Local)",
   "language": "python",
   "name": "pyspark_local"
  },
  "language_info": {
   "codemirror_mode": {
    "name": "ipython",
    "version": 3
   },
   "file_extension": ".py",
   "mimetype": "text/x-python",
   "name": "python",
   "nbconvert_exporter": "python",
   "pygments_lexer": "ipython3",
   "version": "3.7.9"
  }
 },
 "nbformat": 4,
 "nbformat_minor": 5
}
