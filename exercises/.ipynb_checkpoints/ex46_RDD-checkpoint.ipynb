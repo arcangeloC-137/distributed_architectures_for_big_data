{
 "cells": [
  {
   "cell_type": "code",
   "execution_count": 1,
   "id": "seasonal-score",
   "metadata": {},
   "outputs": [],
   "source": [
    "# Exercise 46"
   ]
  },
  {
   "cell_type": "markdown",
   "id": "adult-orbit",
   "metadata": {},
   "source": [
    "Consider all the windows containing 3 consecutive temperature readings. Select windows characterized by increasing trend. A window is characterized by an increasing trend if for all the temperature readings in it:\n",
    "\n",
    "**temperature(t) > temperature (t - 60s)**"
   ]
  },
  {
   "cell_type": "code",
   "execution_count": 28,
   "id": "early-syndicate",
   "metadata": {},
   "outputs": [],
   "source": [
    "sc\n",
    "inWindows = \"/data/students/bigdata-01QYD/ex_data/Ex46/data/\"\n",
    "outputPath = \"/res_out_ex46/\""
   ]
  },
  {
   "cell_type": "code",
   "execution_count": 5,
   "id": "modular-monitor",
   "metadata": {},
   "outputs": [
    {
     "data": {
      "text/plain": [
       "['1451606760,15.0', '1451606700,15.5']"
      ]
     },
     "execution_count": 5,
     "metadata": {},
     "output_type": "execute_result"
    }
   ],
   "source": [
    "logRDD = sc.textFile(inWindows)\n",
    "logRDD.top(2)"
   ]
  },
  {
   "cell_type": "markdown",
   "id": "vocational-piano",
   "metadata": {},
   "source": [
    "It would be a smart approach to use a **flatMap** to create an RDD with keys associates with timestamps. Ate the end we will use a **groupByKey** in order to put together all the windows. It could be solved also with join operation, but it is suitable only for two elements per line, no more. Use always this che vai sicuro."
   ]
  },
  {
   "cell_type": "code",
   "execution_count": 10,
   "id": "legal-shooting",
   "metadata": {},
   "outputs": [],
   "source": [
    "# Generate elements of each window\n",
    "# Each reading with start time t belongs to 3 windows with a window size equivalent to 120s\n",
    "# - The one starting at time t-120s\n",
    "# - The one starting at time t-60s\n",
    "# - The one starting at time t\n",
    "\n",
    "def windowElementsFunc(reading):\n",
    "    fields = reading.split(',')\n",
    "    \n",
    "    # The time stamp of this reading\n",
    "    t = int(fields[0])\n",
    "    # Temperature\n",
    "    temperature = float(fields[1])\n",
    "    \n",
    "    # The current reading, associated with time stamp t,\n",
    "    # is part of the windows starting at time t, t-60s, t-120s\n",
    "    \n",
    "    # pairs is a list containing three pairs (window start tmstp, current tmstp)\n",
    "    # the three windows containing this reading\n",
    "    pairs = []\n",
    "    \n",
    "    # Window starting a time t\n",
    "    pairs.append((t, reading))\n",
    "    \n",
    "    # Window starting a time t\n",
    "    pairs.append((t-60, reading))\n",
    "    \n",
    "    # Window starting a time t\n",
    "    pairs.append((t-120, reading))\n",
    "    \n",
    "    return pairs"
   ]
  },
  {
   "cell_type": "code",
   "execution_count": 11,
   "id": "found-photography",
   "metadata": {},
   "outputs": [],
   "source": [
    "windowElementsRDD = logRDD.flatMap(windowElementsFunc)"
   ]
  },
  {
   "cell_type": "code",
   "execution_count": 12,
   "id": "renewable-seller",
   "metadata": {},
   "outputs": [
    {
     "data": {
      "text/plain": [
       "[(1451606400, '1451606400,12.1'),\n",
       " (1451606340, '1451606400,12.1'),\n",
       " (1451606280, '1451606400,12.1'),\n",
       " (1451606460, '1451606460,12.2'),\n",
       " (1451606400, '1451606460,12.2'),\n",
       " (1451606340, '1451606460,12.2'),\n",
       " (1451606520, '1451606520,13.5'),\n",
       " (1451606460, '1451606520,13.5'),\n",
       " (1451606400, '1451606520,13.5'),\n",
       " (1451606580, '1451606580,14.0'),\n",
       " (1451606520, '1451606580,14.0'),\n",
       " (1451606460, '1451606580,14.0'),\n",
       " (1451606640, '1451606640,14.0'),\n",
       " (1451606580, '1451606640,14.0'),\n",
       " (1451606520, '1451606640,14.0'),\n",
       " (1451606700, '1451606700,15.5'),\n",
       " (1451606640, '1451606700,15.5'),\n",
       " (1451606580, '1451606700,15.5'),\n",
       " (1451606760, '1451606760,15.0'),\n",
       " (1451606700, '1451606760,15.0'),\n",
       " (1451606640, '1451606760,15.0')]"
      ]
     },
     "execution_count": 12,
     "metadata": {},
     "output_type": "execute_result"
    }
   ],
   "source": [
    "windowElementsRDD.collect()"
   ]
  },
  {
   "cell_type": "markdown",
   "id": "amber-finish",
   "metadata": {},
   "source": [
    "If we wanted to count if the timestamps were complete, at this stap, assigning 1 instead of **'timestamp, temperature'** to each line, we could use **reduceByKey()** and solve the probelm."
   ]
  },
  {
   "cell_type": "code",
   "execution_count": 15,
   "id": "decent-century",
   "metadata": {},
   "outputs": [
    {
     "data": {
      "text/plain": [
       "[(1451606400, ['1451606400,12.1', '1451606460,12.2', '1451606520,13.5']),\n",
       " (1451606340, ['1451606400,12.1', '1451606460,12.2']),\n",
       " (1451606280, ['1451606400,12.1']),\n",
       " (1451606460, ['1451606460,12.2', '1451606520,13.5', '1451606580,14.0']),\n",
       " (1451606520, ['1451606520,13.5', '1451606580,14.0', '1451606640,14.0']),\n",
       " (1451606580, ['1451606580,14.0', '1451606640,14.0', '1451606700,15.5']),\n",
       " (1451606640, ['1451606640,14.0', '1451606700,15.5', '1451606760,15.0']),\n",
       " (1451606700, ['1451606700,15.5', '1451606760,15.0']),\n",
       " (1451606760, ['1451606760,15.0'])]"
      ]
     },
     "execution_count": 15,
     "metadata": {},
     "output_type": "execute_result"
    }
   ],
   "source": [
    "# Use groupByKey to generate one sequence for each time stamp\n",
    "timestampsWindowsRDD = windowElementsRDD.groupByKey()\n",
    "\n",
    "# JUST FOR DEBUG otherwise lists are not human readable\n",
    "timestampsWindowsRDD.mapValues(lambda l: list(l)).collect()"
   ]
  },
  {
   "cell_type": "code",
   "execution_count": 16,
   "id": "split-theater",
   "metadata": {},
   "outputs": [],
   "source": [
    "# I care only about the values, I discard the keys\n",
    "windowsRDD = timestampsWindowsRDD.values()"
   ]
  },
  {
   "cell_type": "code",
   "execution_count": 26,
   "id": "honest-superior",
   "metadata": {},
   "outputs": [],
   "source": [
    "import sys\n",
    "# Pay attention that some lists are not complete, we need to discard them\n",
    "\n",
    "# This function is used to select the windows that are increasing\n",
    "def increasingTrendFunc(window): # window is the 3 or less elements list\n",
    "    \n",
    "    # store the (at most) 3 elements of the window in a dictionary\n",
    "    # containing enties time stamp -> temperature\n",
    "    timestampTemp = {}\n",
    "    increasing = False\n",
    "    \n",
    "    # Compute also the info about the minimum timestamp\n",
    "    minTimestamp = sys.maxsize\n",
    "    \n",
    "    # iterates over elements inside the list\n",
    "    for timestampTemperature in window:\n",
    "        fields = timestampTemperature.split(',')\n",
    "        t = int(fields[0]) # timestamp\n",
    "        temperature = float(fields[1]) # temperature\n",
    "        \n",
    "        timestampTemp[t] = temperature # fill the dictionary\n",
    "        \n",
    "        if t < minTimestamp:\n",
    "            minTimestamp = t\n",
    "            \n",
    "    # Check if the list contains three elements\n",
    "    # If the number of elements is not equal to 3 the window is incomplete\n",
    "    if len(timestampTemp) != 3:\n",
    "        increasing = False\n",
    "    else:\n",
    "        # Check if increasing trend is satisfied\n",
    "        if timestampTemp[minTimestamp] < timestampTemp[minTimestamp+60] and\\\n",
    "            timestampTemp[minTimestamp+60] < timestampTemp[minTimestamp+120]:\n",
    "            increasing = True\n",
    "        else:\n",
    "            incresing = False\n",
    "            \n",
    "    return increasing"
   ]
  },
  {
   "cell_type": "code",
   "execution_count": 27,
   "id": "macro-agreement",
   "metadata": {},
   "outputs": [
    {
     "data": {
      "text/plain": [
       "[['1451606400,12.1', '1451606460,12.2', '1451606520,13.5'],\n",
       " ['1451606460,12.2', '1451606520,13.5', '1451606580,14.0']]"
      ]
     },
     "execution_count": 27,
     "metadata": {},
     "output_type": "execute_result"
    }
   ],
   "source": [
    "selectedWindowsRDD = windowsRDD.filter(increasingTrendFunc)\n",
    "\n",
    "# Debug\n",
    "selectedWindowsRDD.map(lambda v: list(v)).collect()"
   ]
  },
  {
   "cell_type": "code",
   "execution_count": 31,
   "id": "retired-banner",
   "metadata": {},
   "outputs": [],
   "source": [
    "# Store result. Map the iterable assocuated with each window to a list\n",
    "savefile = selectedWindowsRDD.map(lambda window: list(window))\n",
    "#savefile.saveAsText(outputPath)"
   ]
  },
  {
   "cell_type": "code",
   "execution_count": null,
   "id": "rotary-magnitude",
   "metadata": {},
   "outputs": [],
   "source": []
  }
 ],
 "metadata": {
  "kernelspec": {
   "display_name": "PySpark (Local)",
   "language": "python",
   "name": "pyspark_local"
  },
  "language_info": {
   "codemirror_mode": {
    "name": "ipython",
    "version": 3
   },
   "file_extension": ".py",
   "mimetype": "text/x-python",
   "name": "python",
   "nbconvert_exporter": "python",
   "pygments_lexer": "ipython3",
   "version": "3.7.9"
  }
 },
 "nbformat": 4,
 "nbformat_minor": 5
}
