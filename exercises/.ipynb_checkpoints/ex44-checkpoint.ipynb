{
 "cells": [
  {
   "cell_type": "code",
   "execution_count": 1,
   "id": "vital-colleague",
   "metadata": {},
   "outputs": [],
   "source": [
    "# Exercise 44 - Multiple inpur RDDs"
   ]
  },
  {
   "cell_type": "code",
   "execution_count": 13,
   "id": "pediatric-wyoming",
   "metadata": {},
   "outputs": [],
   "source": [
    "sc\n",
    "inMovies = \"/data/students/bigdata-01QYD/ex_data/Ex44/data/movies.txt\"\n",
    "inWatchedMovies = \"/data/students/bigdata-01QYD/ex_data/Ex44/data/watchedmovies.txt\"\n",
    "inPreferences = \"/data/students/bigdata-01QYD/ex_data/Ex44/data/preferences.txt\""
   ]
  },
  {
   "cell_type": "code",
   "execution_count": 26,
   "id": "fatty-navigator",
   "metadata": {},
   "outputs": [],
   "source": [
    "moviesRDD = sc.textFile(inMovies)\n",
    "watchedMoviesRDD = sc.textFile(inWatchedMovies)\n",
    "preferencesRDD = sc.textFile(inPreferences)"
   ]
  },
  {
   "cell_type": "code",
   "execution_count": 16,
   "id": "immune-subscriber",
   "metadata": {},
   "outputs": [
    {
     "data": {
      "text/plain": [
       "['movie9,Sudden Death (1995),Action', 'movie8,Tom and Huck (1995),Adventure']"
      ]
     },
     "execution_count": 16,
     "metadata": {},
     "output_type": "execute_result"
    }
   ],
   "source": [
    "moviesRDD.top(2)"
   ]
  },
  {
   "cell_type": "code",
   "execution_count": 17,
   "id": "collaborative-heading",
   "metadata": {},
   "outputs": [
    {
     "data": {
      "text/plain": [
       "['user2,movie6,201610081800,201610081845',\n",
       " 'user2,movie4,201611051100,201611051105']"
      ]
     },
     "execution_count": 17,
     "metadata": {},
     "output_type": "execute_result"
    }
   ],
   "source": [
    "watchedMoviesRDD.top(2)"
   ]
  },
  {
   "cell_type": "code",
   "execution_count": 18,
   "id": "domestic-prompt",
   "metadata": {},
   "outputs": [
    {
     "data": {
      "text/plain": [
       "['user2,Action', 'user1,Comedy']"
      ]
     },
     "execution_count": 18,
     "metadata": {},
     "output_type": "execute_result"
    }
   ],
   "source": [
    "preferencesRDD.top(2)"
   ]
  },
  {
   "cell_type": "code",
   "execution_count": 39,
   "id": "disabled-female",
   "metadata": {},
   "outputs": [
    {
     "data": {
      "text/plain": [
       "[('movie1', 'Animation'),\n",
       " ('movie2', 'Adventure'),\n",
       " ('movie3', 'Comedy'),\n",
       " ('movie4', 'Comedy'),\n",
       " ('movie5', 'Comedy'),\n",
       " ('movie6', 'Action'),\n",
       " ('movie7', 'Comedy'),\n",
       " ('movie8', 'Adventure'),\n",
       " ('movie9', 'Action'),\n",
       " ('movie10', 'Action')]"
      ]
     },
     "execution_count": 39,
     "metadata": {},
     "output_type": "execute_result"
    }
   ],
   "source": [
    "movieGenreMap = moviesRDD.map(lambda record: (record.split(',')[0],record.split(',')[2]))\n",
    "movieGenreMap.collect()"
   ]
  },
  {
   "cell_type": "code",
   "execution_count": 40,
   "id": "approved-forestry",
   "metadata": {},
   "outputs": [
    {
     "data": {
      "text/plain": [
       "[('movie1', 'user1'),\n",
       " ('movie3', 'user1'),\n",
       " ('movie4', 'user1'),\n",
       " ('movie5', 'user1'),\n",
       " ('movie6', 'user2'),\n",
       " ('movie3', 'user2'),\n",
       " ('movie4', 'user2')]"
      ]
     },
     "execution_count": 40,
     "metadata": {},
     "output_type": "execute_result"
    }
   ],
   "source": [
    "userWatchedMap = watchedMoviesRDD.map(lambda record: (record.split(',')[1],record.split(',')[0]))\n",
    "userWatchedMap.collect()"
   ]
  },
  {
   "cell_type": "code",
   "execution_count": 41,
   "id": "directed-cinema",
   "metadata": {},
   "outputs": [
    {
     "data": {
      "text/plain": [
       "[('movie5', ('user1', 'Comedy')),\n",
       " ('movie1', ('user1', 'Animation')),\n",
       " ('movie4', ('user1', 'Comedy')),\n",
       " ('movie4', ('user2', 'Comedy')),\n",
       " ('movie3', ('user1', 'Comedy')),\n",
       " ('movie3', ('user2', 'Comedy')),\n",
       " ('movie6', ('user2', 'Action'))]"
      ]
     },
     "execution_count": 41,
     "metadata": {},
     "output_type": "execute_result"
    }
   ],
   "source": [
    "userMovieGenre = userWatchedMap.join(movieGenreMap)\n",
    "userMovieGenre.collect()"
   ]
  },
  {
   "cell_type": "code",
   "execution_count": 32,
   "id": "indie-batman",
   "metadata": {},
   "outputs": [],
   "source": [
    "userGenreRDD = userMovieGenre.values()"
   ]
  },
  {
   "cell_type": "code",
   "execution_count": 33,
   "id": "supreme-boating",
   "metadata": {},
   "outputs": [
    {
     "data": {
      "text/plain": [
       "[('user1', 'Comedy'),\n",
       " ('user1', 'Animation'),\n",
       " ('user1', 'Comedy'),\n",
       " ('user2', 'Comedy'),\n",
       " ('user1', 'Comedy'),\n",
       " ('user2', 'Comedy'),\n",
       " ('user2', 'Action')]"
      ]
     },
     "execution_count": 33,
     "metadata": {},
     "output_type": "execute_result"
    }
   ],
   "source": [
    "userGenreRDD.collect()"
   ]
  },
  {
   "cell_type": "code",
   "execution_count": 34,
   "id": "cultural-topic",
   "metadata": {},
   "outputs": [
    {
     "data": {
      "text/plain": [
       "[('user1', 'Animation'), ('user1', 'Comedy'), ('user2', 'Action')]"
      ]
     },
     "execution_count": 34,
     "metadata": {},
     "output_type": "execute_result"
    }
   ],
   "source": [
    "userPref = preferencesRDD.map(lambda record: (record.split(',')[0],list(record.split(',')[1])))\n",
    "userPref.collect()"
   ]
  },
  {
   "cell_type": "code",
   "execution_count": 35,
   "id": "subjective-cannon",
   "metadata": {},
   "outputs": [
    {
     "data": {
      "text/plain": [
       "[('user2',\n",
       "  (<pyspark.resultiterable.ResultIterable at 0x7f1593d689d0>,\n",
       "   <pyspark.resultiterable.ResultIterable at 0x7f1593d65fd0>)),\n",
       " ('user1',\n",
       "  (<pyspark.resultiterable.ResultIterable at 0x7f1593d68410>,\n",
       "   <pyspark.resultiterable.ResultIterable at 0x7f1593d75710>))]"
      ]
     },
     "execution_count": 35,
     "metadata": {},
     "output_type": "execute_result"
    }
   ],
   "source": [
    "userGenrePref = userGenreRDD.cogroup(userPref)\n",
    "userGenrePref.collect()"
   ]
  },
  {
   "cell_type": "code",
   "execution_count": null,
   "id": "smooth-lewis",
   "metadata": {},
   "outputs": [],
   "source": []
  }
 ],
 "metadata": {
  "kernelspec": {
   "display_name": "PySpark (Local)",
   "language": "python",
   "name": "pyspark_local"
  },
  "language_info": {
   "codemirror_mode": {
    "name": "ipython",
    "version": 3
   },
   "file_extension": ".py",
   "mimetype": "text/x-python",
   "name": "python",
   "nbconvert_exporter": "python",
   "pygments_lexer": "ipython3",
   "version": "3.7.9"
  }
 },
 "nbformat": 4,
 "nbformat_minor": 5
}
