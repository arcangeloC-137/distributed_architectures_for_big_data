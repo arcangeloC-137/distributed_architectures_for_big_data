{
 "cells": [
  {
   "cell_type": "markdown",
   "id": "distinct-hunger",
   "metadata": {},
   "source": [
    "## Exercise 47 - SparkSQL\n",
    "\n",
    "- Input: A CSV file containing a list of user profiles\n",
    "    - Header\n",
    "    - name,age,gender\n",
    "    - Each line of the file contains the information about one user\n",
    "- Output:\n",
    "    - Select male users (gender=“male”), increase by one their age, and store in the output folder name and age of these users sorted by decreasing age and ascending name (if the age value is the same)\n",
    "    - the output does not contain the header line\n",
    "    \n",
    "- Example of input data:\n",
    "    - name,age,gender\n",
    "    - Paul,40,male\n",
    "    - John,40,male\n",
    "    - David,15,male\n",
    "    - Susan,40,female\n",
    "    - Karen,34,female\n",
    "- Example of expected output:\n",
    "    - John,41\n",
    "    - Paul,41\n",
    "    - David,16"
   ]
  },
  {
   "cell_type": "code",
   "execution_count": 4,
   "id": "saving-chaos",
   "metadata": {},
   "outputs": [],
   "source": [
    "from pyspark.sql import SparkSession\n",
    "\n",
    "# Create a Spark Session object\n",
    "spark = SparkSession.builder.getOrCreate()\n",
    "\n",
    "# Create a DataFrame from persons_age_name_gender.csv\n",
    "dfPersons = spark.read.load('./databases/persons_age_name_gender.csv',\\\n",
    "                            format='csv',\\\n",
    "                            header=True,\\\n",
    "                            inferSchema=True)"
   ]
  },
  {
   "cell_type": "code",
   "execution_count": 5,
   "id": "inappropriate-strip",
   "metadata": {},
   "outputs": [
    {
     "name": "stdout",
     "output_type": "stream",
     "text": [
      "root\n",
      " |-- Name: string (nullable = true)\n",
      " |-- Age: integer (nullable = true)\n",
      " |-- Gender: string (nullable = true)\n",
      "\n",
      "+----------+---+------+\n",
      "|      Name|Age|Gender|\n",
      "+----------+---+------+\n",
      "| Arcangelo| 23|  male|\n",
      "|  Leonardo| 24|  male|\n",
      "|Margherita| 10|female|\n",
      "|  Veronica| 21|female|\n",
      "|Alessandro| 61|  male|\n",
      "|   Giorgio| 12|  male|\n",
      "|      Paul| 40|  male|\n",
      "|      John| 40|  male|\n",
      "|     David| 15|  male|\n",
      "|     Susan| 40|female|\n",
      "|     Karen| 34|female|\n",
      "+----------+---+------+\n",
      "\n"
     ]
    }
   ],
   "source": [
    "dfPersons.printSchema()\n",
    "dfPersons.show()"
   ]
  },
  {
   "cell_type": "markdown",
   "id": "republican-intention",
   "metadata": {},
   "source": [
    "## **Solution 1 - SQL syntax**"
   ]
  },
  {
   "cell_type": "code",
   "execution_count": 7,
   "id": "funded-triumph",
   "metadata": {},
   "outputs": [],
   "source": [
    "# I replace DF name with a easier one\n",
    "dfPersons.createOrReplaceTempView('persons') "
   ]
  },
  {
   "cell_type": "code",
   "execution_count": 8,
   "id": "valued-native",
   "metadata": {},
   "outputs": [],
   "source": [
    "dfUpdateAgeSorted = spark.sql(\\\n",
    "                             \"\"\"SELECT name, age+1 as newage\n",
    "                             FROM persons\n",
    "                             WHERE gender='male'\n",
    "                             ORDER BY age desc, name\"\"\")"
   ]
  },
  {
   "cell_type": "code",
   "execution_count": 10,
   "id": "modular-bones",
   "metadata": {},
   "outputs": [
    {
     "name": "stdout",
     "output_type": "stream",
     "text": [
      "root\n",
      " |-- name: string (nullable = true)\n",
      " |-- newage: integer (nullable = true)\n",
      "\n",
      "+----------+------+\n",
      "|      name|newage|\n",
      "+----------+------+\n",
      "|Alessandro|    62|\n",
      "|      John|    41|\n",
      "|      Paul|    41|\n",
      "|  Leonardo|    25|\n",
      "| Arcangelo|    24|\n",
      "|     David|    16|\n",
      "|   Giorgio|    13|\n",
      "+----------+------+\n",
      "\n"
     ]
    }
   ],
   "source": [
    "dfUpdateAgeSorted.printSchema()\n",
    "dfUpdateAgeSorted.show()"
   ]
  },
  {
   "cell_type": "code",
   "execution_count": 11,
   "id": "aerial-western",
   "metadata": {},
   "outputs": [
    {
     "name": "stdout",
     "output_type": "stream",
     "text": [
      "== Physical Plan ==\n",
      "*(2) Project [name#39, newage#58]\n",
      "+- *(2) Sort [age#40 DESC NULLS LAST, name#39 ASC NULLS FIRST], true, 0\n",
      "   +- Exchange rangepartitioning(age#40 DESC NULLS LAST, name#39 ASC NULLS FIRST, 200)\n",
      "      +- *(1) Project [name#39, (age#40 + 1) AS newage#58, age#40]\n",
      "         +- *(1) Filter (isnotnull(gender#41) && (gender#41 = male))\n",
      "            +- *(1) FileScan csv [Name#39,Age#40,Gender#41] Batched: false, Format: CSV, Location: InMemoryFileIndex[hdfs://BigDataHA/user/s295406/databases/persons_age_name_gender.csv], PartitionFilters: [], PushedFilters: [IsNotNull(Gender), EqualTo(Gender,male)], ReadSchema: struct<Name:string,Age:int,Gender:string>\n"
     ]
    }
   ],
   "source": [
    "dfUpdateAgeSorted.explain()"
   ]
  },
  {
   "cell_type": "markdown",
   "id": "recognized-mortality",
   "metadata": {},
   "source": [
    "## **Solution 2 - SparkSQL API**"
   ]
  },
  {
   "cell_type": "code",
   "execution_count": 12,
   "id": "oriented-principle",
   "metadata": {},
   "outputs": [
    {
     "name": "stdout",
     "output_type": "stream",
     "text": [
      "root\n",
      " |-- Name: string (nullable = true)\n",
      " |-- Age: integer (nullable = true)\n",
      " |-- Gender: string (nullable = true)\n",
      "\n",
      "+----------+---+------+\n",
      "|      Name|Age|Gender|\n",
      "+----------+---+------+\n",
      "| Arcangelo| 23|  male|\n",
      "|  Leonardo| 24|  male|\n",
      "|Alessandro| 61|  male|\n",
      "|   Giorgio| 12|  male|\n",
      "|      Paul| 40|  male|\n",
      "|      John| 40|  male|\n",
      "|     David| 15|  male|\n",
      "+----------+---+------+\n",
      "\n"
     ]
    }
   ],
   "source": [
    "dfMales = dfPersons.filter(\"\"\"gender='male'\"\"\")\n",
    "dfMales.printSchema()\n",
    "dfMales.show()"
   ]
  },
  {
   "cell_type": "code",
   "execution_count": 13,
   "id": "musical-russell",
   "metadata": {},
   "outputs": [
    {
     "name": "stdout",
     "output_type": "stream",
     "text": [
      "root\n",
      " |-- name: string (nullable = true)\n",
      " |-- newage: integer (nullable = true)\n",
      "\n",
      "+----------+------+\n",
      "|      name|newage|\n",
      "+----------+------+\n",
      "| Arcangelo|    24|\n",
      "|  Leonardo|    25|\n",
      "|Alessandro|    62|\n",
      "|   Giorgio|    13|\n",
      "|      Paul|    41|\n",
      "|      John|    41|\n",
      "|     David|    16|\n",
      "+----------+------+\n",
      "\n"
     ]
    }
   ],
   "source": [
    "dfUpdatedAge = dfMales.selectExpr('name', 'age+1 as newage')\n",
    "dfUpdatedAge.printSchema()\n",
    "dfUpdatedAge.show()"
   ]
  },
  {
   "cell_type": "code",
   "execution_count": 15,
   "id": "portable-strand",
   "metadata": {},
   "outputs": [
    {
     "name": "stdout",
     "output_type": "stream",
     "text": [
      "root\n",
      " |-- name: string (nullable = true)\n",
      " |-- newage: integer (nullable = true)\n",
      "\n",
      "+----------+------+\n",
      "|      name|newage|\n",
      "+----------+------+\n",
      "|Alessandro|    62|\n",
      "|      John|    41|\n",
      "|      Paul|    41|\n",
      "|  Leonardo|    25|\n",
      "| Arcangelo|    24|\n",
      "|     David|    16|\n",
      "|   Giorgio|    13|\n",
      "+----------+------+\n",
      "\n"
     ]
    }
   ],
   "source": [
    "dfUpdatedAgeSorted = dfUpdatedAge.sort(dfUpdatedAge.newage.desc(), dfUpdatedAge.name)\n",
    "dfUpdatedAgeSorted.printSchema()\n",
    "dfUpdatedAgeSorted.show()"
   ]
  },
  {
   "cell_type": "code",
   "execution_count": null,
   "id": "athletic-curve",
   "metadata": {},
   "outputs": [],
   "source": []
  }
 ],
 "metadata": {
  "kernelspec": {
   "display_name": "PySpark (Local)",
   "language": "python",
   "name": "pyspark_local"
  },
  "language_info": {
   "codemirror_mode": {
    "name": "ipython",
    "version": 3
   },
   "file_extension": ".py",
   "mimetype": "text/x-python",
   "name": "python",
   "nbconvert_exporter": "python",
   "pygments_lexer": "ipython3",
   "version": "3.7.9"
  }
 },
 "nbformat": 4,
 "nbformat_minor": 5
}
