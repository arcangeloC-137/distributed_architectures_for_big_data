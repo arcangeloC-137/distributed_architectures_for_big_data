{
 "cells": [
  {
   "cell_type": "markdown",
   "id": "prompt-dairy",
   "metadata": {},
   "source": [
    "## Exercise 49 - SparkSQL\n",
    "- Input:\n",
    "    - A csv file containing a list of profiles\n",
    "    - Header: name,surname,age\n",
    "    - Each line of the file contains one profile\n",
    "    - name,surname,age\n",
    "- Output:\n",
    "    - A csv file containing one line for each profile. The original age attribute is substituted with a new attributed called rangeage of type String.\n",
    "    - rangeage = \"[\" + (age/10)x10 + \"-\" + (age/10)x10 +9\"]\"\n",
    "\n",
    "\n",
    "- Input:\n",
    "    - name,surname,age\n",
    "    - Paolo,Garza,42\n",
    "    - Luca,Boccia,41\n",
    "    - Maura,Bianchi,16\n",
    "- Expected output:\n",
    "    - name,surname,rangeage\n",
    "    - Paolo,Garza,[40-49]\n",
    "    - Luca,Boccia,[40-49]\n",
    "    - Maura,Bianchi,[10-19]"
   ]
  },
  {
   "cell_type": "code",
   "execution_count": 1,
   "id": "cellular-newman",
   "metadata": {},
   "outputs": [],
   "source": [
    "from pyspark.sql import SparkSession\n",
    "\n",
    "# Create a spark session\n",
    "spark = SparkSession.builder.getOrCreate()\n",
    "\n",
    "# Create a DataFrame from persons_age_name_gender.csv\n",
    "dfPersons = spark.read.load('/data/students/bigdata-01QYD/ex_data/Ex49/data/',\\\n",
    "                            format='csv',\\\n",
    "                            header=True,\\\n",
    "                            inferSchema=True)"
   ]
  },
  {
   "cell_type": "code",
   "execution_count": 2,
   "id": "alone-idaho",
   "metadata": {},
   "outputs": [
    {
     "name": "stdout",
     "output_type": "stream",
     "text": [
      "root\n",
      " |-- name: string (nullable = true)\n",
      " |-- surname: string (nullable = true)\n",
      " |-- age: integer (nullable = true)\n",
      "\n",
      "+-----+-------+---+\n",
      "| name|surname|age|\n",
      "+-----+-------+---+\n",
      "|Paolo|  Garza| 42|\n",
      "| Luca| Boccia| 41|\n",
      "|Maura|Bianchi| 16|\n",
      "+-----+-------+---+\n",
      "\n"
     ]
    }
   ],
   "source": [
    "dfPersons.printSchema()\n",
    "dfPersons.show()"
   ]
  },
  {
   "cell_type": "code",
   "execution_count": 3,
   "id": "medical-there",
   "metadata": {},
   "outputs": [
    {
     "data": {
      "text/plain": [
       "<function __main__.<lambda>(age)>"
      ]
     },
     "execution_count": 3,
     "metadata": {},
     "output_type": "execute_result"
    }
   ],
   "source": [
    "# Define a user defined function called AgeCategory(age)\n",
    "# that returns a string associated with the Category of the user.\n",
    "# AgeCategory = ...\n",
    "\n",
    "spark.udf.register(\"AgeCategory\",\\\n",
    "                  lambda age: \"[\"+str((age//10)*10)+\"-\"+str((age//10)*10+9)+\"]\")"
   ]
  },
  {
   "cell_type": "code",
   "execution_count": 8,
   "id": "municipal-sister",
   "metadata": {},
   "outputs": [],
   "source": [
    "# Define a DF \n",
    "profileDiscrizedAge = dfPersons.selectExpr(\"name\", \"surname\", \"AgeCategory(age) as rangeage\")\n",
    "\n",
    "#or in SQL\n",
    "\n",
    "# I replace DF name with a easier one\n",
    "dfPersons.createOrReplaceTempView('profiles') \n",
    "\n",
    "profileDiscrizedAgeSQL = spark.sql(\"\"\"SELECT name, surname,\n",
    "                                      AgeCategory(age) as rangeage\n",
    "                                      FROM profiles\"\"\")"
   ]
  },
  {
   "cell_type": "code",
   "execution_count": 5,
   "id": "together-anaheim",
   "metadata": {},
   "outputs": [
    {
     "name": "stdout",
     "output_type": "stream",
     "text": [
      "root\n",
      " |-- name: string (nullable = true)\n",
      " |-- surname: string (nullable = true)\n",
      " |-- rangeage: string (nullable = true)\n",
      "\n",
      "+-----+-------+--------+\n",
      "| name|surname|rangeage|\n",
      "+-----+-------+--------+\n",
      "|Paolo|  Garza| [40-49]|\n",
      "| Luca| Boccia| [40-49]|\n",
      "|Maura|Bianchi| [10-19]|\n",
      "+-----+-------+--------+\n",
      "\n"
     ]
    }
   ],
   "source": [
    "profileDiscrizedAge.printSchema()\n",
    "profileDiscrizedAge.show()"
   ]
  },
  {
   "cell_type": "code",
   "execution_count": 9,
   "id": "piano-edinburgh",
   "metadata": {},
   "outputs": [
    {
     "name": "stdout",
     "output_type": "stream",
     "text": [
      "root\n",
      " |-- name: string (nullable = true)\n",
      " |-- surname: string (nullable = true)\n",
      " |-- rangeage: string (nullable = true)\n",
      "\n",
      "+-----+-------+--------+\n",
      "| name|surname|rangeage|\n",
      "+-----+-------+--------+\n",
      "|Paolo|  Garza| [40-49]|\n",
      "| Luca| Boccia| [40-49]|\n",
      "|Maura|Bianchi| [10-19]|\n",
      "+-----+-------+--------+\n",
      "\n"
     ]
    }
   ],
   "source": [
    "profileDiscrizedAgeSQL.printSchema()\n",
    "profileDiscrizedAgeSQL.show()"
   ]
  },
  {
   "cell_type": "code",
   "execution_count": null,
   "id": "material-trace",
   "metadata": {},
   "outputs": [],
   "source": [
    "profileDiscrizedAgeSQL.write.csv(outputFolder, header=True)"
   ]
  }
 ],
 "metadata": {
  "kernelspec": {
   "display_name": "PySpark (Local)",
   "language": "python",
   "name": "pyspark_local"
  },
  "language_info": {
   "codemirror_mode": {
    "name": "ipython",
    "version": 3
   },
   "file_extension": ".py",
   "mimetype": "text/x-python",
   "name": "python",
   "nbconvert_exporter": "python",
   "pygments_lexer": "ipython3",
   "version": "3.7.9"
  }
 },
 "nbformat": 4,
 "nbformat_minor": 5
}
