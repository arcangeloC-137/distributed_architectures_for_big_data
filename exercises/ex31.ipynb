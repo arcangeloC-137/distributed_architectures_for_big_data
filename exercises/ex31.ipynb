{
 "cells": [
  {
   "cell_type": "code",
   "execution_count": 1,
   "id": "square-substance",
   "metadata": {},
   "outputs": [],
   "source": [
    "# Solution Ex. 31"
   ]
  },
  {
   "cell_type": "code",
   "execution_count": 2,
   "id": "purple-flashing",
   "metadata": {},
   "outputs": [
    {
     "data": {
      "text/html": [
       "\n",
       "        <div>\n",
       "            <p><b>SparkContext</b></p>\n",
       "\n",
       "            <p><a href=\"http://10.42.11.236:4042\">Spark UI</a></p>\n",
       "\n",
       "            <dl>\n",
       "              <dt>Version</dt>\n",
       "                <dd><code>v2.4.0-cdh6.2.1</code></dd>\n",
       "              <dt>Master</dt>\n",
       "                <dd><code>local[*]</code></dd>\n",
       "              <dt>AppName</dt>\n",
       "                <dd><code>pyspark-shell</code></dd>\n",
       "            </dl>\n",
       "        </div>\n",
       "        "
      ],
      "text/plain": [
       "<SparkContext master=local[*] appName=pyspark-shell>"
      ]
     },
     "execution_count": 2,
     "metadata": {},
     "output_type": "execute_result"
    }
   ],
   "source": [
    "sc"
   ]
  },
  {
   "cell_type": "code",
   "execution_count": 3,
   "id": "extended-large",
   "metadata": {},
   "outputs": [],
   "source": [
    "inputPath = \"/data/students/bigdata-01QYD/ex_data/Ex31/data/\"\n",
    "outputPath = \"res_out_Ex31/\""
   ]
  },
  {
   "cell_type": "code",
   "execution_count": 4,
   "id": "instrumental-stranger",
   "metadata": {},
   "outputs": [],
   "source": [
    "# Read the content of the input file\n",
    "# Each element or string of the logRDD corresponds to one line of log the input file\n",
    "logRDD = sc.textFile(inputPath)"
   ]
  },
  {
   "cell_type": "code",
   "execution_count": 5,
   "id": "organizational-tradition",
   "metadata": {},
   "outputs": [],
   "source": [
    "# Only elements of the logRDD corresponds satisfying the filter are selected \n",
    "googleRDD = logRDD.filter(lambda logline: logline.lower().find(\"google\")>=0)"
   ]
  },
  {
   "cell_type": "code",
   "execution_count": 6,
   "id": "opened-royal",
   "metadata": {},
   "outputs": [
    {
     "data": {
      "text/plain": [
       "['66.249.69.97 - - [24/Sep/2014:22:25:44 +0000] \"GET http://www.google.com/bot.html”',\n",
       " '66.249.69.97 - - [24/Sep/2014:22:26:44 +0000] \"GET http://www.google.com/how.html”',\n",
       " '71.19.157.179 - - [24/Sep/2014:22:30:12 +0000] \"GET http://www.google.com/faq.html”',\n",
       " '56.249.69.97 - - [24/Sep/2014:56:26:44 +0000] \"GET http://www.google.com/how.html”']"
      ]
     },
     "execution_count": 6,
     "metadata": {},
     "output_type": "execute_result"
    }
   ],
   "source": [
    "googleRDD.collect()"
   ]
  },
  {
   "cell_type": "code",
   "execution_count": 7,
   "id": "aging-induction",
   "metadata": {},
   "outputs": [],
   "source": [
    "IPsRDD = googleRDD.map(lambda logline: logline.split('-')[0])"
   ]
  },
  {
   "cell_type": "code",
   "execution_count": 8,
   "id": "romantic-fusion",
   "metadata": {},
   "outputs": [
    {
     "data": {
      "text/plain": [
       "['66.249.69.97 ', '66.249.69.97 ', '71.19.157.179 ', '56.249.69.97 ']"
      ]
     },
     "execution_count": 8,
     "metadata": {},
     "output_type": "execute_result"
    }
   ],
   "source": [
    "IPsRDD.collect()"
   ]
  },
  {
   "cell_type": "code",
   "execution_count": 9,
   "id": "first-owner",
   "metadata": {},
   "outputs": [],
   "source": [
    "DistinctIPs = IPsRDD.distinct()"
   ]
  },
  {
   "cell_type": "code",
   "execution_count": 10,
   "id": "challenging-shooting",
   "metadata": {},
   "outputs": [
    {
     "name": "stdout",
     "output_type": "stream",
     "text": [
      "Num. selected lines: 4\n"
     ]
    }
   ],
   "source": [
    "# Store the result in the output folder \n",
    "DistinctIPs.saveAsTextFile(outputPath)\n",
    "\n",
    "print('Num. selected lines: '+str(googleRDD.count()))\n",
    "\n",
    "sc.stop()"
   ]
  },
  {
   "cell_type": "code",
   "execution_count": null,
   "id": "difficult-setting",
   "metadata": {},
   "outputs": [],
   "source": []
  },
  {
   "cell_type": "code",
   "execution_count": null,
   "id": "liable-office",
   "metadata": {},
   "outputs": [],
   "source": []
  }
 ],
 "metadata": {
  "kernelspec": {
   "display_name": "PySpark (Local)",
   "language": "python",
   "name": "pyspark_local"
  },
  "language_info": {
   "codemirror_mode": {
    "name": "ipython",
    "version": 3
   },
   "file_extension": ".py",
   "mimetype": "text/x-python",
   "name": "python",
   "nbconvert_exporter": "python",
   "pygments_lexer": "ipython3",
   "version": "3.7.9"
  }
 },
 "nbformat": 4,
 "nbformat_minor": 5
}
