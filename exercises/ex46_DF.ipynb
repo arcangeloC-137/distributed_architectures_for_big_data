{
 "cells": [
  {
   "cell_type": "markdown",
   "id": "cellular-trout",
   "metadata": {},
   "source": [
    "### **Exercise 46**\n",
    "Consider all the windows containing 3 consecutive temperature readings. Select windows characterized by increasing trend. A window is characterized by an increasing trend if for all the temperature readings in it:\n",
    "\n",
    "**temperature(t) > temperature (t - 60s)**"
   ]
  },
  {
   "cell_type": "code",
   "execution_count": 4,
   "id": "favorite-wealth",
   "metadata": {},
   "outputs": [],
   "source": [
    "inWindows = \"/data/students/bigdata-01QYD/ex_data/Ex46/data/\"\n",
    "\n",
    "# Read the content of the DataFrame\n",
    "from pyspark.sql import SparkSession\n",
    "\n",
    "spark = SparkSession.builder.getOrCreate()\n",
    "\n",
    "readingsDF = spark.read.load(inWindows,\\\n",
    "                            format='csv',\\\n",
    "                            header=False,\\\n",
    "                            inferSchema=True)\\\n",
    ".withColumnRenamed('_c0','timestamp')\\\n",
    ".withColumnRenamed('_c1','temperature')"
   ]
  },
  {
   "cell_type": "code",
   "execution_count": 5,
   "id": "extreme-month",
   "metadata": {},
   "outputs": [
    {
     "name": "stdout",
     "output_type": "stream",
     "text": [
      "root\n",
      " |-- timestamp: integer (nullable = true)\n",
      " |-- temperature: double (nullable = true)\n",
      "\n",
      "+----------+-----------+\n",
      "| timestamp|temperature|\n",
      "+----------+-----------+\n",
      "|1451606400|       12.1|\n",
      "|1451606460|       12.2|\n",
      "|1451606520|       13.5|\n",
      "|1451606580|       14.0|\n",
      "|1451606640|       14.0|\n",
      "|1451606700|       15.5|\n",
      "|1451606760|       15.0|\n",
      "+----------+-----------+\n",
      "\n"
     ]
    }
   ],
   "source": [
    "readingsDF.printSchema()\n",
    "readingsDF.show()"
   ]
  },
  {
   "cell_type": "code",
   "execution_count": 6,
   "id": "actual-football",
   "metadata": {},
   "outputs": [
    {
     "data": {
      "text/plain": [
       "[Row(timestamp=1451606400, temperature=12.1),\n",
       " Row(timestamp=1451606460, temperature=12.2),\n",
       " Row(timestamp=1451606520, temperature=13.5),\n",
       " Row(timestamp=1451606580, temperature=14.0),\n",
       " Row(timestamp=1451606640, temperature=14.0),\n",
       " Row(timestamp=1451606700, temperature=15.5),\n",
       " Row(timestamp=1451606760, temperature=15.0)]"
      ]
     },
     "execution_count": 6,
     "metadata": {},
     "output_type": "execute_result"
    }
   ],
   "source": [
    "# Transform DF in RDD\n",
    "readingsRDD = readingsDF.rdd\n",
    "readingsDF.collect()"
   ]
  },
  {
   "cell_type": "code",
   "execution_count": 7,
   "id": "separated-bride",
   "metadata": {},
   "outputs": [],
   "source": [
    "# Generate the elements of each window\n",
    "# Each reading with start time t belongs to 3 windows\n",
    "# - the one starting at time t-120s\n",
    "# - the one starting at time t-60s\n",
    "# - the one starting at time ts\n",
    "\n",
    "def windowElementsFunc(reading):\n",
    "    # time stamp of this reading\n",
    "    t = reading['timestamp']\n",
    "    # temperature\n",
    "    temperature = reading['temperature']\n",
    "    \n",
    "    # the current reading, associated with time stamp t,\n",
    "    # is part of the windows starting at time t, t-60, t-120\n",
    "    \n",
    "    # pairs is a list containng three pairs\n",
    "    # the three windows containing this reading\n",
    "    pairs = []\n",
    "    \n",
    "    # Window starting a time t\n",
    "    pairs.append((t, reading))\n",
    "    \n",
    "    # Window starting a time t\n",
    "    pairs.append((t-60, reading))\n",
    "    \n",
    "    # Window starting a time t\n",
    "    pairs.append((t-120, reading))\n",
    "    \n",
    "    return pairs"
   ]
  },
  {
   "cell_type": "code",
   "execution_count": 8,
   "id": "spatial-source",
   "metadata": {},
   "outputs": [],
   "source": [
    "windowsElementsRDD = readingsRDD\\\n",
    ".flatMap(windowElementsFunc)"
   ]
  },
  {
   "cell_type": "code",
   "execution_count": 9,
   "id": "basic-consumer",
   "metadata": {},
   "outputs": [
    {
     "data": {
      "text/plain": [
       "[(1451606400, Row(timestamp=1451606400, temperature=12.1)),\n",
       " (1451606340, Row(timestamp=1451606400, temperature=12.1)),\n",
       " (1451606280, Row(timestamp=1451606400, temperature=12.1)),\n",
       " (1451606460, Row(timestamp=1451606460, temperature=12.2)),\n",
       " (1451606400, Row(timestamp=1451606460, temperature=12.2)),\n",
       " (1451606340, Row(timestamp=1451606460, temperature=12.2)),\n",
       " (1451606520, Row(timestamp=1451606520, temperature=13.5)),\n",
       " (1451606460, Row(timestamp=1451606520, temperature=13.5)),\n",
       " (1451606400, Row(timestamp=1451606520, temperature=13.5)),\n",
       " (1451606580, Row(timestamp=1451606580, temperature=14.0)),\n",
       " (1451606520, Row(timestamp=1451606580, temperature=14.0)),\n",
       " (1451606460, Row(timestamp=1451606580, temperature=14.0)),\n",
       " (1451606640, Row(timestamp=1451606640, temperature=14.0)),\n",
       " (1451606580, Row(timestamp=1451606640, temperature=14.0)),\n",
       " (1451606520, Row(timestamp=1451606640, temperature=14.0)),\n",
       " (1451606700, Row(timestamp=1451606700, temperature=15.5)),\n",
       " (1451606640, Row(timestamp=1451606700, temperature=15.5)),\n",
       " (1451606580, Row(timestamp=1451606700, temperature=15.5)),\n",
       " (1451606760, Row(timestamp=1451606760, temperature=15.0)),\n",
       " (1451606700, Row(timestamp=1451606760, temperature=15.0)),\n",
       " (1451606640, Row(timestamp=1451606760, temperature=15.0))]"
      ]
     },
     "execution_count": 9,
     "metadata": {},
     "output_type": "execute_result"
    }
   ],
   "source": [
    "windowsElementsRDD.collect()"
   ]
  },
  {
   "cell_type": "code",
   "execution_count": 12,
   "id": "variable-granny",
   "metadata": {},
   "outputs": [
    {
     "data": {
      "text/plain": [
       "[(1451606400,\n",
       "  [Row(timestamp=1451606400, temperature=12.1),\n",
       "   Row(timestamp=1451606460, temperature=12.2),\n",
       "   Row(timestamp=1451606520, temperature=13.5)]),\n",
       " (1451606340,\n",
       "  [Row(timestamp=1451606400, temperature=12.1),\n",
       "   Row(timestamp=1451606460, temperature=12.2)]),\n",
       " (1451606280, [Row(timestamp=1451606400, temperature=12.1)]),\n",
       " (1451606460,\n",
       "  [Row(timestamp=1451606460, temperature=12.2),\n",
       "   Row(timestamp=1451606520, temperature=13.5),\n",
       "   Row(timestamp=1451606580, temperature=14.0)]),\n",
       " (1451606520,\n",
       "  [Row(timestamp=1451606520, temperature=13.5),\n",
       "   Row(timestamp=1451606580, temperature=14.0),\n",
       "   Row(timestamp=1451606640, temperature=14.0)]),\n",
       " (1451606580,\n",
       "  [Row(timestamp=1451606580, temperature=14.0),\n",
       "   Row(timestamp=1451606640, temperature=14.0),\n",
       "   Row(timestamp=1451606700, temperature=15.5)]),\n",
       " (1451606640,\n",
       "  [Row(timestamp=1451606640, temperature=14.0),\n",
       "   Row(timestamp=1451606700, temperature=15.5),\n",
       "   Row(timestamp=1451606760, temperature=15.0)]),\n",
       " (1451606700,\n",
       "  [Row(timestamp=1451606700, temperature=15.5),\n",
       "   Row(timestamp=1451606760, temperature=15.0)]),\n",
       " (1451606760, [Row(timestamp=1451606760, temperature=15.0)])]"
      ]
     },
     "execution_count": 12,
     "metadata": {},
     "output_type": "execute_result"
    }
   ],
   "source": [
    "timestampsWindowsRDD = windowsElementsRDD.groupByKey()\n",
    "\n",
    "timestampsWindowsRDD\\\n",
    ".mapValues(lambda v: (list(v))).collect()"
   ]
  },
  {
   "cell_type": "code",
   "execution_count": 13,
   "id": "developmental-canberra",
   "metadata": {},
   "outputs": [],
   "source": [
    "windowsRDD = timestampsWindowsRDD.values()"
   ]
  },
  {
   "cell_type": "code",
   "execution_count": 14,
   "id": "finnish-stephen",
   "metadata": {},
   "outputs": [],
   "source": [
    "import sys\n",
    "# Pay attention that some lists are not complete, we need to discard them\n",
    "\n",
    "# This function is used to select the windows that are increasing\n",
    "def increasingTrendFunc(window): # window is the 3 or less elements list\n",
    "    \n",
    "    # store the (at most) 3 elements of the window in a dictionary\n",
    "    # containing enties time stamp -> temperature\n",
    "    timestampTemp = {}\n",
    "    increasing = False\n",
    "    \n",
    "    # Compute also the info about the minimum timestamp\n",
    "    minTimestamp = sys.maxsize\n",
    "    \n",
    "    # iterates over elements inside the list\n",
    "    for timestampTemperature in window:\n",
    "        t = timestampTemperature['timestamp'] # timestamp\n",
    "        temperature = timestampTemperature['temperature'] # temperature\n",
    "        \n",
    "        timestampTemp[t] = temperature # fill the dictionary\n",
    "        \n",
    "        if t < minTimestamp:\n",
    "            minTimestamp = t\n",
    "            \n",
    "    # Check if the list contains three elements\n",
    "    # If the number of elements is not equal to 3 the window is incomplete\n",
    "    if len(timestampTemp) != 3:\n",
    "        increasing = False\n",
    "    else:\n",
    "        # Check if increasing trend is satisfied\n",
    "        if timestampTemp[minTimestamp] < timestampTemp[minTimestamp+60] and\\\n",
    "            timestampTemp[minTimestamp+60] < timestampTemp[minTimestamp+120]:\n",
    "            increasing = True\n",
    "        else:\n",
    "            incresing = False\n",
    "            \n",
    "    return increasing"
   ]
  },
  {
   "cell_type": "code",
   "execution_count": 15,
   "id": "rational-ordinance",
   "metadata": {},
   "outputs": [],
   "source": [
    "selectedWindowRDD = windowsRDD.filter(increasingTrendFunc)"
   ]
  },
  {
   "cell_type": "code",
   "execution_count": 17,
   "id": "dominican-province",
   "metadata": {},
   "outputs": [
    {
     "data": {
      "text/plain": [
       "[[Row(timestamp=1451606400, temperature=12.1),\n",
       "  Row(timestamp=1451606460, temperature=12.2),\n",
       "  Row(timestamp=1451606520, temperature=13.5)],\n",
       " [Row(timestamp=1451606460, temperature=12.2),\n",
       "  Row(timestamp=1451606520, temperature=13.5),\n",
       "  Row(timestamp=1451606580, temperature=14.0)]]"
      ]
     },
     "execution_count": 17,
     "metadata": {},
     "output_type": "execute_result"
    }
   ],
   "source": [
    "selectedWindowRDD\\\n",
    ".map(lambda v: (list(v))).collect()"
   ]
  },
  {
   "cell_type": "code",
   "execution_count": null,
   "id": "relative-permission",
   "metadata": {},
   "outputs": [],
   "source": []
  }
 ],
 "metadata": {
  "kernelspec": {
   "display_name": "PySpark (Local)",
   "language": "python",
   "name": "pyspark_local"
  },
  "language_info": {
   "codemirror_mode": {
    "name": "ipython",
    "version": 3
   },
   "file_extension": ".py",
   "mimetype": "text/x-python",
   "name": "python",
   "nbconvert_exporter": "python",
   "pygments_lexer": "ipython3",
   "version": "3.7.9"
  }
 },
 "nbformat": 4,
 "nbformat_minor": 5
}
