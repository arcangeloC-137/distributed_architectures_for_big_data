{
 "cells": [
  {
   "cell_type": "markdown",
   "id": "assumed-prior",
   "metadata": {},
   "source": [
    "# **Exercise 56 - GraphFrames**\n",
    "\n",
    "\n",
    "Input:\n",
    "\n",
    "- The textual file vertexes.csv\n",
    "    - It contains the vertexes of a graph\n",
    "\n",
    "\n",
    "- Each vertex is characterized by\n",
    "    - id (string): vertex identifier\n",
    "    - entityType (string): “user” or “topic”\n",
    "    - name (string): name of the entity\n",
    "\n",
    "\n",
    "- The textual file edges.csv\n",
    "    - It contains the edges of a graph\n",
    "\n",
    "\n",
    "- Each edge is characterized by\n",
    "    - src (string): source vertex\n",
    "    - dst (string): destination vertex\n",
    "    - linktype (string): “expertOf” or “follow” or “correlated”\n",
    "\n",
    "\n",
    "Output:\n",
    "\n",
    "- The names of the users who follow a topic correlated to the “Big Data” topic\n",
    "\n",
    "- One user name per line\n",
    "\n",
    "- Format: username\n",
    "\n",
    "- Use the CSV format to store the result"
   ]
  },
  {
   "cell_type": "code",
   "execution_count": 2,
   "id": "heard-greeting",
   "metadata": {},
   "outputs": [],
   "source": [
    "from graphframes import GraphFrame\n",
    "\n",
    "inputPathVertexes = \"/data/students/bigdata-01QYD/ex_data/Ex56/data/vertexes.csv\"\n",
    "inputPathEdges = \"/data/students/bigdata-01QYD/ex_data/Ex56/data/edges.csv\"\n",
    "outputPath = \"resOut_ex56/\""
   ]
  },
  {
   "cell_type": "code",
   "execution_count": 3,
   "id": "brown-belgium",
   "metadata": {},
   "outputs": [
    {
     "name": "stdout",
     "output_type": "stream",
     "text": [
      "root\n",
      " |-- id: string (nullable = true)\n",
      " |-- entityName: string (nullable = true)\n",
      " |-- name: string (nullable = true)\n",
      "\n",
      "+---+----------+--------+\n",
      "| id|entityName|    name|\n",
      "+---+----------+--------+\n",
      "| V1|      user|   Paolo|\n",
      "| V2|     topic|     SQL|\n",
      "| V3|      user|   David|\n",
      "| V4|     topic|Big Data|\n",
      "| V5|      user|    John|\n",
      "+---+----------+--------+\n",
      "\n"
     ]
    }
   ],
   "source": [
    "# Read the content of vertexes.csv\n",
    "vDF = spark.read.load(inputPathVertexes,\\\n",
    "                             format=\"csv\",\n",
    "                             header=True,\\\n",
    "                             inferSchema=True)\n",
    "\n",
    "vDF.printSchema()\n",
    "vDF.show()"
   ]
  },
  {
   "cell_type": "code",
   "execution_count": 4,
   "id": "bottom-satellite",
   "metadata": {},
   "outputs": [
    {
     "name": "stdout",
     "output_type": "stream",
     "text": [
      "root\n",
      " |-- src: string (nullable = true)\n",
      " |-- dst: string (nullable = true)\n",
      " |-- linktype: string (nullable = true)\n",
      "\n",
      "+---+---+----------+\n",
      "|src|dst|  linktype|\n",
      "+---+---+----------+\n",
      "| V1| V2|      like|\n",
      "| V1| V3|    follow|\n",
      "| V1| V4|    follow|\n",
      "| V3| V2|    follow|\n",
      "| V3| V4|    follow|\n",
      "| V5| V2|  expertOf|\n",
      "| V2| V4|correlated|\n",
      "| V4| V2|correlated|\n",
      "+---+---+----------+\n",
      "\n"
     ]
    }
   ],
   "source": [
    "# Read the content of edges.csv\n",
    "eDF = spark.read.load(inputPathEdges,\\\n",
    "                             format=\"csv\",\n",
    "                             header=True,\\\n",
    "                             inferSchema=True)\n",
    "\n",
    "eDF.printSchema()\n",
    "eDF.show()"
   ]
  },
  {
   "cell_type": "code",
   "execution_count": 7,
   "id": "lightweight-style",
   "metadata": {},
   "outputs": [
    {
     "name": "stdout",
     "output_type": "stream",
     "text": [
      "+---+---+----------+\n",
      "|src|dst|  linktype|\n",
      "+---+---+----------+\n",
      "| V1| V3|    follow|\n",
      "| V1| V4|    follow|\n",
      "| V3| V2|    follow|\n",
      "| V3| V4|    follow|\n",
      "| V2| V4|correlated|\n",
      "| V4| V2|correlated|\n",
      "+---+---+----------+\n",
      "\n"
     ]
    }
   ],
   "source": [
    "# We look for:\n",
    "# - user -> follow -> topic\n",
    "\n",
    "filteredEdges = eDF.filter(\"linktype = 'follow' OR linktype = 'correlated'\")\n",
    "filteredEdges.show()"
   ]
  },
  {
   "cell_type": "code",
   "execution_count": 19,
   "id": "satisfied-distribution",
   "metadata": {},
   "outputs": [],
   "source": [
    "# We look for:\n",
    "# - user -> follow -> topic -> correlated -> topic\n",
    "\n",
    "# Create the input graph\n",
    "g = GraphFrame(vDF, filteredEdges)\n",
    "paths = g.find(\"(v1)-[e1]->(v2);(v2)-[e2]->(v3)\")"
   ]
  },
  {
   "cell_type": "code",
   "execution_count": 20,
   "id": "literary-gasoline",
   "metadata": {},
   "outputs": [
    {
     "name": "stdout",
     "output_type": "stream",
     "text": [
      "+--------------------+--------------------+--------------------+--------------------+--------------------+\n",
      "|                  v1|                  e1|                  v2|                  e2|                  v3|\n",
      "+--------------------+--------------------+--------------------+--------------------+--------------------+\n",
      "|   [V1, user, Paolo]|    [V1, V3, follow]|   [V3, user, David]|    [V3, V4, follow]|[V4, topic, Big D...|\n",
      "|   [V1, user, Paolo]|    [V1, V3, follow]|   [V3, user, David]|    [V3, V2, follow]|    [V2, topic, SQL]|\n",
      "|   [V1, user, Paolo]|    [V1, V4, follow]|[V4, topic, Big D...|[V4, V2, correlated]|    [V2, topic, SQL]|\n",
      "|   [V3, user, David]|    [V3, V2, follow]|    [V2, topic, SQL]|[V2, V4, correlated]|[V4, topic, Big D...|\n",
      "|   [V3, user, David]|    [V3, V4, follow]|[V4, topic, Big D...|[V4, V2, correlated]|    [V2, topic, SQL]|\n",
      "|    [V2, topic, SQL]|[V2, V4, correlated]|[V4, topic, Big D...|[V4, V2, correlated]|    [V2, topic, SQL]|\n",
      "|[V4, topic, Big D...|[V4, V2, correlated]|    [V2, topic, SQL]|[V2, V4, correlated]|[V4, topic, Big D...|\n",
      "+--------------------+--------------------+--------------------+--------------------+--------------------+\n",
      "\n"
     ]
    }
   ],
   "source": [
    "paths.show()"
   ]
  },
  {
   "cell_type": "code",
   "execution_count": 21,
   "id": "expired-behavior",
   "metadata": {},
   "outputs": [],
   "source": [
    "# Select now the triplets user\n",
    "selectedPath = paths.filter(\"\"\"v1.entityName='user'\n",
    "                                 AND e1.linktype='follow'\n",
    "                                 AND v2.entityName='topic'\n",
    "                                 AND e2.linktype='correlated'\n",
    "                                 AND v3.entityName='topic'\n",
    "                                 AND v3.name='Big Data' \"\"\")"
   ]
  },
  {
   "cell_type": "code",
   "execution_count": 22,
   "id": "charged-photographer",
   "metadata": {},
   "outputs": [
    {
     "name": "stdout",
     "output_type": "stream",
     "text": [
      "+-----------------+----------------+----------------+--------------------+---------------------+\n",
      "|v1               |e1              |v2              |e2                  |v3                   |\n",
      "+-----------------+----------------+----------------+--------------------+---------------------+\n",
      "|[V3, user, David]|[V3, V2, follow]|[V2, topic, SQL]|[V2, V4, correlated]|[V4, topic, Big Data]|\n",
      "+-----------------+----------------+----------------+--------------------+---------------------+\n",
      "\n"
     ]
    }
   ],
   "source": [
    "selectedPath.show(truncate=False)"
   ]
  },
  {
   "cell_type": "code",
   "execution_count": 24,
   "id": "arctic-italian",
   "metadata": {},
   "outputs": [
    {
     "name": "stdout",
     "output_type": "stream",
     "text": [
      "+--------+\n",
      "|username|\n",
      "+--------+\n",
      "|   David|\n",
      "+--------+\n",
      "\n"
     ]
    }
   ],
   "source": [
    "userDF = selectedPath\\\n",
    ".selectExpr('v1.name as username')\n",
    "\n",
    "userDF.show()"
   ]
  },
  {
   "cell_type": "code",
   "execution_count": null,
   "id": "burning-enterprise",
   "metadata": {},
   "outputs": [],
   "source": []
  }
 ],
 "metadata": {
  "kernelspec": {
   "display_name": "GraphFrames (Yarn)",
   "language": "python",
   "name": "graphframe_yarn"
  },
  "language_info": {
   "codemirror_mode": {
    "name": "ipython",
    "version": 3
   },
   "file_extension": ".py",
   "mimetype": "text/x-python",
   "name": "python",
   "nbconvert_exporter": "python",
   "pygments_lexer": "ipython3",
   "version": "3.7.9"
  }
 },
 "nbformat": 4,
 "nbformat_minor": 5
}
