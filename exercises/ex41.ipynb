{
 "cells": [
  {
   "cell_type": "code",
   "execution_count": 1,
   "id": "international-better",
   "metadata": {},
   "outputs": [],
   "source": [
    "# Exercise 41 - I want to store in the HDFS only the top k critical sensors"
   ]
  },
  {
   "cell_type": "code",
   "execution_count": 2,
   "id": "liquid-client",
   "metadata": {},
   "outputs": [
    {
     "data": {
      "text/html": [
       "\n",
       "        <div>\n",
       "            <p><b>SparkContext</b></p>\n",
       "\n",
       "            <p><a href=\"http://10.42.3.70:4049\">Spark UI</a></p>\n",
       "\n",
       "            <dl>\n",
       "              <dt>Version</dt>\n",
       "                <dd><code>v2.4.0-cdh6.2.1</code></dd>\n",
       "              <dt>Master</dt>\n",
       "                <dd><code>local[*]</code></dd>\n",
       "              <dt>AppName</dt>\n",
       "                <dd><code>pyspark-shell</code></dd>\n",
       "            </dl>\n",
       "        </div>\n",
       "        "
      ],
      "text/plain": [
       "<SparkContext master=local[*] appName=pyspark-shell>"
      ]
     },
     "execution_count": 2,
     "metadata": {},
     "output_type": "execute_result"
    }
   ],
   "source": [
    "sc"
   ]
  },
  {
   "cell_type": "code",
   "execution_count": 4,
   "id": "cosmetic-preview",
   "metadata": {},
   "outputs": [],
   "source": [
    "inputPath = \"/data/students/bigdata-01QYD/ex_data/Ex41/data/\"\n",
    "logRDD = sc.textFile(inputPath)"
   ]
  },
  {
   "cell_type": "code",
   "execution_count": 5,
   "id": "unable-school",
   "metadata": {},
   "outputs": [
    {
     "data": {
      "text/plain": [
       "['s1,2016-01-02,60.2', 's1,2016-01-03,55.5', 's2,2016-01-03,52.5']"
      ]
     },
     "execution_count": 5,
     "metadata": {},
     "output_type": "execute_result"
    }
   ],
   "source": [
    "over50RDD = logRDD.filter(lambda logline: float(logline.split(',')[2])>=50)\n",
    "over50RDD.collect()"
   ]
  },
  {
   "cell_type": "code",
   "execution_count": 6,
   "id": "existing-lindsay",
   "metadata": {},
   "outputs": [
    {
     "data": {
      "text/plain": [
       "[('s1', 2), ('s2', 1)]"
      ]
     },
     "execution_count": 6,
     "metadata": {},
     "output_type": "execute_result"
    }
   ],
   "source": [
    "sensorsOver50RDD = over50RDD.map(lambda sensor: (sensor.split(',')[0], 1))\n",
    "\n",
    "sensorCountRDD = sensorsOver50RDD.reduceByKey(lambda val1,val2: val1+val2)\n",
    "sortedSensorsRDD = sensorCountRDD.sortBy(lambda pair: pair[1],False) # False > Desc\n",
    "\n",
    "sortedSensorsRDD.collect()"
   ]
  },
  {
   "cell_type": "code",
   "execution_count": 8,
   "id": "impaired-consolidation",
   "metadata": {},
   "outputs": [
    {
     "name": "stdout",
     "output_type": "stream",
     "text": [
      "[('s1', 2)]\n"
     ]
    }
   ],
   "source": [
    "k = 1\n",
    "topk = sortedSensorsRDD.take(k)\n",
    "topkRDD = sc.parallelize(topk)\n",
    "# then save\n",
    "\n",
    "print(topk) # this is not an RDD"
   ]
  },
  {
   "cell_type": "code",
   "execution_count": 9,
   "id": "written-incident",
   "metadata": {},
   "outputs": [
    {
     "data": {
      "text/plain": [
       "[('s1', 2)]"
      ]
     },
     "execution_count": 9,
     "metadata": {},
     "output_type": "execute_result"
    }
   ],
   "source": [
    "# OR (more efficient)\n",
    "\n",
    "sortedSensorsRDD.top(1, lambda p: p[1])"
   ]
  },
  {
   "cell_type": "code",
   "execution_count": null,
   "id": "sharp-degree",
   "metadata": {},
   "outputs": [],
   "source": []
  }
 ],
 "metadata": {
  "kernelspec": {
   "display_name": "PySpark (Local)",
   "language": "python",
   "name": "pyspark_local"
  },
  "language_info": {
   "codemirror_mode": {
    "name": "ipython",
    "version": 3
   },
   "file_extension": ".py",
   "mimetype": "text/x-python",
   "name": "python",
   "nbconvert_exporter": "python",
   "pygments_lexer": "ipython3",
   "version": "3.7.9"
  }
 },
 "nbformat": 4,
 "nbformat_minor": 5
}
